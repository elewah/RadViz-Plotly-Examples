{
 "cells": [
  {
   "cell_type": "code",
   "execution_count": 1,
   "metadata": {},
   "outputs": [
    {
     "name": "stdout",
     "output_type": "stream",
     "text": [
      "Requirement already up-to-date: scikit-learn in c:\\py\\lib\\site-packages (1.1.3)\n",
      "Requirement already up-to-date: scipy in c:\\py\\lib\\site-packages (1.9.3)\n",
      "Requirement already up-to-date: matplotlib in c:\\py\\lib\\site-packages (3.6.2)\n",
      "Requirement already satisfied, skipping upgrade: joblib>=1.0.0 in c:\\py\\lib\\site-packages (from scikit-learn) (1.2.0)\n",
      "Requirement already satisfied, skipping upgrade: numpy>=1.17.3 in c:\\py\\lib\\site-packages (from scikit-learn) (1.23.5)\n",
      "Requirement already satisfied, skipping upgrade: threadpoolctl>=2.0.0 in c:\\py\\lib\\site-packages (from scikit-learn) (2.1.0)\n",
      "Requirement already satisfied, skipping upgrade: packaging>=20.0 in c:\\py\\lib\\site-packages (from matplotlib) (20.4)\n",
      "Requirement already satisfied, skipping upgrade: cycler>=0.10 in c:\\py\\lib\\site-packages (from matplotlib) (0.10.0)\n",
      "Requirement already satisfied, skipping upgrade: contourpy>=1.0.1 in c:\\py\\lib\\site-packages (from matplotlib) (1.0.6)\n",
      "Requirement already satisfied, skipping upgrade: python-dateutil>=2.7 in c:\\py\\lib\\site-packages (from matplotlib) (2.8.1)\n",
      "Requirement already satisfied, skipping upgrade: pyparsing>=2.2.1 in c:\\py\\lib\\site-packages (from matplotlib) (2.4.7)\n",
      "Requirement already satisfied, skipping upgrade: fonttools>=4.22.0 in c:\\py\\lib\\site-packages (from matplotlib) (4.38.0)\n",
      "Requirement already satisfied, skipping upgrade: kiwisolver>=1.0.1 in c:\\py\\lib\\site-packages (from matplotlib) (1.2.0)\n",
      "Requirement already satisfied, skipping upgrade: pillow>=6.2.0 in c:\\py\\lib\\site-packages (from matplotlib) (7.2.0)\n",
      "Requirement already satisfied, skipping upgrade: six in c:\\py\\lib\\site-packages (from packaging>=20.0->matplotlib) (1.15.0)\n",
      "Requirement already satisfied: RadViz-Plotly in c:\\py\\lib\\site-packages (0.0.5)\n"
     ]
    }
   ],
   "source": [
    "#Reference:https://stackoverflow.com/questions/12332975/installing-python-module-within-code\n",
    "def install_and_import(package):\n",
    "    import importlib\n",
    "    try:\n",
    "        importlib.import_module(package)\n",
    "    except ImportError:\n",
    "        import pip\n",
    "        pip.main(['install', package])\n",
    "    finally:\n",
    "        globals()[package] = importlib.import_module(package)\n",
    "\n",
    "\n",
    "install_and_import('plotly')\n",
    "install_and_import('numpy')\n",
    "install_and_import('pandas')\n",
    "install_and_import('matplotlib')\n",
    "# install_and_import('sklearn')\n",
    "# install_and_import('RadViz-Plotly')  this function doesn't work with the released packge\n",
    "!pip install -U scikit-learn scipy matplotlib\n",
    "!pip install RadViz-Plotly\n"
   ]
  },
  {
   "cell_type": "markdown",
   "metadata": {},
   "source": [
    "# Car Evaluation Dataset\n",
    "\n",
    "### Labels: Car acceptability Class Values: unacceptable, acceptable, good, vgood"
   ]
  },
  {
   "cell_type": "code",
   "execution_count": null,
   "metadata": {},
   "outputs": [],
   "source": [
    "#BreastCancer\n",
    "from radviz_plotly import RadViz2D\n",
    "from radviz_plotly import RadViz3D\n",
    "import pandas as pd\n",
    "import time\n",
    "from sklearn import preprocessing\n",
    "import plotly.io as pio\n",
    "pio.renderers.default='iframe'"
   ]
  },
  {
   "cell_type": "code",
   "execution_count": 3,
   "metadata": {},
   "outputs": [
    {
     "name": "stderr",
     "output_type": "stream",
     "text": [
      "<ipython-input-3-0eed4d56a156>:11: SettingWithCopyWarning:\n",
      "\n",
      "\n",
      "A value is trying to be set on a copy of a slice from a DataFrame.\n",
      "Try using .loc[row_indexer,col_indexer] = value instead\n",
      "\n",
      "See the caveats in the documentation: https://pandas.pydata.org/pandas-docs/stable/user_guide/indexing.html#returning-a-view-versus-a-copy\n",
      "\n"
     ]
    }
   ],
   "source": [
    "data= pd.read_csv('car_evaluation.csv')\n",
    "data1 = data.iloc[:,:-1] \n",
    "data2 = data['decision']\n",
    "\n",
    "# label_encoder object knows how to understand word labels. \n",
    "label_encoder = preprocessing.LabelEncoder()\n",
    "\n",
    "\n",
    "for f in data1.columns:\n",
    "    if (data1[f].dtype == 'object'):\n",
    "        data1[f]= label_encoder.fit_transform(data1[f])   \n",
    "        \n",
    "data1 = pd.DataFrame(data=data1)\n",
    "data2 = pd.DataFrame(data=data2)\n",
    "data_final = pd.concat([data2,data1],axis=1)\n",
    "data_final.head()\n",
    "\n",
    "y=data_final['decision']\n",
    "X=data_final.drop(['decision'], axis=1)"
   ]
  },
  {
   "cell_type": "code",
   "execution_count": 4,
   "metadata": {},
   "outputs": [
    {
     "data": {
      "text/html": [
       "<iframe\n",
       "    scrolling=\"no\"\n",
       "    width=\"100%\"\n",
       "    height=\"545px\"\n",
       "    src=\"iframe_figures/figure_4.html\"\n",
       "    frameborder=\"0\"\n",
       "    allowfullscreen\n",
       "></iframe>\n"
      ]
     },
     "metadata": {},
     "output_type": "display_data"
    },
    {
     "name": "stdout",
     "output_type": "stream",
     "text": [
      "RadViz3D done! Time elapsed: 1.1597497463226318 seconds\n"
     ]
    }
   ],
   "source": [
    "BPs=10000\n",
    "time_start = time.time()\n",
    "RadViz3D(y,X,BPs)\n",
    "print( 'RadViz3D done! Time elapsed: {} seconds'.format(time.time()-time_start))"
   ]
  },
  {
   "cell_type": "code",
   "execution_count": 5,
   "metadata": {},
   "outputs": [
    {
     "data": {
      "text/html": [
       "<iframe\n",
       "    scrolling=\"no\"\n",
       "    width=\"1020px\"\n",
       "    height=\"1020\"\n",
       "    src=\"iframe_figures/figure_5.html\"\n",
       "    frameborder=\"0\"\n",
       "    allowfullscreen\n",
       "></iframe>\n"
      ]
     },
     "metadata": {},
     "output_type": "display_data"
    },
    {
     "name": "stdout",
     "output_type": "stream",
     "text": [
      "RadViz2D done! Time elapsed: 0.836838960647583 seconds\n"
     ]
    }
   ],
   "source": [
    "BPs=1000\n",
    "time_start = time.time()\n",
    "RadViz2D(y,X,BPs)\n",
    "print( 'RadViz2D done! Time elapsed: {} seconds'.format(time.time()-time_start))"
   ]
  }
 ],
 "metadata": {
  "kernelspec": {
   "display_name": "Python 3",
   "language": "python",
   "name": "python3"
  },
  "language_info": {
   "codemirror_mode": {
    "name": "ipython",
    "version": 3
   },
   "file_extension": ".py",
   "mimetype": "text/x-python",
   "name": "python",
   "nbconvert_exporter": "python",
   "pygments_lexer": "ipython3",
   "version": "3.8.3"
  }
 },
 "nbformat": 4,
 "nbformat_minor": 2
}
