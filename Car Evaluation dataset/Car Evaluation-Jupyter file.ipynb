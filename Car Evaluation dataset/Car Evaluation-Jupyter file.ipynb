{
 "cells": [
  {
   "cell_type": "code",
   "execution_count": null,
   "metadata": {},
   "outputs": [
    {
     "name": "stdout",
     "output_type": "stream",
     "text": [
      "Requirement already satisfied: RadViz-Plotly in c:\\users\\100775689\\appdata\\local\\programs\\python\\python313\\lib\\site-packages (0.1.3)\n",
      "Requirement already satisfied: plotly<7.0.0,>=6.0.1 in c:\\users\\100775689\\appdata\\local\\programs\\python\\python313\\lib\\site-packages (from RadViz-Plotly) (6.0.1)\n",
      "Requirement already satisfied: narwhals>=1.15.1 in c:\\users\\100775689\\appdata\\local\\programs\\python\\python313\\lib\\site-packages (from plotly<7.0.0,>=6.0.1->RadViz-Plotly) (1.31.0)\n",
      "Requirement already satisfied: packaging in c:\\users\\100775689\\appdata\\roaming\\python\\python313\\site-packages (from plotly<7.0.0,>=6.0.1->RadViz-Plotly) (24.2)\n"
     ]
    }
   ],
   "source": [
    "#Reference:https://stackoverflow.com/questions/12332975/installing-python-module-within-code\n",
    "def install_and_import(package):\n",
    "    import importlib\n",
    "    try:\n",
    "        importlib.import_module(package)\n",
    "    except ImportError:\n",
    "        import pip\n",
    "        pip.main(['install', package])\n",
    "    finally:\n",
    "        globals()[package] = importlib.import_module(package)\n",
    "\n",
    "\n",
    "install_and_import('plotly')\n",
    "install_and_import('numpy')\n",
    "install_and_import('pandas')\n",
    "install_and_import('matplotlib')\n",
    "# install_and_import('sklearn')\n",
    "# install_and_import('RadViz-Plotly')  this function doesn't work with the released packge\n",
    "!pip install -U scikit-learn scipy matplotlib\n",
    "!pip install RadViz-Plotly\n"
   ]
  },
  {
   "cell_type": "markdown",
   "metadata": {},
   "source": [
    "# Car Evaluation Dataset\n",
    "\n",
    "### Labels: Car acceptability Class Values: unacceptable, acceptable, good, vgood"
   ]
  },
  {
   "cell_type": "code",
   "execution_count": null,
   "metadata": {},
   "outputs": [],
   "source": [
    "#BreastCancer\n",
    "from radviz_plotly import RadViz2D\n",
    "from radviz_plotly import RadViz3D\n",
    "import pandas as pd\n",
    "import time\n",
    "from sklearn import preprocessing\n",
    "import plotly.io as pio\n",
    "pio.renderers.default='iframe'"
   ]
  },
  {
   "cell_type": "code",
   "execution_count": 3,
   "metadata": {},
   "outputs": [
    {
     "name": "stderr",
     "output_type": "stream",
     "text": [
      "C:\\Users\\100775689\\AppData\\Local\\Temp\\ipykernel_5984\\1940797469.py:11: SettingWithCopyWarning: \n",
      "A value is trying to be set on a copy of a slice from a DataFrame.\n",
      "Try using .loc[row_indexer,col_indexer] = value instead\n",
      "\n",
      "See the caveats in the documentation: https://pandas.pydata.org/pandas-docs/stable/user_guide/indexing.html#returning-a-view-versus-a-copy\n",
      "  data1[f]= label_encoder.fit_transform(data1[f])\n",
      "C:\\Users\\100775689\\AppData\\Local\\Temp\\ipykernel_5984\\1940797469.py:11: SettingWithCopyWarning: \n",
      "A value is trying to be set on a copy of a slice from a DataFrame.\n",
      "Try using .loc[row_indexer,col_indexer] = value instead\n",
      "\n",
      "See the caveats in the documentation: https://pandas.pydata.org/pandas-docs/stable/user_guide/indexing.html#returning-a-view-versus-a-copy\n",
      "  data1[f]= label_encoder.fit_transform(data1[f])\n",
      "C:\\Users\\100775689\\AppData\\Local\\Temp\\ipykernel_5984\\1940797469.py:11: SettingWithCopyWarning: \n",
      "A value is trying to be set on a copy of a slice from a DataFrame.\n",
      "Try using .loc[row_indexer,col_indexer] = value instead\n",
      "\n",
      "See the caveats in the documentation: https://pandas.pydata.org/pandas-docs/stable/user_guide/indexing.html#returning-a-view-versus-a-copy\n",
      "  data1[f]= label_encoder.fit_transform(data1[f])\n",
      "C:\\Users\\100775689\\AppData\\Local\\Temp\\ipykernel_5984\\1940797469.py:11: SettingWithCopyWarning: \n",
      "A value is trying to be set on a copy of a slice from a DataFrame.\n",
      "Try using .loc[row_indexer,col_indexer] = value instead\n",
      "\n",
      "See the caveats in the documentation: https://pandas.pydata.org/pandas-docs/stable/user_guide/indexing.html#returning-a-view-versus-a-copy\n",
      "  data1[f]= label_encoder.fit_transform(data1[f])\n",
      "C:\\Users\\100775689\\AppData\\Local\\Temp\\ipykernel_5984\\1940797469.py:11: SettingWithCopyWarning: \n",
      "A value is trying to be set on a copy of a slice from a DataFrame.\n",
      "Try using .loc[row_indexer,col_indexer] = value instead\n",
      "\n",
      "See the caveats in the documentation: https://pandas.pydata.org/pandas-docs/stable/user_guide/indexing.html#returning-a-view-versus-a-copy\n",
      "  data1[f]= label_encoder.fit_transform(data1[f])\n",
      "C:\\Users\\100775689\\AppData\\Local\\Temp\\ipykernel_5984\\1940797469.py:11: SettingWithCopyWarning: \n",
      "A value is trying to be set on a copy of a slice from a DataFrame.\n",
      "Try using .loc[row_indexer,col_indexer] = value instead\n",
      "\n",
      "See the caveats in the documentation: https://pandas.pydata.org/pandas-docs/stable/user_guide/indexing.html#returning-a-view-versus-a-copy\n",
      "  data1[f]= label_encoder.fit_transform(data1[f])\n"
     ]
    }
   ],
   "source": [
    "data= pd.read_csv('car_evaluation.csv')\n",
    "data1 = data.iloc[:,:-1] \n",
    "data2 = data['decision']\n",
    "\n",
    "# label_encoder object knows how to understand word labels. \n",
    "label_encoder = preprocessing.LabelEncoder()\n",
    "\n",
    "\n",
    "for f in data1.columns:\n",
    "    if (data1[f].dtype == 'object'):\n",
    "        data1[f]= label_encoder.fit_transform(data1[f])   \n",
    "        \n",
    "data1 = pd.DataFrame(data=data1)\n",
    "data2 = pd.DataFrame(data=data2)\n",
    "data_final = pd.concat([data2,data1],axis=1)\n",
    "data_final.head()\n",
    "\n",
    "y=data_final['decision']\n",
    "X=data_final.drop(['decision'], axis=1)"
   ]
  },
  {
   "cell_type": "code",
   "execution_count": 4,
   "metadata": {},
   "outputs": [
    {
     "data": {
      "application/vnd.plotly.v1+json": {
       "config": {
        "plotlyServerURL": "https://plot.ly"
       },
       "data": [
        {
         "hovertemplate": "label=Anchors' Names<br>x=%{x}<br>y=%{y}<br>z=%{z}<br>AnchorsLabel=%{text}<extra></extra>",
         "legendgroup": "Anchors' Names",
         "marker": {
          "color": "#EF553B",
          "symbol": "circle"
         },
         "mode": "markers+text",
         "name": "Anchors' Names",
         "scene": "scene",
         "showlegend": true,
         "text": [
          "buying price",
          "maintenance cost",
          "number of doors",
          "number of persons",
          "lug_boot",
          "safety"
         ],
         "type": "scatter3d",
         "x": {
          "bdata": "wOeHEcKjyT84onvWNdrov5Y+dEF9S+4/nIaowp9h4L+sOUAwR4/Fv4hLjjulg9w/",
          "dtype": "f8"
         },
         "y": {
          "bdata": "P8bctYR84L8/x0eLM4bYPyJTPgRVo9E/y0v+J3/36r+4BUt1AS/rPxDqIoWy8NS/",
          "dtype": "f8"
         },
         "z": {
          "bdata": "o66196mq6j8AAAAAAADgP3RFKSFYVcU/dEUpIVhVxb8AAAAAAADgv6Outfepquq/",
          "dtype": "f8"
         }
        },
        {
         "hovertemplate": "label=unacc<br>x=%{x}<br>y=%{y}<br>z=%{z}<br>AnchorsLabel=%{text}<extra></extra>",
         "legendgroup": "unacc",
         "marker": {
          "color": "#00CC96",
          "symbol": "circle"
         },
         "mode": "markers+text",
         "name": "unacc",
         "scene": "scene",
         "showlegend": true,
         "text": [
          "",
          "",
          "",
          "",
          "",
          "",
          "",
          "",
          "",
          "",
          "",
          "",
          "",
          "",
          "",
          "",
          "",
          "",
          "",
          "",
          "",
          "",
          "",
          "",
          "",
          "",
          "",
          "",
          "",
          "",
          "",
          "",
          "",
          "",
          "",
          "",
          "",
          "",
          "",
          "",
          "",
          "",
          "",
          "",
          "",
          "",
          "",
          "",
          "",
          "",
          "",
          "",
          "",
          "",
          "",
          "",
          "",
          "",
          "",
          "",
          "",
          "",
          "",
          "",
          "",
          "",
          "",
          "",
          "",
          "",
          "",
          "",
          "",
          "",
          "",
          "",
          "",
          "",
          "",
          "",
          "",
          "",
          "",
          "",
          "",
          "",
          "",
          "",
          "",
          "",
          "",
          "",
          "",
          "",
          "",
          "",
          "",
          "",
          "",
          "",
          "",
          "",
          "",
          "",
          "",
          "",
          "",
          "",
          "",
          "",
          "",
          "",
          "",
          "",
          "",
          "",
          "",
          "",
          "",
          "",
          "",
          "",
          "",
          "",
          "",
          "",
          "",
          "",
          "",
          "",
          "",
          "",
          "",
          "",
          "",
          "",
          "",
          "",
          "",
          "",
          "",
          "",
          "",
          "",
          "",
          "",
          "",
          "",
          "",
          "",
          "",
          "",
          "",
          "",
          "",
          "",
          "",
          "",
          "",
          "",
          "",
          "",
          "",
          "",
          "",
          "",
          "",
          "",
          "",
          "",
          "",
          "",
          "",
          "",
          "",
          "",
          "",
          "",
          "",
          "",
          "",
          "",
          "",
          "",
          "",
          "",
          "",
          "",
          "",
          "",
          "",
          "",
          "",
          "",
          "",
          "",
          "",
          "",
          "",
          "",
          "",
          "",
          "",
          "",
          "",
          "",
          "",
          "",
          "",
          "",
          "",
          "",
          "",
          "",
          "",
          "",
          "",
          "",
          "",
          "",
          "",
          "",
          "",
          "",
          "",
          "",
          "",
          "",
          "",
          "",
          "",
          "",
          "",
          "",
          "",
          "",
          "",
          "",
          "",
          "",
          "",
          "",
          "",
          "",
          "",
          "",
          "",
          "",
          "",
          "",
          "",
          "",
          "",
          "",
          "",
          "",
          "",
          "",
          "",
          "",
          "",
          "",
          "",
          "",
          "",
          "",
          "",
          "",
          "",
          "",
          "",
          "",
          "",
          "",
          "",
          "",
          "",
          "",
          "",
          "",
          "",
          "",
          "",
          "",
          "",
          "",
          "",
          "",
          "",
          "",
          "",
          "",
          "",
          "",
          "",
          "",
          "",
          "",
          "",
          "",
          "",
          "",
          "",
          "",
          "",
          "",
          "",
          "",
          "",
          "",
          "",
          "",
          "",
          "",
          "",
          "",
          "",
          "",
          "",
          "",
          "",
          "",
          "",
          "",
          "",
          "",
          "",
          "",
          "",
          "",
          "",
          "",
          "",
          "",
          "",
          "",
          "",
          "",
          "",
          "",
          "",
          "",
          "",
          "",
          "",
          "",
          "",
          "",
          "",
          "",
          "",
          "",
          "",
          "",
          "",
          "",
          "",
          "",
          "",
          "",
          "",
          "",
          "",
          "",
          "",
          "",
          "",
          "",
          "",
          "",
          "",
          "",
          "",
          "",
          "",
          "",
          "",
          "",
          "",
          "",
          "",
          "",
          "",
          "",
          "",
          "",
          "",
          "",
          "",
          "",
          "",
          "",
          "",
          "",
          "",
          "",
          "",
          "",
          "",
          "",
          "",
          "",
          "",
          "",
          "",
          "",
          "",
          "",
          "",
          "",
          "",
          "",
          "",
          "",
          "",
          "",
          "",
          "",
          "",
          "",
          "",
          "",
          "",
          "",
          "",
          "",
          "",
          "",
          "",
          "",
          "",
          "",
          "",
          "",
          "",
          "",
          "",
          "",
          "",
          "",
          "",
          "",
          "",
          "",
          "",
          "",
          "",
          "",
          "",
          "",
          "",
          "",
          "",
          "",
          "",
          "",
          "",
          "",
          "",
          "",
          "",
          "",
          "",
          "",
          "",
          "",
          "",
          "",
          "",
          "",
          "",
          "",
          "",
          "",
          "",
          "",
          "",
          "",
          "",
          "",
          "",
          "",
          "",
          "",
          "",
          "",
          "",
          "",
          "",
          "",
          "",
          "",
          "",
          "",
          "",
          "",
          "",
          "",
          "",
          "",
          "",
          "",
          "",
          "",
          "",
          "",
          "",
          "",
          "",
          "",
          "",
          "",
          "",
          "",
          "",
          "",
          "",
          "",
          "",
          "",
          "",
          "",
          "",
          "",
          "",
          "",
          "",
          "",
          "",
          "",
          "",
          "",
          "",
          "",
          "",
          "",
          "",
          "",
          "",
          "",
          "",
          "",
          "",
          "",
          "",
          "",
          "",
          "",
          "",
          "",
          "",
          "",
          "",
          "",
          "",
          "",
          "",
          "",
          "",
          "",
          "",
          "",
          "",
          "",
          "",
          "",
          "",
          "",
          "",
          "",
          "",
          "",
          "",
          "",
          "",
          "",
          "",
          "",
          "",
          "",
          "",
          "",
          "",
          "",
          "",
          "",
          "",
          "",
          "",
          "",
          "",
          "",
          "",
          "",
          "",
          "",
          "",
          "",
          "",
          "",
          "",
          "",
          "",
          "",
          "",
          "",
          "",
          "",
          "",
          "",
          "",
          "",
          "",
          "",
          "",
          "",
          "",
          "",
          "",
          "",
          "",
          "",
          "",
          "",
          "",
          "",
          "",
          "",
          "",
          "",
          "",
          "",
          "",
          "",
          "",
          "",
          "",
          "",
          "",
          "",
          "",
          "",
          "",
          "",
          "",
          "",
          "",
          "",
          "",
          "",
          "",
          "",
          "",
          "",
          "",
          "",
          "",
          "",
          "",
          "",
          "",
          "",
          "",
          "",
          "",
          "",
          "",
          "",
          "",
          "",
          "",
          "",
          "",
          "",
          "",
          "",
          "",
          "",
          "",
          "",
          "",
          "",
          "",
          "",
          "",
          "",
          "",
          "",
          "",
          "",
          "",
          "",
          "",
          "",
          "",
          "",
          "",
          "",
          "",
          "",
          "",
          "",
          "",
          "",
          "",
          "",
          "",
          "",
          "",
          "",
          "",
          "",
          "",
          "",
          "",
          "",
          "",
          "",
          "",
          "",
          "",
          "",
          "",
          "",
          "",
          "",
          "",
          "",
          "",
          "",
          "",
          "",
          "",
          "",
          "",
          "",
          "",
          "",
          "",
          "",
          "",
          "",
          "",
          "",
          "",
          "",
          "",
          "",
          "",
          "",
          "",
          "",
          "",
          "",
          "",
          "",
          "",
          "",
          "",
          "",
          "",
          "",
          "",
          "",
          "",
          "",
          "",
          "",
          "",
          "",
          "",
          "",
          "",
          "",
          "",
          "",
          "",
          "",
          "",
          "",
          "",
          "",
          "",
          "",
          "",
          "",
          "",
          "",
          "",
          "",
          "",
          "",
          "",
          "",
          "",
          "",
          "",
          "",
          "",
          "",
          "",
          "",
          "",
          "",
          "",
          "",
          "",
          "",
          "",
          "",
          "",
          "",
          "",
          "",
          "",
          "",
          "",
          "",
          "",
          "",
          "",
          "",
          "",
          "",
          "",
          "",
          "",
          "",
          "",
          "",
          "",
          "",
          "",
          "",
          "",
          "",
          "",
          "",
          "",
          "",
          "",
          "",
          "",
          "",
          "",
          "",
          "",
          "",
          "",
          "",
          "",
          "",
          "",
          "",
          "",
          "",
          "",
          "",
          "",
          "",
          "",
          "",
          "",
          "",
          "",
          "",
          "",
          "",
          "",
          "",
          "",
          "",
          "",
          "",
          "",
          "",
          "",
          "",
          "",
          "",
          "",
          "",
          "",
          "",
          "",
          "",
          "",
          "",
          "",
          "",
          "",
          "",
          "",
          "",
          "",
          "",
          "",
          "",
          "",
          "",
          "",
          "",
          "",
          "",
          "",
          "",
          "",
          "",
          "",
          "",
          "",
          "",
          "",
          "",
          "",
          "",
          "",
          "",
          "",
          "",
          "",
          "",
          "",
          "",
          "",
          "",
          "",
          "",
          "",
          "",
          "",
          "",
          "",
          "",
          "",
          "",
          "",
          "",
          "",
          "",
          "",
          "",
          "",
          "",
          "",
          "",
          "",
          "",
          "",
          "",
          "",
          "",
          "",
          "",
          "",
          "",
          "",
          "",
          "",
          "",
          "",
          "",
          "",
          "",
          "",
          "",
          "",
          "",
          "",
          "",
          "",
          "",
          "",
          "",
          "",
          "",
          "",
          "",
          "",
          "",
          "",
          "",
          "",
          "",
          "",
          "",
          "",
          "",
          "",
          "",
          "",
          "",
          "",
          "",
          "",
          "",
          "",
          "",
          "",
          "",
          "",
          "",
          "",
          "",
          "",
          "",
          "",
          "",
          "",
          "",
          "",
          "",
          "",
          "",
          "",
          "",
          "",
          "",
          "",
          "",
          "",
          "",
          "",
          "",
          "",
          "",
          "",
          "",
          "",
          "",
          "",
          "",
          "",
          "",
          "",
          "",
          "",
          "",
          "",
          "",
          "",
          "",
          "",
          "",
          "",
          "",
          "",
          "",
          "",
          "",
          "",
          "",
          "",
          "",
          "",
          "",
          "",
          "",
          "",
          "",
          "",
          "",
          "",
          "",
          "",
          "",
          "",
          "",
          "",
          "",
          "",
          "",
          "",
          "",
          "",
          "",
          "",
          "",
          "",
          "",
          "",
          "",
          "",
          "",
          "",
          "",
          "",
          "",
          "",
          "",
          "",
          "",
          "",
          "",
          "",
          "",
          "",
          "",
          "",
          "",
          "",
          "",
          "",
          "",
          "",
          "",
          "",
          "",
          "",
          "",
          "",
          "",
          "",
          "",
          "",
          "",
          "",
          "",
          "",
          "",
          "",
          "",
          "",
          "",
          "",
          "",
          "",
          "",
          "",
          "",
          "",
          "",
          "",
          "",
          "",
          "",
          "",
          "",
          "",
          "",
          "",
          "",
          "",
          "",
          "",
          "",
          "",
          "",
          "",
          "",
          "",
          "",
          "",
          "",
          "",
          "",
          "",
          "",
          "",
          "",
          "",
          "",
          "",
          "",
          "",
          "",
          "",
          "",
          "",
          "",
          "",
          "",
          "",
          "",
          "",
          "",
          "",
          "",
          "",
          "",
          "",
          "",
          "",
          "",
          "",
          "",
          "",
          "",
          "",
          "",
          "",
          "",
          "",
          "",
          "",
          "",
          "",
          "",
          "",
          "",
          "",
          "",
          "",
          "",
          "",
          "",
          "",
          "",
          "",
          ""
         ],
         "type": "scatter3d",
         "x": {
          "bdata": "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",
          "dtype": "f8"
         },
         "y": {
          "bdata": "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",
          "dtype": "f8"
         },
         "z": {
          "bdata": "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",
          "dtype": "f8"
         }
        },
        {
         "hovertemplate": "label=acc<br>x=%{x}<br>y=%{y}<br>z=%{z}<br>AnchorsLabel=%{text}<extra></extra>",
         "legendgroup": "acc",
         "marker": {
          "color": "#AB63FA",
          "symbol": "circle"
         },
         "mode": "markers+text",
         "name": "acc",
         "scene": "scene",
         "showlegend": true,
         "text": [
          "",
          "",
          "",
          "",
          "",
          "",
          "",
          "",
          "",
          "",
          "",
          "",
          "",
          "",
          "",
          "",
          "",
          "",
          "",
          "",
          "",
          "",
          "",
          "",
          "",
          "",
          "",
          "",
          "",
          "",
          "",
          "",
          "",
          "",
          "",
          "",
          "",
          "",
          "",
          "",
          "",
          "",
          "",
          "",
          "",
          "",
          "",
          "",
          "",
          "",
          "",
          "",
          "",
          "",
          "",
          "",
          "",
          "",
          "",
          "",
          "",
          "",
          "",
          "",
          "",
          "",
          "",
          "",
          "",
          "",
          "",
          "",
          "",
          "",
          "",
          "",
          "",
          "",
          "",
          "",
          "",
          "",
          "",
          "",
          "",
          "",
          "",
          "",
          "",
          "",
          "",
          "",
          "",
          "",
          "",
          "",
          "",
          "",
          "",
          "",
          "",
          "",
          "",
          "",
          "",
          "",
          "",
          "",
          "",
          "",
          "",
          "",
          "",
          "",
          "",
          "",
          "",
          "",
          "",
          "",
          "",
          "",
          "",
          "",
          "",
          "",
          "",
          "",
          "",
          "",
          "",
          "",
          "",
          "",
          "",
          "",
          "",
          "",
          "",
          "",
          "",
          "",
          "",
          "",
          "",
          "",
          "",
          "",
          "",
          "",
          "",
          "",
          "",
          "",
          "",
          "",
          "",
          "",
          "",
          "",
          "",
          "",
          "",
          "",
          "",
          "",
          "",
          "",
          "",
          "",
          "",
          "",
          "",
          "",
          "",
          "",
          "",
          "",
          "",
          "",
          "",
          "",
          "",
          "",
          "",
          "",
          "",
          "",
          "",
          "",
          "",
          "",
          "",
          "",
          "",
          "",
          "",
          "",
          "",
          "",
          "",
          "",
          "",
          "",
          "",
          "",
          "",
          "",
          "",
          "",
          "",
          "",
          "",
          "",
          "",
          "",
          "",
          "",
          "",
          "",
          "",
          "",
          "",
          "",
          "",
          "",
          "",
          "",
          "",
          "",
          "",
          "",
          "",
          "",
          "",
          "",
          "",
          "",
          "",
          "",
          "",
          "",
          "",
          "",
          "",
          "",
          "",
          "",
          "",
          "",
          "",
          "",
          "",
          "",
          "",
          "",
          "",
          "",
          "",
          "",
          "",
          "",
          "",
          "",
          "",
          "",
          "",
          "",
          "",
          "",
          "",
          "",
          "",
          "",
          "",
          "",
          "",
          "",
          "",
          "",
          "",
          "",
          "",
          "",
          "",
          "",
          "",
          "",
          "",
          "",
          "",
          "",
          "",
          "",
          "",
          "",
          "",
          "",
          "",
          "",
          "",
          "",
          "",
          "",
          "",
          "",
          "",
          "",
          "",
          "",
          "",
          "",
          "",
          "",
          "",
          "",
          "",
          "",
          "",
          "",
          "",
          "",
          "",
          "",
          "",
          "",
          "",
          "",
          "",
          "",
          "",
          "",
          "",
          "",
          "",
          "",
          "",
          "",
          "",
          "",
          "",
          "",
          "",
          "",
          "",
          "",
          "",
          "",
          "",
          "",
          "",
          "",
          "",
          "",
          "",
          "",
          "",
          "",
          "",
          "",
          "",
          "",
          "",
          "",
          "",
          "",
          "",
          "",
          "",
          "",
          "",
          "",
          "",
          "",
          "",
          "",
          "",
          "",
          "",
          "",
          "",
          "",
          "",
          ""
         ],
         "type": "scatter3d",
         "x": {
          "bdata": "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",
          "dtype": "f8"
         },
         "y": {
          "bdata": "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",
          "dtype": "f8"
         },
         "z": {
          "bdata": "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",
          "dtype": "f8"
         }
        },
        {
         "hovertemplate": "label=vgood<br>x=%{x}<br>y=%{y}<br>z=%{z}<br>AnchorsLabel=%{text}<extra></extra>",
         "legendgroup": "vgood",
         "marker": {
          "color": "#FFA15A",
          "symbol": "circle"
         },
         "mode": "markers+text",
         "name": "vgood",
         "scene": "scene",
         "showlegend": true,
         "text": [
          "",
          "",
          "",
          "",
          "",
          "",
          "",
          "",
          "",
          "",
          "",
          "",
          "",
          "",
          "",
          "",
          "",
          "",
          "",
          "",
          "",
          "",
          "",
          "",
          "",
          "",
          "",
          "",
          "",
          "",
          "",
          "",
          "",
          "",
          "",
          "",
          "",
          "",
          "",
          "",
          "",
          "",
          "",
          "",
          "",
          "",
          "",
          "",
          "",
          "",
          "",
          "",
          "",
          "",
          "",
          "",
          "",
          "",
          "",
          "",
          "",
          "",
          "",
          "",
          ""
         ],
         "type": "scatter3d",
         "x": {
          "bdata": "FduFMRVZ1r+L0wxoZ5TYv1KHOD85LcO/c0GbGQPfyr/nUlxV9t3Lv4vRNxpe1J+/mixIxZGZbb9Qa4O/yoq5v08/Wc/UnLa/7qJDOwITsT90PWb8V7K7PwPgLZCg+IG/Afz+zYsTjz/kURcWyUTQv7nA5bFmZNS/gZCjo/1aor85ZoKKU1bCv1eUkAuNpcG/k943vvbMrz+XoxjaLoW9P9oIsom9NZ2/AKAYWTLHYr+doiO5/IfEP3ibN04K88w/Wlgz8Yx5sD9N+nspPGi6P17mKswxD82/8szLYfdd1b/S/PBxabu7P9gUDo+sQrm/S8VrAxzns78LZc4gK+XGP/lMlEhT29I/MC55YCTYpD+02WtUus63P+eqeY7Id9I/vVWMx85x2j8tb1Fwu9rCP6SlcAC8g8s/oOxAsL0p3r/G9IQlHtDev5r4LGU4U8u/CIWi2kGG0L/uv1DEY8HRv75Zg/dVua6/mmBm8LHpob/pZ+T/dtDAvylhpu1f2b+/gB/oeyCMqj+Sw3EqY424P1sx4oBZYJ2/wLJzrdAadr+L0wxoZ5TYv3J+1HDbCNu/Tz9Zz9Sctr+ecC59ZzPIv1r+aZBv3Mi/OwypYT2xpT/gsuspZZC5P8Y154mQY6y/3WjDIC78n7/5GRcOhOTDP/dAKzBkdc0/umEColGfqT+nf0kqU0y3Pw==",
          "dtype": "f8"
         },
         "y": {
          "bdata": "+hO0fgfI0b8vMGhiPIfZvyfNzugZqsi/NJBPvx29wL/EX5M16iHUv7WWjX896qA/w73E6iGswL918eWt5JG3v6nQorMb38+/jrCXXHtVrT/QNpjnIh+1vzuKeC9Qxa6/xkQ5hyEoyb+VfQhIvy7bvwrCAoVn7+C/LoaeC40I07/usUureHrIvw7T+wcTg9q/wPYhb7n6hb8copbDhcjKv6aoGx8/MMK/SI50Bkb+1L+QQkOdfZaVPzFU2B87gsK/yaNvZ3Yxur8D5+6vbbPQv8d8ii1Oxua/aep1i8BY6L/udY+t6X7bvyUitukgac2/nRlYIqu24b/gpQ2HpYF/P7FlDIZNd9G/sEue/CfJxL8qcoi4OZXav1rVUVOOiKc/uLZaCL0qxr8I9erZaWG8v0ToIsIARNS/89UsW5zPzL8g9i82mknYv+ntsNSmKMG/77SHDz7mtb+Govt2U0zSvwZrnE1HALo/nNVTZQ0vsr8gQfSe1lWov6DHKM+8nMu/2/U0nIHzvj9NVUhnzmiZvyA0Z+iIKJG/artrReqfxL8vMGhiPIfZvzTBcK5hBuG/qdCisxvfz79CtYrHDvPCvyU0XPdpb9m/WOzuf0Nnrz9Q0oXusanDv/1UufTTI7m/ZUWPHCpI07/4sBcK2I62P4Z/4xrla7a/6aIkHlwirr+nJOtwdFXNvw==",
          "dtype": "f8"
         },
         "z": {
          "bdata": "0Awt3gYf3D8OHij0O8/TPxvVxm+Wb9k/ZJ/uJ1RVxT+jrrX3qarSP8PJI6XGccw/20XiL3d31z8Do8+IVFXFPxcfefobx9E/8CLxl7u7yz+rMujg9fXVP11u19hUVcU/dd97yRAR0T+oDze6XULbPw8jhEcbx9E/Tc0w4Q4+2D+NG3T/TlDAP99ZPWQLw9A/+kLIef//xz8k7o4jYifWPwMF2FOT18A/9IWQ8/7/zz940UTFJbTHPxXkwtxJn9Q/xfLryBNFwT/lRRMVl9DOP7/tCRLb3c0/F3WtvU9VtT9hK6WotW3LPzqAOD1AsaO/QUabPpaZuT+w0Tk/xXGcP51NNDX2Eso/jVv0BHjBhr+y0Tk/xXG8P2o45+SGYag/lh141E02yT8EQaPQDhSEP0019NHmeb4/YBdY2ryE1j+y0Tk/xXHMP82NNOQWXdQ/ckdMnZSWtj9hK6WotW3LP6lr7X2qqsI/LQdX1y3f0j9I1YL/pLO4P6Outfepqso/MNll5YT2wj9QgqOJHMfRPw6FEBKmabo/nU00NfYSyj8OHij0O8/TP3HIqxhTVcU/Fx95+hvH0T9G972XDBGhP0Zda+9TVcU/8KwesoVhuD9MTjjnHnzQP5SvYHcWGak/BKPPiFRVxT+wKCUEq6q6P21APhbzLc8/E0GrrkZwrz9S19r7VFXFPw==",
          "dtype": "f8"
         }
        },
        {
         "hovertemplate": "label=good<br>x=%{x}<br>y=%{y}<br>z=%{z}<br>AnchorsLabel=%{text}<extra></extra>",
         "legendgroup": "good",
         "marker": {
          "color": "#19D3F3",
          "symbol": "circle"
         },
         "mode": "markers+text",
         "name": "good",
         "scene": "scene",
         "showlegend": true,
         "text": [
          "",
          "",
          "",
          "",
          "",
          "",
          "",
          "",
          "",
          "",
          "",
          "",
          "",
          "",
          "",
          "",
          "",
          "",
          "",
          "",
          "",
          "",
          "",
          "",
          "",
          "",
          "",
          "",
          "",
          "",
          "",
          "",
          "",
          "",
          "",
          "",
          "",
          "",
          "",
          "",
          "",
          "",
          "",
          "",
          "",
          "",
          "",
          "",
          "",
          "",
          "",
          "",
          "",
          "",
          "",
          "",
          "",
          "",
          "",
          "",
          "",
          "",
          "",
          "",
          "",
          "",
          "",
          "",
          ""
         ],
         "type": "scatter3d",
         "x": {
          "bdata": "I0bPLXQlzL9BCTNt/8rNv0DRrkLKT5o/izm+rD940r/jR/yKNVywvyuMLQQ5KLW/WMgb3m9zsL+mkqBejyjBP1esK7AR0sK/O0PKwqgshT+Ir8ChAQajPwQuoZdgU5o/Td20zsxVxT+rZyyLpxvMP6UXaiGKX6i//iI2kuPStT+s8fG+/q2+P5KY4cFTCb0/ut+hKNCnzT/3gzy/aXzSP8i9+Q0TDaI/YOB9BnIUwz+ho1Ut6SjIP+n/ZnPmaNa/rrg4KjdR2b8Nv1HhvsS6v2OWPQlsztq/rb6nXw8Txr/tadmsTErJv7HPHmzyFsq/eXbvnvmSkz+at+o6VFPPv1HW53/TGbO/hH07iQj/rr8bAnR3pr6zvyGmJaEg77M/u4H8eNDjvT8mkHwGH3bBv+J1RxD4DX0/xXS3ChfGnz+Fz9bBwd6UP6yrArUYPMM/lRXD1QEQyT9uEoPAyqGnv8RHxJRIorM/J99sc2N6uz/okp+l5TXSv7qcEhCTcNS/YwtPAH8mU7/E8eV5k0jXv8/KvcCs0Li/U4cCo7jQvr9RDKMzQ727v6LcoyQRB8A/IBJccLfCx79bhPtZAsJ/v/XwFubIe5M/LlY6vlwqdT91j2yumufEP20rqcb+Zcw/9FTilX+Isr810QGnLkOzP35bVZuknrw/lf5VWfCxuj8XPKTNRQXOP5ugcdIZFdM/+samtLO8lD8wRrCzGY7CP55XaF54Bsg/",
          "dtype": "f8"
         },
         "y": {
          "bdata": "s7HbMNO/tT9QbYPtOi67v2APE/qGr9i/LTSzcgs50L+9UA8zcI/dv4NaDB6mfbs/84B12wNwqr8GQM2B1rTTvzxPTZNj/KG/a0D8EaAEzb/CJiFHKdfYvyfpi6IEA8A/mFvjyY3XuL8CfMAqAo3Pv0bo3i1xL3y/pXVt0uHfx7/zMgEpkvrUv69cBN2y2ME/lU2m93rksL915onQtC/Jv6BZJWvnDpE/ZNLzRjZ+w7/G5zvlvsLRv2IiXesKNco/CJWlwzBNpj+captQ9gTRv9Med5L1HMG/cEfWpfcr17+6BI6yLEbLP6oBRlb8orM/k6gSYFPiyb9ZjYBlAAOsPxPvSf3BBMO/L2sHyDwX07+EgeoZzh3MPybpuTrUeI+/peNhszhyw7/vL64vfCWzP0HGu6ebWb2/rFa8sOqAz78QSK/zXMzMP6ByJoB1L4I/Kfa9cxV4vL9RcnSCI263P/iLTxUr87W/mEGi9kjwyb+s1rfkcrHGP+oXJegv9Ji/XK2qIyRp178wTe4OtUrLv0cJ+gs9It2/9ItJtvFeyD/ISYd0ZT2aP9M1JesC8NG/IGbz6U+mkj+m4i3/S4DJvx3G83vX79e/szT1v2GnyT8eWfllMEasv5p4q1Iegcu/DcpFxrSApj/sOoP+VzfEv5jD7juGx9O/E2keuqyqyj8xhrCElsCZvxb8LRNa5cS/h0vZFXGksD8s4WznuY2/v3Bk0x64YNC/",
          "dtype": "f8"
         },
         "z": {
          "bdata": "Wn475MFxrD98l1KXjOPIPxDWWvM+6bO/ygna5PBJvz+LyS4rJ7S3v5tPfuyPkbE/MWe6GIVhyD+//qpwGBmpv0T3vZcMEaE/9QCj+kaJv79MdDugERGxv+k6bCvkNbQ/J0ojsdBFt79VjW00g/Kav8XidWfORac/nJmZmZmZub9JF1100UWnv87ULFJlWbY/EiOERxvHsb83ZUpp+UCAv7DROT/Fcaw/my5iYw+LtL+40Tk/xXGcv83AAS1dwYY/ECOERxvHwT8jXdg/9Em/v7aCXJg76bM/DV12dbSXwL/Mf4krGh6eP9Te5PgjScI/B2/xmZWWtr/NzMya8td6vji96U1vesO/m5mZmZmZub9VDH4GxXSmPyjJG6vAB7+/JzCR6kRwr78GkxPOuQePP4eoJcqcNsC/pgontNhks7+l6Mqkx3GsP36XUpeM47i/RVrhWUFRpL+w0Tk/xXGcP6V5izg73bq/tNE5P8VxrL8LDgy3CGmwv/MgPUUOEbE/0HDVJL7ly78B3hqSiEGKP68oJQSrqsq/9p26TRMRob9GXWvvU1W1PxzyKsZUVcW/8LHh1spxrL/btm3btm3Lv1VVVVVVVcW/m33MtRYUhL9we4LEdnfHv1evxn1PUMC/9526TRMRob/2+YEeOzDHv3Xfe8kQEcG/X4uO2Ab3gT8VJIpS2GTDv9LMdR2ks7i/BmWwAcYHj79AhH7HbKDDv6iJH67IJru/",
          "dtype": "f8"
         }
        },
        {
         "marker": {
          "color": "white",
          "opacity": 0.1,
          "size": 0
         },
         "mode": "markers",
         "showlegend": false,
         "type": "scatter3d",
         "x": {
          "bdata": "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",
          "dtype": "f8"
         },
         "y": {
          "bdata": "2Qx3G27+ir+qDAJj9DGGP3S4AexvGYI/wLrGF8ZeoL9uhtjkfk2lP7NzNUjra5y/j7s2MhqMdr8saPsutA6lPyxtwITd1a2/o9FZk/vQpj/GPldcmLpxv7MZmQ1KrqW/Aw3nBBngsT8K9eQJ5kyvv1wMX/baq5I/FGnnlEBNoz/BvHCtnqmzv79F/e2Zm7M/MBxhbLLSob8q1FcKydCcv2LCt8CwRbQ/tB5mxDcNt79I2c1o9hOrP15Z7W2/i40/bgauwvyvs7+vHhAeq8W5P2vPd7EjRbK/pjBnaOTpZT+ARNkjwuqxPwJBbG8fl7u/vFQpJU7Wtj+tzxLnit6Wv3FqOLnzA66/8KcLGlxdvD+bIaucrvy6v3t+lxi2WKY/5QD3G64Ypj9xTZYlIf+7v6EIeaiYfL4/yA+5bqLOsL/M52rowqyYv6pbobUfb7o/3GgiS5mQwL/i+wNSoF22Pxu0oRn2NmE/iUTn8Imst7/ArynIFV/BP/Ed2/yBmLu/KHoTbWKRlj8Bw6OaNMOzP0Fp57ukmMG/XgmFelcgwD9Lenjo4Uiov3oH48eOlq2/Bv8m5NgxwT8VkIGSAg7Cv2jS+B81t7I/urmSwfnQoT+DEJ6zbCXAv56a/9x/e8M/Hg7bArwaub8YH3lCuUeCv7wJE38N6bw/HYFNAVhTxL/cwxWg8gy/P7hegHs3cZO/RRx+zIxNuL/iaS+COYXEP3opZZUFJ8K/qDIbvr+SqD+q5VWbLZSyPxBE6eaoBsS//GnMrnBRxD9sP0xGf7uzvyJy15Eiyae/rzcsA3/Twj+ZloPrnuvFv2TkWM177bo/NYZh9anDkT87Ysj9L+7AvyApKrHx38Y/GMTg6RfNwL/XBp37BF2MP92PC2mvv7w/9Tglcikex7+yFpZjgr/DPxQn2HjWnae/HEiOXxRwtr9KSv+JGpzGP4Ey6h81L8a/Gp3hjQ0StD9MqCnUozGuP1xMSxQuVsW/oMCX2hQByD8G+RJ0zAu8v4fCmeIAwJu/8apYkKlPwz8qT9fUwB7Jv4IY3RmUucE/hetqzv6xfL9YlRARupLAv8/dBHJ6d8k/+G7kBPoAxb9WlpEBVqSlP+J+nImDYLo/XBy1WN4Ayb8Bzv3pr7vHP5JMf0Dp2bO/3/WAd9F+sr+ESjkVaLfHP+ndbZ8uzcm/lBy8gdKUvD/mFCiqz3OjP8GUTfq6nsW/hQUac+Udyz/OEdP92FrCv1mAUUC0M1W/TWgr7qzBwj8ihLzHKJzLvxkjZKcp+cU/TDrq8BTMor9YayvKI2S+v0YBPgjxPMs/EHK/wBADyb8Fn14tMCezP/rwMdqRELY/+WEtvmL8yb+12ittUFrLP2EyBwXDnLy/FvW5OzeKqb8IsgxeGt7HP7JKp77W5cy/syekcZm6wj9iaKk3RUGGPwNuJVU47cS/QGadNrWSzT/ze1rFAbHGv3cAp+teYJ4/YYNSACw8wT9YZWCB51TNv8o8ichBDco/GJFmRCQIsr++adq/fMi5v674K/3hJ8w/MfSt9i6vzL8m3OH42DG8P0dguRC/CbA/yC9NaeIOyr+5bLa293vOP9/QssSg38K/4gJ1Md8Vlr/91dca/xTHP1DmcI4lX8+/8Pv1l7suxz8+lw0P/cqVvxeNgjnzTMO/j+HfjG1Lzz8UYozMuN/Kv/rXpueTh7A/ctXbfVGhvT8uHmo1RzvOv/nKYEtZ0M0/WIuHTMBeu783vC5UBoGzv4oXXgdEMcw/xgpQotrjz78R9HG7+s7CP8hJ+fS/CaE/2EPGxSM4yb9BvhLAAoLQP07W3Irpdse/hIMTRL7zhz8JmmXSo2LFP64AV8IEkdC/WW/i3Gl+yz9uXHdnRFytv6X4yDEKy8C/XbrgLo8b0D+D9WlCCsHOv+qyXRXlK7o/usyHJd4ktz/aWb8A5ETOv0XiURL4j9A/clT4epaMwr/w2UuZJ3+nv1vP9t99Vcs/ZBvH8HlB0b+avFeRD43HP7QqgHZum1C/ZLv6M2d7x7+vrYTBxGzRP2Hsbv9Q7Mu/XE+HYQkGqT8q3LG/ANHCPxx+Pde2DdG/5HtbAaGDzz951px9N6C4vzoqt4+177q/aUgGI4gk0D9GoBqp9hjRvxD12eWmG8I/+Qhs4QBfrj+VgY9LuGvNv9Es3wN77tE/aHkyTf5zx7+WhTf9oNiFvxZxJNdelck/3CA8PyI50r+5UwWBxSvMPw64SLTvGKS/O55oTkHgxL+LZB7I8vPRPzsMCVn1DNC/+5n4KKXBtj9s5XPRWty+P463CRdwHtG/Oh/mX4WN0T9TUGbZ3n7Bv1hpr7wXz7K/WZxqk2N5zz/pA1nfVYnSv+NVM40MLsc/HJpGeobRlz+HsByUqq7LvxZCSJwh9tI/6F0U+a4+zL/o5tOzKECdP3saFe2T9sY/BMRpev/N0r+IfrfnqELQP1mQJupnlbS/WMxR7fFywb8DTBV8pA/SPyuenKYW7tG/aADOg5i4wD8rK4ZcLJm2P6Tz78aAvtC/Pt+LlDgS0z8UFggePb3Gv5U0ZU2ByKK/P08rgWzFzT/5yFKOraPTv5C/kWioJsw/nLYVUTlLkb/7ALwe0RHJv7lMb7GHm9M/2STk2X5j0L8Fj+WqOiCyP3TcuBLPg8M/gHebtJX30r/GiiXGADvSP1EZGPvflb+/XF48UtmIur+irFyMhrrRP8V9RdQ6idO/inPFhFgjxj+nM2ollQuqP+ugbXjL18+/U03DRKBB1D+BGvZEGOXLv3k1myLbl3E/3nZS598vyz/I9ChYK1zUv5KExCr0b9A/+9BkCvzMrr+dKS+2gZ7Fv9cYYZau1dM/jNVuX4d00r8T7BSSq2+9P7wpStdwmb4/gKCHuv+v0r/jF7/rZe7TPw+n0fz+YcW/qjDxxFbUsL/8maRs+vHQPyxA1dPJz9S/n1CqYEF7yz+9mlJxeruCP6vKDW20Ts2/qXkcW4QP1T8cFX7TdmjQv1yZDFOk2Kg/ATyG2djAxz/Qa6vBV6nUvxt9ES3imtI/rePv9TcCu7+pOEQcOGPBv6xD0xEqntM/L0GofLpB1L+bPC9VtXrEP6Le7l9ry7Q/24q76w700b8Xc/LU9E3VP6TLshJP6sq/5pU8Lb/ul7+EvCQLT2zPP8OKpS4qtdW/4mnXWWtN0D8DFPALU2uiv9p6d9Ky6Mm/UjwkFfpx1T9K+UPtQa7Sv6TFl4H/ULg/x26fk7uFwz9pMe7jRYTUv1b776w0g9Q/TutTTe5uw79rD1RDsua4v/0uEUNC8dI/AR5R0Om71b8Y78sbXjPKP6VFFpQ7nqM/d4X13V3D0L8blNlutEzWP+5maOcwH9C/lQhBh1kZlz9PbRBR+xPMP60R0IcAL9a/qNSoBdSu0j+VCHq7YF+1v2SVNMAgssW/jALZMZdh1T/O8mhGz7LUv434en0RQMI/hyQ9EfEhvT+gXgRduOjTv7Acac5xGdY/EKU7QINXyb9J+k/zWZurv3HWS+MIztE/hnny3rzV1r/3VCmvSLzPP3yWov+mEIG/d2L8A6pAzr9ARgKY2d/WPwQ5+z/FnNK/vHktrqgwsj8yAzJvUebHP2pem5BmNda/SEn4FIbQ1D+1oO17gO/AvwohvrOBvMC//JQ3aZrZ1D/e7mBPWGbWv1NVyTrQV8g/tegy8mPzsT+Ub9rQOdXSvwKeO/bgT9c/cFXhC0UVz78TD/7c2TZ7vwt4UNlgNtA/CSIWbviD17/WrjvfQ3jSP0XlgjQ1kK2/gqQdv0Egyr8jUZHlAf/WP+GaKbhX3NS/ZtidbzX9vj8Ozhld6/PCP+nHHzkXw9W/4c1A0myi1j9GTud4VzXHvxP9dEhXPLa/9fJVfwfY0z9AN3MZw7rXv2xYxx4USs4/p7pRFzTalj+5EjHYJ0vRvx5Oj8fVGtg/2p34OIFB0r+XmUZd61GmP2rkTxLvXcw/noN6Bb2917+i3HIMR9bUPyMTSbqA3bu/lcA8tDM1xb9RI2SXY6TWP/jpqAiEzda/FjkS7i7xxT/eEN8DpqS6P+IAt3qO1dS/WDHhlQsW2D+6SElSeVvNv8JZAjxVx6O/cX8OyrVd0j9T2Lu48KPYv8H2MfGy+NE/Z1cECeVZnb9N0PJiX53Ov7oYyD3ycNg/qwyTRVy+1L8kU9j6qIK4PyErXWBffsc/D6igm7p817/yRS3LeOfWP8rfyTVyjMS/QRwvI3cov7+QrZAk8czVPyhxAW1pYdi/cR0ZTUBKzD8lQrhXVG6sP7f6IZIbbdO/MR+lTs8e2T/XO5DuE57RvwzNHzo/n4o/ftUdcVBu0D8qpEDNAhjZv8NrKsyllNQ/r6YRT33vtL+WODTfeM3Jv70nZvtdS9g/BxWw3Czw1r9B6SUsRAjDPyDydfn74cE/C/wV4Fe91r+iBFP7kpzYP72aoX8+F8u/hNH+/G+tsr9/n+g1b3jUP/O1ORj/itm/IiGqFuUx0T9Atg7tzG5rP8/HGunkjNG/3Il6T1ey2T+3uqvrOFnUv2Fj1hzYJrE/jqM2LJAgzD+3WuFYlg/Zv9M8HYeJ59Y/E7xpGtBlwb/87zKErTnEv4t8hkXxpdc/qpjrgUbH2L/BktlNVMPJP6CqL6DfQrc/qOp998t+1b+NhKGbFejZPyg26t1ttNC/SZdDOEvRlL+457dGfKnSP+qfmR1gP9q/JGxNWjIM1D8OPVFXQVeqvydQ16C6dc6/HkROj7PI2T818yUZgM3Wv6Ch9xqVTL8/P2SC32uZxj/hkiZb8oXYvz/QYZhK4dg/XXdF6W1PyL978wkr2/O7v0TcTXxSf9Y/8PlOu7A12r+YM7Sz/CXQPwjvtlKtZqM/mStm2SnD07/uOgGmlb7aP8oCK6K2rdO/gwJrW5gBoj//iwaBiWXQPyLqMP0Mdtq/1VCoSgqi1j9vHKDN45W7vxH61A5V/8i/t8I70pZc2T/crS2LburYv6B8HuqDvMY/tL5KeGFewD+AwFD9KHnXv9rKaQ13c9o/yGOeos4Nz7/Bu2Q5Rqqsv8De4zYF2dQ/SDEpvHgv27/+pgRx8j3TP2/SxE15pZK/Nbz32FyP0b8hvDTMARfbPwtmBowqZda/ktPbaB2qtz8zGuGHiWnLP1ZAxkYhKdq/MGeVqYri2D+u7RizmwvFv2MZsMn6zMK/ra+Rfntr2D+ZC4AnGKHavylnI+EVr80/O1JdAFEWsz+Vv5VqKurVv4ZyaeGSkds/UJXC0hq90r8UF7BevzREPxE/F39qt9I/Mt6DNvmq279xiK1D7BbWP9nA0rPni7O/ANsCcSzWzb8/eOaA2+raP0Jje4WAydi/H1ypqMc9wz9omhwx6EPFP9GIKwx8Vdm/Fp3s30y+2j9mUVjcmDDMvwR/Uh5x87e/sG+mLbr11j9IfE+HduTbv8Br8VltK9I/y46uZ8X7kT+55s7CyNzTv592YMliMdw/23hO/GO31b+PChVI+nuuPwcihv2xIdA//WsFtxah27/oetYmO5/YPymzxEInVMG/j8sV+VfBx787TT37YjbaP8FqBYbXytq/DR01tTCTyj+3BziwDOm8Pxaa8CXa+te/HaLjS78n3D8Q4bg4MInRv6M/YRYGk6K/Ok8TWJH+1D/QfMaktqncvyyruYWvRtU/TWCEPFmGpb/Wlq/orFfRv2I7+c8rS9w/GeE0NK9j2L9NjUf9zZ++P5oDcnV4Q8o/Nq6VLW8N2782h+ERhMbaP+l4RPjF18i/KQvgCdP5wL9YZxQqtfjYP0qEIzASW9y/Fx1KTLLW0D9eItCZHWisPwMzpZrhG9a/FwHct3UT3T+iaugJ9sTUv4VI/fpjeZg/mWINzh2M0j8OSnqke+jcv1T1XBHbFtg/DMb7aYBkur8AC1p+eMjMvyHQCVfm2ds/zFhVTCix2r9iJJWHUP/GP08mP9bch8M/RIZciXvu2b94U+DIHX7cPxWyWhxLFNC/x8PvAUs7s7+I9gbX2jPXP0IU9/kpbt2/Sz5tF2gy1D+U7JkRhyd1v8/VccgdvtO/PS1UP2943T9hwOT0xrjXvxOorrDx+LU/c892/IdOzz8Of5NDFZvcv5Sjnu+jito/UF7BbdcKxb/MUPZ13xzGv4KiT1Zj29o/SyAfapqQ3L/Jxu2ftYTOP/4+tSjiW7g/84jRl6JF2L9D6wKgZrndPyDERqI/j9O/WkY9D2PrjL+sNa6HyOzUP3j6zxt4+t2/N3lu9YRJ1z8lKsM8xl+xv8b/oUHs6dC/lgl0HVBQ3T9kwB7B4FLav7ehn5xw+8I/60fEvBS3yD9ZevayqL7bv+IqDk1Kktw/eQ5yMZTCzL992ozuc5K9v7uZSfZiUNk/38wQTsj03b/4geT7v9vSPxb1qpV2XKE/aNtuozwX1r8x/eVhEG7eP/IuFQ8xyda/HxOQW3Q3qT+8tHr7TivSP4jcsrLy+N2/MUlupNIJ2j8p5L+ZQNLAv+1C9Dq1VMu/TGcCHo6X3D+sFZqw+YLcv4i6jSoU48o/yNxuMMttwT/FMj/tSlPavwfm5ET1H94/PzUIwzUY0r/gNcVTk7mrvyjBqfGbPNc/x6DRH7vS3r/wzX0h8TfWPyIAQ5KBvp6/JADinYdq078L/GW5YJTeP17lBKh3r9m/c7AONfQgvT9gozDq+PPNP3fCG8BcZd2/F3yp9H5i3D+aCaNXKOfIv91t85vrGcS/ueBjrY5N2z+K1lKLnTrev5t/E8z2RNE/OcT1oN0lsz/KqLjfC1zYv7FMroAEKN8/vWns5vSV1b8uVDuZC/OEP4SoXnazptQ/bmxDEgYi37+wtKYL2EPZPxaW4yK7bri/xu/e8YtJ0L+Jqri4ZCfeP+7uALC6MNy/NPV2utPPxj9o97Wb3svGP8mQXfJnPty/JGhBE3tE3j+CAzwCYmLQv9iWGF4vhri/nMFVzbV02T+K1c3/gW3fv2bSr+R149Q/tCd1aiyohD8LJjkM8t7Vv4STCglXod8/eei/QAbH2L+iNaVbcZCzP/oMOo8lmNE/sl3uaf3c3r931tDAl+3bP76v3SIpnsS/PaEP0eSByb/N7PRXFiXdPxFSMdpRPd6/89AjhL7hzj/ASDt7avq9P1l/yGjHhdq/nt+BmNKi3z+M6ilVtyDUv3ulFvgQnp+/MIUJgWUS1z9ipTBJ6Ajgv+zl0eQeOdg/AusEPZcRrb/WLYKZ5uTSv4CZwMKFhd8/B1PtVwuZ27+66MG6SlPCP1rhdt48Osw/EFfOrt8A3r+l1CUF8CTePxaHaVu+4cy/XPxWuJe/wb8dE6cLc47bPxWeGfKex9+/J/20CwZO0z8Ha9Kh8KuqP7Ht1/IyQNi/58NlQ3w54D800BC2SJrXv1oB8LYttaI//Leeku0u1D+D479DMhDgv3ursP4UM9s/acnEDNPgv7+yjdQvJPPOv0iMLVAQ0d4/J7HS9y373b/YeBn2tcXKPxJx84uKiMQ/8eOeF/CN3L8A9tuHmdvfP7cfnVK4a9K/lY3C8S7dsr81JTvfgmfZPzgGN+0uYuC/8YdPgrTq1j/s2rW72yKQv6G8k5haddW/9U/pS4RW4D8gG4mXvrvavygiHbOJ7bo/Bfkx5GvV0D/imFBw+5Tfvy9K9mbuv90/GLuoeKiOyL87PzgeVVbHv8H/xVJ7g90//8DMzH7e37/Wd2PDLXrRP7FKKEDmebg/T6vxhoGH2r/FnKpozILgP1TmUxCdKta/BHZeWquddr8rb3LNT7fWPy7QCJl0leC/G381WRwz2j+PRDGFU8+1v5zciorKL9K/+y59t/0l4D9ZMsplHnPdv7BudUapPcY/R/2CnDsnyj91uAJDV27ev1WEEUsV0N8/iEV8Gc950L+VGmvYzii+v8fkelFfn9s/LTcAmCWb4L/+Ga8DR1rVP57ZvNFB6Js/trEywPHz17/BGtIZw8zgP0ids8RMmdm/HuJY1+SIsD9SOD9hzYfTPyPi5hK5euC/Xix5brUU3T9JtMB929PDv4mEh89/+cy/rzYhiMxN3z+IZ8++LbDfv4F8bv8b1s4/MVTotEbzwT+Qu0EwUa7cv1ei/DMQq+A/8Fs0uwB61L+Um6P3k0mpv59eAtZnKtk/cUoLKzT84L/J8+aVeO7YP6zfnswVOqa/V6i5ypTc1L+qSBKaZMjgPypMi2W1pNy/Q0XiaXFSwT+AD2HzYcvPP6EyGxqVEOC/Kd5gLKN+3z+YKP+wyZzMvwB0Rize18S/TKvyAJGz3T8MCiLgZrLgv3JPKSoiitM/C5xtzdVmsj+mZaGz3Fnav3tPU7SQI+E/Aav/rtIy2L/1SovcqTqWP1a0v6JCLdY/KHMJJLkO4b8+PD6YKiPcP8ZbWdhXdb2/9vSXyZBN0b+Om/wQ43PgP6MTx/FaO9+/t51FAq1Iyj+Nyfq0dsDHP/JUne5drt6/REm+PAmx4D8DXUusDIvSvxUPRtLyPLi/cy5opn6B2z/JJgZDpkLhv/8GrP6XZtc/uQ38eZhBPz/+fzas+njXvyr6J7JzTeE/8PrBtSuQ278sDf23sxu4Pz30vzN/s9I/OQpgpH7Q4L9sCj7TRObeP36wkiDc2se/g73HvFWryr8B2ErR/J3fP3qSu/bbpuC/XL7I1Cp90T/H37j60SO+P1mYnAyAoNy/1+sjI0dZ4T8BQCBhD4rWvyLScUGnppe/HDYU/+K+2D9yFmGRVYThv7UsVsPZ69o/09nrvK6asr/uJmGbnBbUv9C/6wYaJuE/PiLgAlt/3r8RyJ8ffVTFP1c1yxq+ls0/1cHaRdxA4L952yHVyJPgP6J/STjwYNC/ioyG9AsMwr+Qpr28F7bdP+inInZKZ+G/ehsFfImd1T97+9hS15qnP8l5JnYk/tm/L165eSSz4T+gu0YLYDbav9nW79g06qk/mvOWWwp21T/CCnZJa3Thv4xeSCOiBt4/u71dZMW2wr9UXWt4eEDQv5CgajNxrOA/oHg5xL534L+n9VNksm3OP80CtlIvC8U/M7V1a4HB3r/N5pRHjGzhP1CbXJVgodS/FaKJJVPHsb9gZ1gc6zXbP3uV2Kuq2eG/d4HLBvRv2T9NGehegLecv2lqrTjr0Na/6I+jgCy74T/ITShFKXzdv0IyPQf5AsA/ubGfRxe00T9ULnw1aRHhv8nUQt6xUuA/q2IPStX+y7/ypP+smw3Iv06C5A/+wd8/eJ2Rn+1o4b8B73Fl+JXTP+ngr3Ic1Lc/yfUpmWZl3L9aXZoMt/fhP73bzkLVmNi/IZJa5PV/dD8i3n7RYybYP+fI0Ogb+uG/b8rH3wng3D90bJ5c1HS6v7ydQq1bJdO/m2US23Nv4T/wILdxmyTgvyush21jdsk/4gUVC5YRyz+cD/wialvgv81ZzJJUXOE/zTrq47170r87hkqYdfC9v0GOCpzKi90/QK+GPh0N4r/FE6U/TbHXP67+z3DN5ZI/qOqREJt12b8QzCoI/DDiP8OoasRnMty/3Sc+v/C8tD/+vB1ZZpPUP6YPwWdExuG/YGQTCvTa3z9Q+UAQh9XGv6ct1MtgFc6/h3tHV6jP4D/g/U1QrEbhv8PgDhAnU9E/bYbeFoAMwj/l9E1GT6jev4pcHbm1GeI/6L+/S6+51r/fmNsMoaalv8KarZy6vdo/C4vdzpNf4r/GfZoMcXPbP+TLojA/wq2/V2hO7Fj91b9pE8j7kRXiP65Exa+iWt+/xkk+0HkdxD9ztB9GnovQPwNRkCZjPeG/Jx/BLOUn4T+ZRGy0shzQv1OphIwpJcW/P+F0kzG63z+/euHdXR3iv0LHa1lYstU/uSRHA18CsT9A85pI7/3bv25yP7WuheI/QHhWA16j2r+c9DRPosihPzhqHW1WYtc/FBh5uhdd4r8e0prDVMjeP9fLkgaET8G/bhwoiLQK0r9SNFdxR6ThP/mCRqv0/+C/1b7ES9CxzT/8HEkqfkDIP83Ewt9ZYOC/bNMTC/gX4j9feKvPrpvUv2yR09VVQ7e/64HNgWk13T/9i+TXHKPivyV1Lglxwtk/ZcVdK2BMhr9/Wp26g8HYvwmdzO6UnOI/qLivnCYk3r+zCjE8+Nm8P1dnjRYTh9M/HxDgogUE4r8+M8iD1c7gPz0ejvytEMu/i4h5XcFcy7+nhpnVjt3gP4shDaxrCeK/cO5AViJ20z/DHMDW3ZK9P26trr1dY96/saqEEbO34j8Xo1Fz9tDYv2yU1HejYIu/VEHK/wca2j9RXA4uzdPivxR6P+0+bt0/Ij9ZxYvutr9fntxZ2v/Uv/aEmdtRXOI/jmfDpoeU4L+xznSlLVfIP7YF8+szeM4/743Knl5U4b+8uipHpfHhP2X6/5wrQtK/LpwRucn2wb9pj0nlBIffPxAkohJLw+K/QRycZUTP1z8CmRZZw3KjP2mX5iUNa9u/pl2JeIgC4z/1PJ2wzqbcv3HFgpKj37A/p5w7rit01j+qVdMZ5Kziv1I6gz4QUeA/3WOqy42Gxb8GOk1visjQvw5HmmFzxOE/UP5BiZbQ4b+rm38eTADRP8AeYTYEKMU/aXyLX85P4L/WM+B2w8XiPxYasqe6vda/eBE4qBsbsL8+KtNFwLPcPw5cHliTKOO/HCwLFBHO2z+H77LEcGClvwp93Ngp49e/VoGpYHj14j9z0ceteQTgvwHqpKsboMI/d/CrNtFS0j8SxBilei3ivwCXkE42puE/3hmWvBtiz7+zkOvXYlvIv0EpVis01uA/c9H51/++4r+Mozh1wpzVP3VkhobyjbY/cqggGFLz3b+cdLD8vkXjP0uhd1pL5Nq/epCM+GSNkT9Wsgx9+UvZP0wvDN3ONeO/v4+uF6dd3z88VoEbZUq/v4zACXYN2tO/7z2nfSWP4j/KRSGpgHLhv5ndV0UGqsw/G8YvjSaPyz++VgcxWFbhv3JeS97oruI/BWpDSc5s1L95NQtWiA69vzhhnGP3KN8/aKVVVuFZ479m6Ce7zOnZP2Mvb+OwHoA/2Y6ekMGt2r8Rms0IrG3jP8iD7jtloN6/XRAEJ3YuuT8JpxncXl3VPzm11Lco6eK/6Y2e5HY14T/Q4GRUjNnJv7iofquNwc6/AXM50uHP4T+JLeNObJXiv0sCCqVZLtM/IvjyaLnMwT+/lgu19Cngv7MmOi3VZOM/KOZfO+7e2L++LDO5PQShv+l6bs+rB9w/UJWgy9ic47/qh5+cYdHdPxeboPtU77K/5UUME+bb1r9f6ngBPTvjP0w0jocf7+C/b6c6uvHxxj9411ttavjQP7gJGKd7QuK/DnYOF31y4j/vjQHS6OHRv9SMqJWeFcW/COCWKbO54D8dKCc3embjv1ZtEYMSxNc/GCKclHEorj/2XcEt5Vjdv02q85kiw+M/zHpxQNrw3L/LBxayByCpP4NnEDfFVNg/1af1EB+F47/lLfJRhp/gP6taj/WI9MO/jR6qAZyN0r+Kddes063iP5vVWVUTRuK/Hpd1nwiI0D/t1a3sNGDIPxgpaspYQ+G/E/meKrVe4z/LSKispZnWv5vGZ/vLtrW/dKJCSZ6g3j86JpaRW+Djv9KY7kMX/9s/vQaVvWxOmL8FQ1JMIMfZv2Wgh8qPxuM/fJBMObxG4L8pS4iGsuLAP7MppJ55H9Q/XdCQcpsR47+sHf5fLBDiP6UFfjecQs6/g17tNrqqy79Tq7YsisbhP4Iegs9vTeO/CmMGEB1g1T/AEZiRcma8P8FtYdgL3t+/6tUVlFr04z94ptu3avzav+hoQ0H/VmC/W+U/tB0y2z8NXpFjVP/jv3e3DsSuyd8/8jw+dbh7u7/1s5nfIa3Vv4YHaUSIbeM/iDuzyMrQ4b9MXHSSrFzLPzONVLdp884/spCZ8e5C4r+3XTINmTLjP3+dxwj3F9S/JEUIQN2Pwb9oSOmLM4jgP9GKxV77/uO/y5eNejDp2T9M7J2k1r6cP43t0KHmlNy/wPrLgzYv5D+zLX8s5vPev/98GuMAD7U/bea3ZrQ11z+QCOtUU8Hjv7/n5V32h+E/yUE/notfyL9GCIyMPhzRv3wsX/YxuOI/0Ogp9iQO47+8Vee3usHSPzIgBqyT78Q/gi3+Gncb4b9Y7l2gHgDkP9xgQwzOxdi/D68NPxngq7802ZWMp+7dP/CcSmQEVuS/Mxvvc18M3j8Ud2NulQStvzUNPlRSuNi/7RB+5LkM5D9UDUwpvDXhvyP9yUyRTMU/mUCXrxa80j/gZTqDASbjv4ZF/9AM4OI/LCTkwPdd0b/FpqoNmlDIv9+BCV5yqOE/FVwrDKr347+wtpZespLXP4SRTRJcwLQ/3ihSopA+378A+D7skHPkP5t+Z3llE92/kWUTjeFinz+lJiO9HjTaP9hG4mZ9T+S/EojXay7a4D9kDZyFIyXCvxXiPupZWNS/xwtXeA+M4z+9a84eT6jiv3uyAQWM2s8/GjzkiSqxyz914Vb6yS7iv7hovWqI5eM/Zg4Zn1VQ1r+rtp1qNZ27v0PnchvrQeA/1k5uy7OH5L9uHhARTQncP5rSquoMWHG/9pzuID+o279A356mY4nkP3sDB5dkdeC/9RNe4WrVvT+G8CF+JfDVP0C8LnkR6uO/FJYCn+9m4j82Q4iWiuDMv92RgNd8D8+/iRXPpyWu4j9RRQ2oqcnjv3TNNP04/9Q/rO3LBo9BwT8srSWZ2N7gv7vaR5JJkuQ/UTQ43XTu2r+THRRBSRCXv+NDh97bE90/8FlO5ja65L9qpJZDewfgP4JvoXSNPbe/4O4fwZeC178sBQkWwT/kP8XKfFD3G+K/qxK1EzrPyT/Hr0qX4zTRP2lyamEwJuO/TGgS3wKk4z+TMW1r5p/TvxCFlJVIt8S/kbk4vq914T/cqI7HM5Pkv23uXSJFw9k/FcmySUxhqT/rULynIHbev44vtv/F4eQ/Ew8nSygh37/nzNGgxYWwP1UAEJXQDtk/vF+Q89uM5L9F3xRwdMfhP6A9AvP3p8a/hUeDnB/f0r90RxCUmJbjP2HTvWKOdOO/APgZXPAy0j8BMlXJAC7IPxutWzMSBuK/S2qK+1iK5D8wCEiWL4jYv8rLBnbQrLO/hrxM8zzO3z8PIpmA5P/kv5wRrfurId4/BqEuZoBio7/rpd3e8ZPav4DsZvAj0eQ/TR10dHpp4b+Xyz2VL2zDP0bb14GNhdQ/UJHKSxD/479B3FXESzvjP3yHvnnxuNC/Msc3xu2jy7/5wWqJpI/iP0AAtNikd+S//GJHKq891z+3v81oGbW6P7UmmTayjeC/+vAzxWoU5T+QW9gR2RDdv2GK1mLyGYY/nlbO/B8R3D+BPKZIXwzlv3ocSgciAuE/QdN3j1kdwL+XgNv3SCfWv+JiNl9NX+Q/FsEt1z/44r8LPTm2GGXOP7XGqltDF88/kEV+aw4S478B6NMxCFvkP2BnudBH5NW/qE0Zpf7iwL8uPnuyZy7hP4vcVRA2H+W/hNnh1hDv2z/8BMEcsQORP12iszuChd2/lrg3t1g+5T82zd37iJHgvwEE79v1ebk/p8bH0W7D1z8QSRmZCbfkv3i5tbF0q+I/aTlWZtZAy7/msFj6GUPRvwaje8/6jOM/0QWKDXk05L99g+Q9hnzUPyu58C/3bcQ/gxvsnN3I4b/PgQehKCDlP4PJ1De+vNq/J2wuhbWvpr+dHs5KQ/DeP5sq85TfZuW/3hf+QtIX4D8FYDjhSJmyv0u1mH0dWdm/KM8G4AIG5T9EnOGr+VTiv4toIvp+Bsg/WMehxHj30j/umg0lGADkv5GrN6/yA+Q/C31QpP8G07+8jEtfq/nHv+L8RWK1XOI/s+izxSkX5b/kIk+UVXrZP0lY8SMZfrI/qeYS10go4L+e0nL1x4XlP0KsrbhLKt+/0nsYBMc3pz/s34Z7defaPw1dAFz7S+W/ApnlWuP04T8yuqVIg7fEv4yNIkjXp9S/Tbnsghhr5D8TF0addcnjv0LftGxRhNE/GpmyEk2Eyz8DgC5fk+nivxDqyOwlBOU/HMRkiFQo2L9hDozwJbC5v3qDjxfQ0uA//mKNweqa5b+F02CKYRPeP800URdFFJK/Zdui1Jlt3L9j4vuZuYjlP3/oSYpLi+G/Y1GuUmFVwT+HIc14T1PWP3VRX9KxzeS/hATFpAeF4z8Xy0fTQerPv5c1cu4LDM+/NyK/Eh9v4z8hZcWyDufkvz9iwrFBx9Y/dypNADp1wD+zjYclU3fhv/J/Z88lpuU/RmtByUnr3L+rIp8Qfj6Fv6ycV5Cw6t0/nnA+rQi85b8n1lcyURjhP/xZ1AlHw7u/Ixjwe/z417+Gzdr4nSflP09SXtqzNuO/uVYpDja0zD/HfFkmi0fRP8NjKk8D7eO/IxCt7dq/5D+SXiZwrFfVv5cAwii2FMS/AmPOT3AV4j85nA/4W6flv4wwcOpxsts/9zVHXaHOoz8+ZJQo413fv7kReU645eU/Nyjjaxic4L9RRdTmv7u0P/yopyD7l9k/NIiw/5p45b+cK52Yit7iPygG5+vnZ8m/CtnMF80F079bE8Vo7mLkP2oH27WGjuS/XVxRoSza0z970Pbut7THP0fbWKrIrOK/60+YKnWe5T/yUWTYUGnav8ZhoIDzNbG/eUc0fi9j4D+KTpf4nAXmvyN5dmHKFuA/qdi3O94uq79q3qhXai/bv7x5sTlrwOU/K/SHe6F84r+nR8KnzQbGP6J9+hnjv9Q/22dbY5LQ5L/6qC1sE1PkP6pDjVhiT9K/IFZHvWxTy7+JOeRBAD3jP2COpnxei+W/xc9uvGYQ2T/eu3TmLJC4PwunaeCqEeG/nAMwA5Ab5j/8pM17KhHfv9vp5KKqZpk/X0gmqmu+3D9+CLVm1f7lv6Fcj1kTEeI/xbmWnmqSwr8UZAFC5XTWv6yCuh2lNeU/Di+HvYcN5L8efu2R9bfQP6bjc9v/7s4/A8UwTr7F4785eGo4Cm7lP2y1d8M8qNe/WxOCCWbyv79q0cf3/rnhPyRXirpvJ+a/QIavMFjj3T9kqEtMokRvP0Xwl68jRN6/n17w1KQz5j/2bdM5AJzhvzCTLyCdGL4/MJPl5Owj2D9S21d74JHlv7Y4oaPvveM/YmDawispzr/lcDywzULRv1VYtmKtRuQ/Nob6529G5b+bOBHeZDHWP4ZCBDF/rMM/NQ/Smclb4r8M3Cl1HynmP+C0cLuNpNy/uUes7Q3BoL+C8SaCur/fP2u/DICpXua/OKXDR40d4T+wqu6yKey2v5mMURAVzNm/dAUBjALl5T/QijBjXGTjv6mpJDz0y8o/lzuwkrQK0z/M9bmde7/kv0IJC16MFOU/r/b+e3ms1L9okmLIJmDHv1mhv2mr9uI/VzXWpocg5r+A5IZvRFXbPxE1buHlq68/uNfBGC6Y4L9WeewtuH/mP6zVHsTkleC/bT9Wp45Frz8YnaoCe2zbPzs+f7HNLua/EOpZh+QA4z+wYX0SwFnHv9cvUdxJztS/DD2s1dov5T/J0fu7Ydjkv9neUUMdGtM/58qjnlISyz9zSDUMSIrjv+2cE/GVDeY/6Lkd4/712b9x71G801a3v2Ey9pmcSuE/YjwPiaqW5r8vcFnzNQXgP65QecOsf6C/hKc9oj4E3b/vMhvDCG/mPyD7eNqjk+K/RBqz5BfUwz8UWseoo4zWP2l3ucSAl+W/6Z84dfeR5D/5nDvD+nrRv0p8Fnwpwc6/j9CPWUYW5D/1kwMxPfDlv4+abLNIh9g/FVoUtYjfvj9Td5Vqw/bhv1vChzhfo+Y/WxnkEmrX3r8Ui4z9MdloP/c/SPOCkt4/S33uLn+l5r/z3ztcuxziP2bH/q2QPMC/CQGnYdlE2L/F1HQyJ/blPz586U9aQeS/fhd9RYifzz9TDg+IaDXRP7YBpo5QmuS/gFmlinXI5T+aCmBEtgnXvy2nitUzNsO/7teo0T+c4j/1CXb1uaXmv07BeiY2k90/j/emTG8Tmz/aYFFGNwvgv4mI8RgB0uY/9pIXNVGc4b+PFpD/lSm5P/lJfjcE9tk/zVeJG4xL5r8Bu/FinObjP2KowpZlMsy/cLJecrcG07/oFel7FBblPxcDcHE8luW/3xa1e+R91T+KfB9f3/zGP4I+gOyxOuO/HH36naOd5j/8LWi6Sz7cv5wH5TsPv6y/V1ZoBZbH4D9uT7V3Y/Tmv5tYGqeQEuE/NBxzauS8sb8b5TOaP5/bv90zXNdxl+Y/G7w9EdWB47+NiB8gDrDIP9SCUamU09Q/LJHLskOJ5b+/3UCulFnlP9Cap3d45NO/9uIbH+vByr9t2n3ivNHjP0y6l0UKi+a/KYGcry/Z2j+68gmVmgW2P+6rnkD1feG/jzm6LoAM5z+A8yL8qX/gv/ZV7YPubKQ/ont6sKk/3T8pgYw7n9nmv2HVYAIhE+M/F+OjoA8axb9Ek586FJvWv2SjV7GT8+U/F0CaYoYS5b8IyFZBHz7SP0ymDUd5g84/V2NwFwdh5L8B9flC4W3mP9Gl8vJvZNm/ryjUO2qzvb8x8bX07i3iP43VVSY2Gue/dTAJ46TH3z8LT0ZYW86Ev2wAHc5j1t6/Kbo+vd8R5z+eLYYYopriv8qxFzAEcsE/VgA0j0tc2D9Vwd0LvlTmvxpIMAkfweQ/TzMDe42L0L+E0cSC1R/Rv4MCY1w66OQ/Qi8cOyFG5r+PEG48o+DXP8QA0VWhssI/cQjxxx/X4r872BphaR3nPwDUQUKIft6/bXm2vEZWlL8HRXR0STHgPxwCIpADQOe//6a4Y38Y4j8Kt7XvInO7v+sAiuRRFtq/zWCnlICs5j9mWMJzcWXkv4NppRT+ms0/i8A3vVD60j9Fu8geBGflv87dxCnIE+Y/qxznyWhO1r+oeDw4tIvGvyAtTD8neeM/rdu3DgMW578GawXQeyTdPwJ+sLsHqKk/IID8BbDx4L/0RB/D32PnPwNNhxLljOG/aPIiy8/ksz9vHljFQMjbP81kmIGd+ua/6oFBxpX/4z+N3Hl9bQnKvxup1VU/0NS/DQ7tlRXd5T9r21Rn2dblv66sSxVortQ/bzpJNQ1jyj9CBlvypxPkv4OhQpzxA+c/aMUIlQa6278V4VX54Z20v7U0l2T8q+E/6xWjWk59579lLQ1gBPjgP1Z28V8Heai/KUFNgTRx3b8lN6yP2z7nPzNgRW+pj+O/iG6h6Ptjxj+6W/08s6DWP0Vake4jSua/veTkq12P5T8ILZGGUAHTvwzB0dnJNs6/osa0vUem5D8o4ubBKOfmv4iTIqy4P9o/sraCs3dvvD/XuEnUx1/iv0hsdGgujOc/gPBjfxNa4L8D9TMzFveRP2Smo6NMEN8/oh48JAZ557/IYtIdzxXjP7Ci+mVIrMK/bx2gyr9q2L+r0KB06K3mP+xBrw9jPeW/L6aBIdlH0T/GW8FhgwLRP9SB0vOvMOW/PgvxjaG/5j8EcxoBK7bYv66ISbiDIsK/luC7Sq4M4z9CmAshZJDnv+edGAmbZt8/1pg+z5meij8EDCc0VlLgv2qF/WvtqOc/2fV0tC6S4r/r80Qq+8e9P9t97jd6Ldo/7rDmuiAI57/I9MMI/eDkP776F1+ABc+/T+7rSvDl0r8+fkmMjbLlPzg1Lm1ajea/hKXpCv8d1z8orboSZg3GPwqNiKROsuO/i91d7tiJ5z9gE6uV5AfevzrMHhxBaaa/40PDl70W4T9YHKh3Zs7nvxR8uTn1BOI/03RgrqEZtr/YG1kY+ufbv6WosMCOWOc/qXkJZkR65L9YxXTLlWXLP1N70ne6xNQ/HL5FUZEr5r/naZ0wV1DmPxkEhoHed9W/eSmGnX32yb8UEDDZSlDkP4z2E4B7eOe/byqdsYyY3D9fRK107yCzP5EVv3fy1OG/sZI0Vkvp5z9fTAPGVG7hvw8BoOoFoqw/nuGW0VmZ3T/5B0sV+Z7nv0wxiEdXCeQ/te8HDoqxx79/yUSw8Z3Wv38yMgtwm+Y/dUVsEKEI5r/oQ2gPe8TTP7oXgDrj280/pAOZLUjm5L+FqyHZP1znP0uOpoMlGdu/i/3S4QEVu78mjwBSjYziP0Z8pix7+ee//FzRboTO4D/rQxQQv8aZv1VniBK3QN+/RP9E+Srb5z9dWQgUWY7jv/u8RQYB68M/8lQAL6dw2D9XOHSq4gHnv+DUP6xGtuU/vXLh/o0E0r+EP+R2193Qv8FzAGXvc+U/Z1a4Wh8157+VTXgKSorZPzIFpEmIhsE/YUbjXSk947+wYlRL2v7nP4WUci/AJeC/rYBuW2sLeL8mwVSkmW7gP0HUaX30DOi/CwsBbHIJ4z+/7SskqhPAv4mHsxvuO9q/UO4mb6Ze5z8RtcQIXFnlv8Y0d+PXONA/mPrGafzJ0j8C+0Lw7Pjlv4AJjMwYA+c/mNyO1p3s178pbU54poLFv5XposFk5uM/bayiQFL5578u7HiekejePxKboEYBBaM/SZ70Cfo24b8S+GCfKjToP3ot5BnReuK/JDBFMn9auD+o2VQE3P7bP0fSwg59see/6TqLivrx5D+hkNR+QMTMv5LRLgttsdS/kkFoG/F05j9w1WhiMMbmv/9ukr/MQNY/z7kNePF8yT/wGGfG4Ifkv4WcJ+nR6Oc/qyCQisd03b/27fFZ8Y+xv0XVTdwR+eE/CFHkY6dQ6L9vxsf/p+LhPw+u4wULc7C/yYN8VYm43b+jmZvXLPrnP29aLO5AgOS/uA0XS2oCyT/jqazyNpPWP8x7VTmw5+a/3owRv29+5j/CQWKViofUv1nmo399c82/MfjYCkIh5T/WpS59Tc3nv80PkjO28Ns/n4lFLkGluT9j8a7HeLTivxQdgO5JYug/hEd6Ai9B4b+sV41FJOmgP4+WmNERaN8/1w4l0oA46L+btb89UwTkP2d0Pa/VLcW/9Q4DNWlu2L/7pZXN4lDnP0koafTlK+a/8hEBzZLB0j/BSZf7LrLQPyWwKrQwsuW/IeSUm76m5z/nYBWK+lzav9cTc6hP38C/7AFTOclo4z9BHc+W9mjovzBuCfKiluA/+ag6ZdOvWL9vB1iDSobgvz/p6t9IbOg//IKhw1p+479ohsjCNkjBPzC8ht4UQto/xVEdtEWw57+d2uGAp87lPybldSmo79C//vFdN9Om0r9sCXOdWDrmP66O9lEkdee/8+A+GDq62D+XyBzYGezEP3MQ55SgFeS/seEn+5Zk6D9yFIffisbfv6c1fV/Q+p6/LltAYZtS4T/f0S3YWZXovyKokvqF7uI/UUlHwpimur+ontBsTQ3cv+f++UaaBeg/RaE2Ss5m5b/gkMHBKCXOP2JmtMq1ltQ/8SBLhWm55r/f1ioigzjnP9UNtrYiCde//06SbxD3yL8AN7Ron7rkP3BisRAaVei/GwSMo7lO3j/u+/S9A9ivP/CEYcKPGOK/XcYUoo2z6D9IXjh7CFXiv3koVKe+obI/bNpzRynP3T9mt9WBplDov6pMbJV59OQ/qe2xe09Wyr9nGzUY4oDWvz8pkTkXL+c/RNAHBeXw5r9fWT89akrVP4Uspf9C/sw/0UFOoGlX5b+OQdUwdDroPy2DOwhoxty/L9Lv41ghuL9/b6Z3vtfiP5pmZkzDxui/yusA5xqy4T8nGWDZBQulv+6/gjfCht+/iAxAIzWR6D8OACH8zXfkvyudsXpxdMY/JL/KCGVk2D9dWz/BGZvnv7V6bmpZnuY/GOU2L85+0796apAr4H/QvzNEtLWm6+U/bHYJJJ8U6L/MdiLPNC7bPyfKBHZvLcA/DNj1GcGP4796v7wi387oP884fdD6BeG/l3wads2sgj+PftbumpngP3VBqMsVx+i/fjUtX/Xw4z8fdZ9SR4HCv4m/fYZNQNq/ULo8hC395z9KTZ029UDmv/ok/mMTp9E/kdAgvct80j8JZsPgAXfmv+Fv6Sma4+c/9iE0XMeG2b/Tw6pEWUrEv+Ul1z80QOQ/vpkowMrL6L+aNzKh6lDgP5Q7jG3pqJc/W2VWE9Np4b9N//oZHfLoP8d8mdYeYOO/wOiKwCj9vD8CBX32rBPcPybQF3ETVei/u7zHvNLY5T9OzjhXC4jPv/WITk3sdNS/vVfqRCr55j8lSJv+aafnvx8iUmrP0Nc/eoGTgXZlyD8eMbyxt+jkv70NOh91veg/i13t+WIm378eq5xkU2ysv0PV7d6cM+I/lJ/SxSQS6b88hvWefsXiP4iu2ORL3LS/iFg6spfd3b/V7pMgkaLoP0iO+LYRZuW/eRlP3+6syz81kocHS2fWP3IpAB3Tcee/fRx93Rhg5z9aaHi7BA3Wv3gCGSHSfMy/y8rNnO6I5T+S4WWn0qPov0mqw0U2mt0/26+r51mKtj/OTNE+jvbiv2jBLbcLJ+k/8LsRBE4h4r9w72m2SUepPxXlSH8lnd8/gC369nDl6L+CyDw71+jkP1tyc6GCvse/sQuHpfJS2L9O1i3ls+DnP0KrFoG2Dee/dzvIxCY81D8EGtsvO0fQP0ziKMR/IOa/ije/N91+6D+LBMWX7/3bv3XjT37n4r6/887P7j+y4z9vip4btjDpv0CvLEnLc+E/687LVcNbkb9RiusCuajgv2guGkOCHek/qYIhrk1h5L+LbxmBg77DP7RXi+rvNto/6vPPgohF6L/DklEgWLDmPwCVhFb8XtK/aOI33TZM0r+GU2ywFa/mP8bxAC+UTui/uAQKDjhS2j9j1vfn853DP8j2G69NZuS/4+/neA0v6T8JIZeOOb3gv+rYS3YRGJC/nzG6os584T8c7etamUrpv038g7Kkz+M/i+L6Y3Jdv7+j3MQdUhLcvyzAQGoRoOg/oFf0aBhI5r+gKEBAU3bQP4umyvNhTNQ/DfqF3V4057+HqN9w/BLoP622BCfBl9i/c3One7XIx79Dxbh4VhLlP7Na/rwAIum/D43GacH73z+XRAdMxN6oP7hi/gNmSuK/FLvDtY9s6T980cEWETTjv7uUr8DqIbc/R/DWgyvk3T+3knPCE/Dov7LMZncX1eU/cQOm4v8Fzb+kRMdnw0bWvxWPoeYNsOc/AF6jaCDM579G+UFxRM/WP2ZrK9++78s/t75nsPy15b9zkGNLhAnpPzZyR3sabN6/VfuU/kThtL/hgS4pFBHjP/GiCQREg+m//GdKv8yO4j9vp0dOS5ytv2vYGNeRq9+/ehJRhlk16T9zn73LelflvwH6riu6C8k/zUaFwmM62D+qrSiw2SHov3JrAwkQeuc/jAcEN4P51L/Sd6/jigjQvyUwBljmUOY/WDvVB5Ll6L9p1qNTIMzcP7oNaFbAV70/ZSiF6XDQ47+Eo2hEmo7pPy/noo4W4OG/3Sp/YKSXmT+WPjhfz7PgPzVtw6Oxb+m/00kXPG3P5D/VdK5glv/Ev8WWIp5NJtq/nyS6j32J6D8Fh0fJ4Bznv44V2CVGF9M/5esrGWAV0j9Vyzo+veLmv3x3SV4ptug/MgbFq30c27+NKlU8cOfCvzDt8SYXiOQ/O9Jp1nuO6b8phN9KMijhP2CQSjuyl4A/UXI7IbiL4b80h2AY8J7pPyfeSeQePeS/boWiYGDjwD+4J10gjgncPz43BnK55ui/5gaqn6205j8/eUnyXCnRv3yqh7BiHdS/9h5eLC9r5z8WWTJIT3vov/5DQKflXdk/zl9UPFYhxz/Li6wCpTflv/xecYrXguk/ntOmgGhn4L+K33YILjGlv1PwX6AUXeI/YFKlC+7C6b/Vhe8SxaDjPzlafhfccbm/tHl9dDXj3b+8Qn3+UTnpP530AfmWQea/I27h7zthzj83lopolx/WP9U3iBLu6ee/BYQHTw416D/qXreDE5HXv6SB5BCUV8u/NltJELze5T+LHRWvoWvpv+rCh8cMPN8/EkhNugwnsz8e4n3ueCfjv+27suaJ2+k/qxzTM5r64r+jJGHKPASxP05f/0NXst8/nZu7uBCB6b9QwrKtwsPlP4b66qvLW8q/XC/RmgQb2L+em6gxsF7oP5FmEIx24+e/rQIDRMq21T/1zwj1KojPP9ZNOIcBfea/KxHEG9RI6T/sdrlau5jdv0/rjvhhuru/Mq/g93vq4z9R24Bpp+jpvxFXzLfdSuI/Lg3Iv2IDob8OLumWBbvgvyCrpB/Evek/CODr81s75b9kaZYQLkTGP5pb37eyDto/H4iYQzDJ6L9B6HGlnYbnP+eJYFfUz9O/pjSsOY7Y0b/1dJdyHhLnP09HujhuGum/NRu174jl2z+qJDsVTSfCP0/zZrm3peS/mU58vS/q6T95UBT605Hhv8Y7cRby6DG/lcTynbaW4T/jNBrKP+/pv/7vN0+TqOQ/SBiC+zIcwr8852zCrPnbv+vuDaEtKek/RvR7yJ4e57+vf7c8A93RP8lRSrA16NM/FZs737+d579aDjoEdeDoP8VNITEqI9q/bDH+wtlvxr+qojt1yVjlP67dg4UR4Om/Y4sbI8bP4D9l3RY7UGWhP2ncZSvPa+K/eDhDgVwV6j8nuGd9ngvkv9XSxKxoy7s/6462yQDb3T9mXWBlbH7pv1EXPKGaq+Y/81N0RF6+z7+zqCNrDvLVvwkU3geXH+g/tosJFfOa6L/rjXnuW1LYP5BtwH7UtMo/jB8W5lED5r+76D3rQMrpP5MK9ggCBeC/q1+/G5dcsb/S/KFb4jnjPzS1Ulj4L+q/znXfYLhk4z8OFKpvKkWzv8G8nWLAsd+/3FIJkLXI6T8wO1dPty3mv1ux7gJtrss/559jlhz11z/9LVN/WZfov26AL5r4Seg/i5jSxuJz1r9tNB0aOvTOv9lz33D1pOY/+FC9qbeo6b/498UatGPeP7oD8dK3C7o/TYmvKoYA5L+FHMPB9j7qP+laTeggtOK/2OMd/QNTpT/M/qSPgL7gP/pb0iPXB+q/j54sWCCl5T+W20pw+4vHvynvG3pm8Nm/apC5WMEE6T8w5/BXm+3nvwEDoc+KiNQ/MZ4o3QOW0T9za6tUXD3nvzNycBV1e+k/4QgT80mt3L+DcuiAAl7Bv2pbjqpTv+Q/azn6oUBC6r+0xNrzHPrhP9KtbIVNxX+/FPKSgu6d4b+zrZ1DpDvqPxX7TJYGEuW/brd+O91Ywz9r2gv29OLbP8XLiE2NZ+m/iSQPovaF5z8XhJU3J5HSvxen5ekdrdO/bCLm2DLM5z+nQVUhfkLpv6Pk4q5759o/AG++F7q0xT+1Dxw453XlvyLSS1/EOeo/MwTcN/Y24b/bTxZ3qvmav3Hhc4C5duI/Hde8TPVj6r+QYUYmoHTkP3GP/ljgLb6/wbhf/NPL3b8xcXDhgL/pPxyNRlMrE+e/3IXS5ZGO0D+RetaSa77VP72QpXkpUei/JKJtYd396D/jyaiSBxPZv12Il8/7B8q/tUGAruAj5j8RDlLvdSXqv1onFR37auA/rmQN830Frz8Bl0Csc0jjv4ilxe6ngOo/d2zUUCjN47/uxFSINpC1PwGPQgsTqt8/UgHxg2QM6r/gvRTCX5XmP0c5IitWA82/BnVn2u7I178ERgIS9cvoP8RadAqjrei/wFafvbMw1z/fimYjwFXOP72s/JjjyOa/CnOU4U4F6j+a9TE9/SzfvwswVrOhTLi/IWRUDbIS5D9JK9pAn5Hqv+DNdnLfG+M/GeTeXDe5qb8xlXfSYr7gvzsfoa8FTuo/RKnFsr8M5r/aPvvcsdbIP3D90+Kry9k/hMpnBE886b8KSs7u5FHoPy5nLNBNQdW/+nDE8f9N0b9TGBBjl2TnP6Y+dmdO2em/Esa3SrBz3T9u+cWJAozAP7AK7cUM1eS/FXRX1MOW6j8QVYHgCmHiv72EfST1W5A/0r4N44Gh4T/M/wsHN4Tqv+9c00Z8eeU/bpbKMw6ZxL+sWGVqqcXbvwWywmD1oek/+GG8eL7q579vM1mOqkXTP/XHL5labNM/KGjMhqf257968WhZeaHpPxKdAsPGqtu/QU89EmvwxL9bQkFIH4/lPweG4cQDkOq/Zg+py/Sc4T8kH8LEqPKSP6sVNy31feK/SH8bb9Cu6j/16Zjpy9vkv6If96lMTMA/F+6nRvG13T+0xH0Iq/zpv9yay6FQeOc/ABOdfqU+0b+a6l5A7oTVv35WT7nDfug/ZBhdOdpd6b+lxABDANPZP5KU/1N/Uck/YT8ciohA5r8ZN8PFUn3qP8v7JCDsz+C/kEX+aKo0q7+AwGzXTVPjP00iACevzeq/Jg1oOuoz5D+3nY8BsOS3v2jXcd6Qm9+/9ws40DdM6j/6JYvnwfrmv/kORApBWs4/gVTyxLqW1z8fAUIVoPzov/oGcjKBDuk/hPhQTiTt178n5QKIM63Nv8Pz2zbr6OY/1habLKpe6r/6EM/GiPTfP2o28wj1fbY/DHTH8B8h5L8OWondteDqP8mjA/QXguO/3VJtaY00rj9a1TPRzLrgP+s7JJ9okOq/vLGHPT5y5j+4ZFX3BiTKv7rgLifCoNm/9jVMQ/Vv6T8DJOAVhLPov4e0RPUB+tU/Q4MpHr4A0T+z5cDf7Yfnvy75TfkINOo/NQ0VH6s43r8dsfy5c2O/v6gos6cC5+Q/tbLjw8zn6r9SCpLRmsbiP00K3HhK9Zi/bkjtwZCh4b/JxQGMD8nqP4+5l/z23uW/hju+jHfcxT9rTLYGCaLbP0s0aKCA2Om/OUAiVf5M6D/fn/92b/rTv8X50agnJtO/fCZxKjsd6D+99Dvbc/3pv2Vb6dj3bNw/aRUqBVsjxD9zBDp/kKTlv00wsp3h4uo/OV0Lcb0B4r/c32QRUHGFv6WK17ShgeI/Poie9wP26r8KVnnPIkHlP8BpNct3hcG/zU41HpeZ3b/snv9hBDbqP3Y2W/kQ2+e/ClrY30nv0T8Vz1x80kXVP2HKmf2BqOi/Z/SxM/W66T93vKXNL5Lav9LkvbXOkci/qjXPgmdZ5j+kCHrO59Hqv+rkNzPPM+E/erlNhUNIpz9H1ZPRj1rjv7d+1aQiF+s/2CXRnP2Y5L8zqScU7EG6P4ts4r13ht8/x5zDt0eI6r9aDgCY4l3nP5w8eEjpss+/kkquV7xe17++A5qrdSnpP7R0mBWdbOm/uoPqyRup2D/4BRz8BPvMP4kygngpBee/tqxZZNi06j9w2EoZJF3gv0N+A/t9oLS/AckkLO4r5D+N8fvNTSzrvymtjG7I5uM/Cz7NINJhsb/I/Dwi3bPgv4OpKusWz+o/PbzFRJ/V5r/IMVpwsnPLP1evFh7lb9k/06odG86f6b9VIltCgRLpP+4zQTOMsta/FCIoHHeu0L/MDHsRfKfnP0rOAyCyi+q/UpBLQCn83j95ZbG1IJ+9P7jB1ftS9eS/DQWzN2016z8jQrlWySrjv28376U83aA/xwBJSzme4T+IdId8Qwrrv0fP3IB4QuY/A6BMR80ix78NBoZUT3jbv9g3mO1HC+o/d7sNJL2s6L+fceSpWK/UP2Tizg2+2tI/qyWvGAlA6L/eE/t5eVbqPyPWuzL7Ld2/N5bXUvNNw7+Abr7QV7blP07CEkFuMuu/u5XZUUtl4j9Z5NC2snRiPx3K/MncgeK/D6amPaQ56z+SqIAnpaTlv1M5/SciwsI/Yki5nQB33T9jUIejpGvqvzK3y8RxO+g/q3zCpl+g0r/JCXFTUQHVv4dtr59+zug/x7EIpTgV6r+/IRYEgFDbP8vX/Y9Uycc/Kw7Bx5lu5r+p5CXxQyPrP9AExCaeluG/ZJeiLslBo79TinjFVl7jP1ct6GkVXeu/W+XfV2H85D9p5WWqRae8v74zLDUCa9+/FzxvvqrA6j/rdlnDxb7nv07aABaGhtA/uwlClCwh1z/TnoApj1Lpv1Rk7o3/x+k/NNb8roFk2b8aXP8LoD/Mv9YC8ry5Hec/PDivAecH679VASBEFr/gP6Y2JlsAtbI/x0iEVDkz5L/0a8W7eHTrPznvbVzuSeS/xwwFJJOysz+rNE20sKngP42Ne+AlCuu/wlIKReU25z8FczDcbcXMvyBOpZxNOdm/Z2Jh0/HL6T+jvk/Y427pvwMg1NPRatc/rNZnB2FX0D/eJUd8XMPnv4xnMedV4Oo/5aQRNxm+379kf6ko08u7v05mrrQZAOU/djq6f7V/67/qzKCPko3jP9Ir6NVgVKW/Ci3hB5iX4b+Sf7fp5kfrPxHY7uQBpOa/xGCnh8VryD/JFdjbtEjbP3rCb3tiOuq/s/LV2AAK6T8LSTRaSWTVv2rEDBdUitK/nph+8Cpf6D/sIzXWlKzqv8Pr4fS87d0/zdSj7phwwj95sgeAkMTlvy22haS4fus/XwUwPpnH4r87zgtA5yJ5P9WMIoHCfuI/EqzLEsR567+ix1egUgbmPxBembb+AcS/R+ij4GVO3b+f1RTloZ3qP6MTj4x3mei/J82TDshR0z+FilsmobfUP7IBHlDS8Oi/RwLKxa1s6j87L5vB2g3cv06U6fN2+Ma/zPlY4TmA5j9WTLrIdHHrv+8M2YZS+OE/wVjQt1lFnj8qhKlFvl7jv8fZNQWZn+s/slavwBNe5b/lxcrYHBS/PyLCydRnSd8/Whgp23X16r+Sz4mNbh3oP6AIcDw0NNG/genCzEHe1r+QynpIBHjpP4FUPm+wIOq/zr9Qqz0f2j//0F2ja3vLPy82wca1Mue/QUmVReJX6z9pY8E3EyDhv25cKXk4vLC/UuuAbRw35D9NLuzwRrnrv/QCusKGq+Q/4RjsfeQLtr9KeYD7Ypzgv2SMu0+pQes/7au2BBKW578l5RaK9BjOP4V0psYx/dg/YhGvJnf06b8+4A9LssjpPzfpQHO4Iti/5QEdRF/3z7/EjZoSqNvnPw78Fzf/Meu/wF98qTQ/4D8m4PpxSuq5PxKdfzpxB+W/32Vhn7TG6z+G6EE78u7jv2ERKKa93qk/SyqbCciN4T+SLm95DILrv/qvDpmTA+c/rHIZZhi3yb+LaINzbxPbv260bP7lZeo/NyoSi85k6b/VWfcuJRnWP1RhybIdNdI/8ACWyrh66L8yZlyBz//qPyL1ny8prN6/VogwzqyLwb8F4D5OVM/lP5KL34POx+u/NmdBuaEo4z/i+160HRWOv2EEdHxteOK/QaZc7nS26z9bJA1cKmbmvwe4MZbCRMU/GyojU/wf3T9BHZbOEMzqvwBr0BEm9eg/5yCl5WQD1L/4ZPjv9WjUvxV77kSUD+k/Bqsj01zB6r+HFYDwKcrcPxjMtdyXH8Y/nYiJ3mCO5r/ONjDJhrzrP7aTkaXlWOK/FTNz8KXYlb9ckqZ34FvjPyK2a7y93uu/H8t9sxK+5T/qGWMz68PAv09yhYHdId+/y2iMo7wm6z9/bSln33nov3KW7ylf4tE/omUA6i+W1j9F0KNT65npv/1umaW2duo/U378nDfZ2r/smamDyq7Kv9sgM+g1ROc/YnuKXNWk679QmzQgE4DhPyfv+7m3ba0/+BCTE7E35L9DyBd/x/rrP7LVsECOC+W/XyIY+iVtuD8wG68YDozgPz5RIrezdeu/ujMvqibz5z8K671gA27Pv58FBVXFu9i/E1uibXMZ6j+kTE458h/qv2skkP0l2tg/eAfNISk3zz+vBDVgdvDnvx3qwPW3gOs/N3NC24Oe4L9b8KruPvu3v5dz9JRyC+U/ggWTcngK7L+ajxfF407kPzEpKKsJe66/fL1pEuOA4b+8kyCOxbjrP5Q6SoAtYee/arArxX8Eyz/qZo2HstjaP84RxdXmjeq/ZhtmkCq96T8UDaI80M3Wv3dLdatM29G/YUABY8mS6D9QW6kcMlDrvwthIecrad8/H9fFTIyfwD9DyRKju9blv3fHPoS8Dew/voReBF+I47+5H+DRRfSXPzW+KxL3buI/awRQE8fv67/68a0BK8TmP9toM98kisa/ugI3+Pbr3L/FrJ+/BPfqP5YBAGaATum/p/mXgxi11D/jzaSCgRXUP+0k7WHaKum/KrG8K00T6z/6h0mOV4Xdvw3gm5UVP8W/7VxvfCaZ5j9C1G9ghQTsvz75CaRQuOI/ZajkcVCAij9ZE6c51lXjv3pL+K+SGuw//h0go1sc5r/BsY6y7QDCPyA2ILqV9N4/Elr6cZFU67+iotYiGtToP4A+TZTnkNK/n/Y+qShJ1r+Jxp9OWbjpP7jS6U8Yyuq/4ej/kleS2z+B7jasG9rJP3vz0ylRUue/nrp2fcru6z/DiaoIDt/hv71h7tQzS6m/XSYtoQ815D/p8shhCDnsv9dvIh0BauU/hcoS/bvVur+OC/P7ynjgv9IT8mZWpus/kC4izyNO6L8tDDJfLGLQP0yRptM5ddg/jFdwxPo66r+L5J2FqHTqP9kRxasAkdm/MRGQIH9uzr/oQa6v3QHoPxyC5iOJzOu/7je3MPH84D8Awa6jYv+1P/KnhI81DOW/TVQfzg1L7D8rX4dQYq3kv9AnMJ4ClLE/yChztgFx4T9L66hpIuzrvxZ3vAHPvOc/I7pXLLdTzL8IUfxWr5jav0DImi94suo/MI7+khgT6r/y6x//LoLXP/V+S90QfdE/pKaYPXKn6L/qgBN0xJ3rP1M+Go1YEuC/lxsNBiNZv7951law3drlP4tqoFKOUOy/IVZ7KMvm4z9azSgnqIGgvxH9SG53YuK/rsV6sckl7D8u3JLMUiDnvweiCXne0cc/5OxRp4ay3D/kvDzyjx7rv3woXP+Ipek/SuxswMVm1b9yYU++c73Tv11lAFy5Quk/Vl7IaIVi67+C2RavTT/eP+Dg0BNLV8Q/giccSaGg5r9jyBwTe0nsPyrxFnqMFuO/MBiFJfH5cb+X1c5Dt0zjPzpQpfolU+y/BOBsput45j/1KAhozEDDvxnOmdTAwd6/xqkChwV/6z8ra9oHICzpv5KiCcmuP9M/u1OZ0lv31T8m+8oXYtPpvxC7LNfaGus/kf6AzYVK3L/B1xu2uv3IvxDvZmwdXec/vCO3BMs17L8x2H/h+zziP9oijeQ4EqU/MypiT08v5L9A8FicFnTsP2AzDlLbxuW/bVYDHg9FvT+Dhg+DsWLgP5h+eKGh0+u/utJXkQmn6D/WSyYu2g3Rv00t9Ne+Kdi/p/rrKyBZ6j+ebt5r2cbqv1lsJgEvR9o/EMehRb2dzT9+l3sr8w/ovyB+R/Z6Few/+/GxnHNa4b/dWlnUYfezv/HafNnQCeU/6AslnICI7L8RtsXCaArlP/FfL8w88rO/sHAoejte4b+f++hLMhzsPxdImBd3Fui/2pOqpnukzT+BsWEqlVPaP//qzyis0+q/tD49pZtm6j+yVE1UJjbYvxF2pmWYGtG/OhoVxse46D+56/SVjejrv3iv92NSb+A/QakUKSdmvT8eLGCR0Nvlv0fPtr5OkOw/K21t/t9D5L9MXCJQmRqlP/DVSbAFU+I/DEvAAotY7L/YjLeZn3rnPxLtTPSpG8m/xLzCQtpz3L/Ll46Zw0LrP5fg6MpB+um/pKVc7E8Y1j9CzkXA+mDTP/dlRthEV+m/zysDdAuv6z/InlyA9vfev+9WLUaQaMO/9+JAwuak5j+xXeCVcYvsv0PZ8fyRc+M/xjelzVancb+A/3lFmkDjv1FuYM2EiOw/pXrxg7/T5r/AsNCdP4PEP7i5UTSNid4/R2jMJimm67/LOXji8YHpP9bwwqKW7tO/+csYafeg1b+JC1qGGOvpP7Kj0QIDaeu/63y8vaoB3T8fUpQlABrIP62N0IavZOe/0mnhi9957D91+WWF1JnivyOeUGUQxKC/Xqe1UoYm5D8+Wl1U/qvsv8iOwpYYIuY/qMiDy4u6v79ThUyU2Engv+MqPrek/es/eTRpodf96L+I93+a67nRP3KsHzGC2dc/j8ChpvVz6r/oMAmUiBbrP7zAjsiX/Nq/UpmfdTzFzL9S/hP7yhroP7QG6uuUW+y/5ra9CAK34T+J3PCH4+OxP+AfSiJaBOW/1RMT9dvC7D+7o3PL8WXlv5gYbBCcV7Y/gSjh7KZI4T9167qNA0nsv5mbVFwkbug/CBHTpIv2zr/OvSOEkQnav1P2GemT8eo/LxT8Ura36r9SdNV2m+nYP9YJ+MwPtNA/JmtlbN3G6L9XmdPnkzDsPyN5NXp5y+C/jtid6c1mu7+b9sBmqdnlP/WPjNIHzey/BK0UNpef5D+/YLMYwcOpv6JYdQW4QOK/713OZBiI7D/syWbzDtPnv1p/52hDZ8o/VpDg5x4w3D/k7dP8r2Prv8fANTysTOo/IvlnyJrJ1r/JFJQNQwDTv1UAk4ePaOk/LaUKm+T4678QhgdLPK/fP5E4/ls6c8I/mpNMcAum5r+q6LHjccrsPw7U/ORZz+O/Kqua0a7sij+zvyz/lDHjPxEvvoe7uuy/XVosvNMs5z8cWlNEAcjFvwiJAHonTN6/86AOswvK6z9WF0ISkNXpv8MknH+BndQ/5Odj1SdG1T/L/vqEjv/pv1EYqQqVtOs/mL+6Ba+33b9OEVyyQS/HvxCikWAbaec/zRa2/g+77L9wSNW9j/XiP+hUMyj1w5g/XkKk9Mka5L+lUPPoyuDsP0cxtWi0e+a/LosH/dAawT+WCEs2Vi7gP2MS7x9uJOy//1arT41S6T+VYom2QWbSv2DD9xKwhNe/ueeWUoyL6j87W70iuWPrvzBz0hEisds/IIwivlLlyz+bKL1ceCLovzJ7veHdnuw/3XdIWJMS4r82gJYBFIuvv04JjjLm++Q//sO9NSr67L9AriDs97/lP/NCp9WMw7i/QEJ3wFkw4b9qXMi4o3LsP9AcOhbVw+i/azEQcdMk0D9LRWJL0LrZPxT62rs/DOu/xqrBsGoG6z8Kt2v5c5zZv+R7HyyiSdC/akbHvcXR6D/B0Lg43XXsvzXPXNbDJuE/ajBYSbtbuT/H395ufNTlv9uvZufCBu0/ieOWXOr55L/5N+8H8nuuP0dENcCjK+I/TBXhb3607L+6SXgbninoP4xGoVdotMu/wSHiGYDn278OvFiPZIHrP4mKQVvJnOq/uXiFf4p61z81UsK4d5vSP5MFzj6rdum/YlxvoBVA7D9rUZW6hDLgvyMMGAScd8G/Sj18/iKk5j9UxohRhAbtv6sjxdLcKeQ/0Zdv0KKklr84YZxZvB/jv+VQq83V6ew/puWFkiSE57+o4bTQzA7HP8uSYK66Cd4/kAgTwrvq67//tLSW+ibqP2gafThSTNW/VGK/Cxjn1L9FbHMp1RDqPxnVt6aU/eu/PXjQd3ts3j82zjWI0j3GP9OISAl0aue/44ymrWP57D8wleNGJVDjvyK72ey8tI+/fjhTqi4M5D+OKV8HhxLtv5eqQhOq0+Y/rZRkbeJawr+dpjalPxDgv9TfbZALSOw/++OOlyml6b8pZwwfvhLTP3w7FjxzK9c/nAsjgPSf6r/6W9zHba7rP0YKOC+1ZNy/r6p5l1P+yr/vmne8DSfoP6v49yNc3+y/MBRbax5t4j9cwlhN5jmrP9aoagKJ8OS/HpDuEnUu7T/U99x+dRjmv6ytAPJ+Nbs/1ElK3mgV4T+dGa6cH5nsvwqrj0GHF+k/lyAVJsfO0L/RyTDye2fZv9sKMSa/I+s/iuMsabpS678jBlPClU7aP5BLeJvyts8/+DoVe5LZ6L8GyWrRbrjsP5KvGYUngeG/qtyQ0o5Ft7920dIbXczlP7j6RbiIPe2/nFXQ4dJS5T9QWQ3oAqGxv/jm32zdE+K/UR71Csnd7D/hiVMUSn7ov0PbpY7XAs0/JL8M6Cea2z93+7cF8Jvrv2cUvtCZ6uo/BFxboAMr2L9Vj4ODwjLSv+cKnwypgek/EIvQyqKE7L/+GqRBpIzgP6jQUqUFdsA/z+hGUECf5r+hD9KfsD/tP8avXVMTg+S/pHkq0mDynz+QITd6JAvjP5c0rpreFe2/qXIzFa7Z5z+WHYgeX1fIv598Omhwwt2/kcUoM0cI7D/0rloaMXbqv8mUHRns+tU/6kf/rfGD1D+RBaPJ/B7qvyOUOR0FROw/y3oAFvkf379EqKeAA0bFv0yVn83LaOc/IatBXuE07b+UeJPSjKnjP/KPIlLzNns/YYDJKMj647+xFV29PEHtP266erb0Kee/wz3HTDWdwz+pY1/LUt/fP6kwdQ6KaOy/z9CqKav16T86h8DxQr/Tv5M0+hf1zda/jZtExj2x6j/UgnnLqPbrvwL6A7M4F90/v+x1H5AQyj8VRWjInCjov1jZfX0VHe0/2AvsIJrG4r9OPKDMcdWmv1a0Zs1V4uQ/0aHEqsVf7b+YX/u7ZG/mP4tKJWDlrL2/hOIDeuj34L9teclhg7zsP+FtlJk4aem/yMZW9gF50T/OzMGXvQ/ZPwbRmvogOOu/7oDXyKac6z/V/jYH5//av3oRBJh7086/3kKorFTe6D8BjtKCTfjsvxSPnZqa2uE/m2bJ+uMktT/4Xu0mXsHlv2kVWXJhce0/8I8THUqq5b8QFi1cbgq0P3YKSuR4+eE/sN7AfQME7b9V+uCoD9HoP7ANpRBRUs6/y8faDz9I27+2a8xoYLPrP9NY6/AdNuu/PuR1F+va2D9cDOH8S8bRP1CNvkyZiem/cIJE8o/G7D/Ny6IM8uXgv/v/YCKL3b6/OFV6lHWX5j/8+fUJ/nXtv6tRKeT12uQ/CcrFA6SupL9PrnnV4PPiv27NClPgPu0/siEqJGwt6L8E7lhUdqHJPyy9c+5wdt0/x5vdQLsi7L9UUqj8MsPqPzhls9gyqda/+d7zKd0c1L+7AEIOFSrqP6J4EE/ph+y/mrA2ERHS3z+9ecpWI0jEP2+D/kk0ZOe/2tjOWY9t7T8JNLQLvgHkvxpLZ0bu/GI/AEEEd6nm4z+BJHCJ9Wztv29EHk2Pfuc/7m6yEIbhxL+gaHKrTpnfv+VmFwL2hew/YiiedBBE6r96MJDEsmvUP3JGmd1dbNY/QKHHFHe/6r8mzVQZbDzsP5bBF22UyN2/WRc0Tlccyb9psheDNifoP3TKlEUPWO2/5iTbWP0e4z81OaAO416iP0b6NCRf0eS/fXwvlCSO7T8v9h+/v8TmvyZHtv+aFMA/L1FiIuzX4D9oRv2Z2tzsv0VwcKDmuOk/2Cy4amUj0r+qew0nvbPYv+mCgWpzSes/757iyDDk67+MjD9JTrDbP4shD1cu6c0/TAYdtBzg6L/mzMqyfTXtPwKcwTMTM+K/QHOAe1L6sr/2iS2ikbPlPxvFo8NUou2/5dNUUUkA5j8hvYOKrnm2v3WAaVyJ3OG//F69gDgn7T/rUJFz6yHpvxIGPv6Vos8/NOucG+3x2j8RIZsmw8frv42NO8VVf+s/Q03sKSaK2b/XqFOcO1bRvyz/PbmLjuk/wvxFjOAF7b//nIt9Yz7hP3Jk6GJQxLw/s2hZVtSM5r9IEC1Uc6ntP5JmKPZ8MeW/L0kPz41xqT9bdWA/BNriP17aDtPkZO2/e05Bd1p/6D9TmczK0ezKv77HlVbjJd2/XoVGkSQ67D9y1Lpa/w3rv2dQPJMKV9c/9wG41AGy0z+cbaUDLTLqvzd+1cJDyew/eNw2ZFZB4L9JufXVfkTDvwUFSHu+XOc/6yxTenOj7b9I5FqYsFjkPyDVP9nYVoe/3Fks/uTP4782rnFpupXtP9nG5LF00ee/z3U3c5Inxj/kK9Z3mU7fPwlLY0VboOy/V6jyrFeQ6j/0bpyd8BfVv4Hn2KrUBta/l3ODxK7K6j8m/hJLuX/sv5aEpGiweN4/cvWjJfYhyD+Tz8lT6yLov8tfG2xOkO0/nPOh9T5247+Ema7mv66bvwtxqfy2veQ/4tzB7Jm57b8OZLKLgBjnP9Oc+6z0VMG/KblP0Ia14L/I/7BPMPrsP+ojPqaOBuq/ONTyhtPN0j8/3FhyoVPYP7lg7BXEV+u/aB5ZGFkp7D86XmRRsl/cv+UyweZX+My/hNdAXPre6D+AmYtnA3Dtv6WT9naHiuI/mIAvom7GsD/2vesHCaPlv7/BFehp0O0/C8POsMlU5r+ojltmOe64P5ZzRnchveE/XCJ+S3JH7b+cf5Tk2XDpP5LbsUC0edC/a8kGfliX2r/t8nkhJdnrP6Gi5BRBxuu/7M1ocJo42j/kLC3at+LQP/lMBXqPkOm/GvJXtpdC7T+GDpgG7pXhv70ykWLwoLq/SXL4jG1/5j/6PNzXFtrtvwdf2vCghuU/nh5lKtVArr/OlCz6oL3iv7E2wnz1h+0/5WWfo3TP6L8WF/71MTnMP236TKDt0Nw/MOeWRI9O7L/1NB8XlVbrP2AlTcNXBNi/LOJTA4ZD079fEMooUzfqP+5Qtq4WCO2/Z5Xf49qY4D81/M8DYTvCP9p24c16Uue/DdUzNpPW7T/7OgccXK7kv9srxhN2E5U/lioomIy24z8OPZnnk7vtv2woJaSfIug/2eJ1Whlvx782zj6qWP/ev/6jaDLFt+w/0H8c1H7a6r+KuOLr38PVP7rpUJ1/ndU/Ai7tpfLS6r8611ixkcDsP3BZ6+l0J9+/6Exy3Lchx7+V0CsVyxvoPwJ6c4TXxe2/tz7D3VXM4z/J2cBvEICSPzFDEcBup+S/kW0RZS3i7T8KgsgQoWrnvyJoDDg9l8I/Dkp29MqQ4D+WY0ETjxTtv8H4Sc8tUuo/CJwvwS54079gOw9MkO/Xvx9FmRkgY+s/OoKNJCBs7L9DL/Us+g3dP+1t2YVDAcw/JUBi5/za6L/ebd9R4qftP5RkB5Xt4OK/cUOoMZMTrb+/1vNI1Y/lP57HQrWn++2/mco1YMSn5j8fomN0h2e7v4NLcFBTm+G/kXGNobpk7T+SMV5H173pv4glTN1FItE/QHEHq6Y42j/1QKm9kufrvzbng2zfCuw/xdaC0i3m2r+yaaRF5mvQvxxhvzKzj+k/gNCGP7h87b8RaFwqh+zhP4Vk/0T9c7g/nJ4PqVFv5r970qWO7gfuPzDavjRa2uW/u/VCZLONsT9Sl7LDyJ7iP3cgLUQbqO2/MyCIILYd6T/AxtNQWIbNv+BCMs60d9y/RIM5Agdg7D8On7/g8pzrv9RYWDz/sNg/hG37II/R0j/U4Nh8lTnqv7qCRgFkRO0/AmOx44rv4L+nh3ZGEy3Bv4vgOyt5Rec/RFmhqvMG7r+8Cn05uALlPxxdSbeMlZ6/DBa/nLGa478z3Swmit7tP8P78csKcui/erAwwtq3yD9GJpPBsKvePwt70K8+zOy/CGa2voMi6z9FgISAZG/WvwERseiDMNW/VJUyDlDY6j/eS+9b9v7svy1AFWzK1N8/iPjhBOYbxj+LoI0i5RHov14aSc+u+O0/GvQB/Tgh5L9n3fTX12eCv9E1IViXjuQ/jbfQS+YH7r/GBJgsG7vnP88wN0Qz28O/DMWEg8pp4L9tthQHASztP0gXoRnBm+q/pEtJ+lki1D9BLDSdrofXPwQlqBuUa+u/dBKSIIas7D/L21IqDbvdv7frGcs6BMu/kpIzHDPU6D83SEfWHd3tv3tLssk7NuM/4TVlT+OJqD9xszfZBnrlv4+J5qQUJO4/7PaGeTL55r9QceGXE+W9PxV+Jokwd+E/Teb63Rp/7b+IpYrH3wjqP/Z30tfhytG/3d0/LvzV2b/qFZLtF/PrP8Px7yQwTey/sTh0gsaS2z/8dKUx1+PPP61zZQ8FjOm/Tk7ssES07T8Rz897JELivyFpwT4GPra/w8d0oZBc5j/J1lccADPuv+cYiR2hLOY/Sn81IhoAtL8sHF/hjH3iv66vYLpexe0/Q66dSxpq6b8UEhVKB9TOP4InPPxcGtw/DN2bBJdu7L9MyxE5F+HrP5GUWCXmXNm/wfA0w0Fc0r/+Z1aLATnqPzC/Y2ktfu2/wQJQVVtF4T817QyH3RnAP5MTCAbJNee/mR3xpJk07j9g6VmUvFXlv+ItkjbGF6Q/suhy7WR84z8bWgPqpP7tvxRjwL2wv+g/Yttfp5cByr+c20VYxVPev2/BMTzS3ew/nwYPGmRo679R+HqIYhrXP4zm/uoFwNQ/TKEL49Pa6r/YAgsh6DrtP1t6i89MQOC/W+8bsMgQxb/LOM1jSAXoPxFvWEPYKO6/5zxkRd905D/dAtFE6MEpv3xnpzpBc+S/WXXKl8sq7j9zCYSv6Anov3Fl/oGWIMU/wHFCAZdA4D8t/nnqj0Dtv/HnAmJF4+o/E/m3djjM1L/rMcF5IBzXv55GDFcsces/utLpC4vq7L/aSs7V0mbeP3EtLcmFAco/3L5tUavK6L834y0VuQ/uPztLJVxoiuO/zFeW4uTwo786tlG7rWHlP3nCWN62Se6/xnF8Dg1J5z9hJBJyLTPAv25YVFPKUOG/a13E/ZuW7T+vQjx171HqvzR3451qc9I/kQ1lv3xv2T+B/s08wPvrvzu0UGkyjew/iz/9+Eo+3L9C6pqV1+nOvyV6lM+Shek/5YZRVT/p7b9C5T6eu5biPz3F8NKX/7M/UXxe/jlH5r9EttnXUFvuP/8fAgRufea//Xz63xl3tj/Mthor/lniPzJ4ZxfI3+2/8gqrbJy06T+xt38ZARHQvy05C3QJudu/5i7QI0p67D9OqJt5ACPsv/0L5vPxB9o/zAUsvMHj0T/+4yZ3pDXqv/QjS110te0/VE5XP0Ga4b85SZuiDAS+vwsrQWV5I+c/yRgFq4lf7r8qJHbSYKflPxKWAU6t76i/1d1DALdb47+Ykvqj6xvuPyRbnP2LC+m/WClW9RFMyz8dno04uffdPxl/TfiJ7Oy/j8MgcR2s6z8ql9mGvsTXv+AiDz8pTNS/SYtkpYra6j+dj9SjZ3Ttv1+IzbJlleA/wvY3jqYAxD8+/SVYA/bnv2Y5UJVXVu4/Y0YQsD/H5L/aUvf4PGiDP7DjHXR8VeQ/nvze8ONK7r8ajMZeA1foP00kF5snZ8a/cZilikEV4L9f6nkjRVLtP1tuTGi3KOu/xT/u16111T+TkxkzCa3WPwhz3aX0c+u/jIiDuC4m7T/tYLr2MhHfv8SNPC9r+ci/piBaeHO+6D9rXUfytj/uv93FUp9p3eM/gQhpo1STnj+02uiK2Ublv193ET+UbO4/pau4Kk2X579PfwU5bnXBPyvbkXsxKOE/Iyc5qUar7b/Y8PdIApnqP9tMfQDDG9O/Cv64VEsF2b9MbSPalgHsP56yljzlyuy/mqef8aHo3D8J525AFOrNP1wZy9BpfOm/8ucLQKob7j93ZSlFQuriv4K4Nws8ubG/AKag41wv5j8W/jbT5YDuv0FPtD+5zOY/N70ExS/yuL/GTCYVLTTiv2T1PENf9+0/JM36uDf96b/4yqqXBrjQPydXcr/cU9s/x/Yr3yqD7L+yqeXYrGLsPwjlh2cIstq/4FdTKzJo0b/ga4EEiy/qPx028yA66u2/6CjMvDHu4T8TVYLgpcu7PxBlMe6YDue/eendAsiH7j94jAmdnPflvzokk6By0a0/WNdr6bc44z9B34J5ZTbuv/FVBgKXVek/bNJ+dAyXzL8PfNturpfdv6lKS7Bv+Ow//sD8MK3t67+P4FxPXW7YP7z3Ps0Q1dM/d8MKe4DX6r+RjUVadavtP/Q1gWmk6eC/aXuoC8Xrwr8mUPUfJOTnP0zC6z4wge6/brT5PVEY5T/UtXGYzEuTvyewTLFYNeS/KMoguDVo7j/8zND2ZKLovyo81B+orsc/ej3ovbXP3z+bCrXHKWHtvwzWY9MTbOs/Qh1LFp4e1r+dIO9oizrWv2r0tIr4c+s/WlEb0HBf7b/+E4qMFbrfP5FWrGYw7Mc/EZZdJpmv6L+nuTIbGm3uP6FGNvI1L+S/039pEoMqlb84xCmGmSnlP2KtV2KyjO6/2Cik1evj5z+hNX+cDLnCv3RrMXJ2/eC/OSJ5PCO97T9gpRsnFN7qvzA0Oi3Ow9M/r6vyM4qX2D++W4ugpgTsv8PuXH5HBu0/zCP2ZrKR3b8ZMox00uTMv9rfuReXcOk/dfIpU4dL7r+Y4BQ0rjzjP5N47Fb11q4/sWDvGQgV5r/ppeDiw6PuP5r7Uyh7Gue/Jpxv5tpwuz88yhy5KQziP3hi6N0rDO6/IjBVVudD6j/cHjqT9l7Rvx7GQLn46tq/ygT8ZUOJ7D/2KeRuGqDsv6z4aIUPW9s/OXuqjLXp0D+uwPyhwSbqvyoPxct/HO4/FUp+/CFB4r+wxQURD4u5v+1niO019+Y/+GNuuVit7r+C0qyhZ0bmP8Cj/pAIXrG/PjRDZHcT479umVZMGU7uP6F7czbMnem/vNFvukrizT8P0pVaxjPdP3f4GuSMAe2/3rTDrBAt7D8dN2UBJBfZvyWG0treWtO/V2RtN8HR6j/2RGuSEeDtv1ext5T9POE/JGPwa2jSwT/EPaOFuM/nv5TyWYVlqe4/HPFy+Apo5b/2P/y7fvicP/NwA0jlEuQ/FVYqD8eC7r9i/FktB+zoPyOtOHba9si/tvVC0OZw3797eGukRm3tP80VvjRXreu/e4pae+3G1j8MZJUYycTVP0+BKDlDceu/hXQL2VCW7T+3kRJmsTDgvyXhdq4Z2sa/9NujnSme6D8RknUN5Zfuvy9u9b/Df+Q/AHysW9FShz9glF+W/Anlv15nM6gWqu4/lMAWFOIu6L+DnVb1yf3DP5i2i1Op0OA/Um4jzznM7b8PI+ziICHrP16aCKhva9S/dXefAVsm2L/eRmYf+gTsP8maTu9XP+2/Ke1Lj2M53j/fbTVJVtrLP1NPslgnYum/zLIBRdh47j+HiFE+9Y3jvw2xb8GyLaq/vchWF0r45T/5+jqk78Puvy8r+xasZuc/FszlIJzyvb/7DR7eA+LhvzJT1UY1Hu4/FEOgXaaI6r+qttjaswXSPxPKsZx+fto/a35pn52M7L/mGe44R9vsPxtKMZTtAty/V5qdxm1o0L+1e8RwVBvqP8RuwE1GTO6/HDlxQAeT4j+QegNhzkK3P2hIoF9e3ea/W2XGqD/Q7j/3JCeTuZPmv97kQ7ZD17M/DSZW2wTs4j/sl3jBDWPuvwToiv0l5Ok/bTcDG5Etz7+6QHi9IczcvznCCs/qB+0/vvIsIUVq7L9QsEED+L7ZP2Wa9Re13dI/hUaYY1jJ6r+nNyV3PBLuPzTH5Otlj+G/iaZb4tO0wL/Z17UFzrjnPztxBH/6zu6/QiCf8WO25T8TvFx5Flyjv6MsGT8x7uO/C47A3p2a7j/URTKz4zPpv1B2FsqBP8o/jlLOhDYO3z8LSshFpHbtvwUJfQt+7Os//lSRnIBu17+JECSr40vVv2cLf53fa+s/PaaiOs7K7b+X+Z2OgYPgP1YhETRqw8U/HrgJ1TGK6L8ifOAbGsDuP3Vr9n8Jz+S/bptY8YuQYL/Ty8pXEejkP/LXtTvGxO6/G6q/6Sh46D9f6vZoaEPFv9jsjO/ZoeC/zm5RO5LY7T8mKlNBJGLrvzWhPUWLEtU/bws3z96x1z/E8OuhmwLsv8paFDUVdu0/dKJd2Zzf3r9KUc3D4srKvzeuXP8mUek/E3s1pZ6j7r+qZapGDd7jP59Ss9m3d6U/DTzqBjHZ5b+7wIuDbeHuPzckN2dEsee/Okbv+no7wD89NVEAy7XhP/SfeqOCLe6/V+Q33W/L6j/HpruRIazSv1hidBOPDtq/LwaqMUON7D9r3EkdMRTtv8xNMxiJqdw/Tle5bfjIzz+27BFMTw3qv+c6H3SOee4/+jY03dbj4r/g/TUNaPO0v73QDvgfweY/jQ6mfYDw7r9/XiEqit/mP4vYyrvrU7a/K1jHb2/C4r+paYpHSXXuP0SBFrOeKOq/ISJZTVI80D9t85fJ4GDcP7h4sG6SC+2/3Gyzt0el7D/42q/9vmXav4mFlKy0XdK/PkVxRVG+6j91qGYU9kHuv6nx7zvS4OE/26M2UZMmvz/8LDjWcZ/nvz88yRjy8e4/P83ARFMD5r+3qxISa0SoPyW9sFVLx+M/LvHX3L+v7r8699o19HnpP+aAcv5hiMu/QFeLhsSn3r91d379Sn3tP+nLOseEKey/IOFBVjwV2D/lNVQC/M/UP5squWPYY+u/t9UJQej87T+/meWLb9Xgv/yfiypkqMS/vBxNf75z6D8atW5zu+Xuv03T1rX9HOU/QkJasPVlfr9ASdIg5sPkv1xnqxjG3O4/mQdlWrm/6L8UKcfZqonGP/SzntAXceA/dx3sIzTi7b8rKkj7GaHrP5S7IiQFudW/GO8XKDY6179mDfY1lf3rP8js3t19qu2/0kgt6UWE3z+VDRjvubbJP8RluDWiPem/w+s44dvL7j/ndxQ/7Czkv5NAGZ0ItqC/WNPTz8q35T9ktVjBQfzuvz0K5nc8+uc/8PB5NbZ+wb84HLlXjofhv8zaZ+UaOu4/ZBwA2z4M678WKK0pI1LTP5LwpUJKm9k/37iFiD2L7L/d4lfu1UrtPzq/sM/ITt2/8s4efAO8zr/89AHQvfzpP3jEg+1YpO6/JbhBOYYz4z+DbnaLXp2yPzTwhiiIoua/K9KJvB4O7z/joq0l0SnnvxCzPSqD07g/29AaAMaW4j/V5owc0oTuvzERv60wa+o/XVzQcKXh0L9aEkAuI/LbvwDgMImMDO0/AhhmiRXe7L8KqLPXXgvbP7e7P0T+2tE/WUNZ5raw6r8PwQ5bPm/uP3ELO2Y3MeK/9etBJxbcvL+w7HTtsIPnP+ycsxpPEu+/tfB4FtBO5j+5mN/DPzStv5sC6wlCnuO/smYJkjLC7j9I9ONgMr7pvw7Y558/0cw/ptzK/6893j8MedHoQoHtv3CWhspnZOw/emXsxgW72L/2eXGEMlHUv0DW9P03Wes/mIjCIJ4s7r9xlszAbybhP+Udr99IicM/0LanEdxa6L/LfK0fywjvP1xOW/GWaeW/9vfVZkVXkT9QKo8IiZ3kP7KcxRAb8u6/RB7taowF6T9+2d/YVNDHv+aECEJyPuC/B6Ju+ibp7T/Ltfm//d3rv1vnuqnBXtY/uGJgHYG/1j/fEC6y8PXrv/7nj2OQ3O0/8yGHSqMT4L+KOdTwHJ7Iv1K6ieqkJ+k/n3ZnSJHx7r8AW0YoiHrkP1GUdJlL05c/PmzFGyWU5b/UC0Z3cBTvP27i96uMQei/qZ7jdcLCwj/kToTeXFfhP9Exw88ERO6//tEzVg5L6z8ljHZdnPfTvxckqNbPJNm/UStP25WG7D9Ey2xtM3/tv9hxW6+T8t0/3rp6lT2qzT/zlcxfq+npv5QUvE2mzO4/GmhOzAqC479z1XWwMkGwv9eoLyekgeY/96M8xh0p778Nx7ZLhnLnP39Mj/eNVbu/8tJmLhdp4r8hTRxTrpHuP08SiUDWq+q/yC3aF6WG0T/LUdcjCIDbP1po+LLhCu2/cjFwoasU7T9vYomyva/bvx2QCBmyVdG/sDw2GZSg6j+wYlskFZruv/YVt1+KgOI/mhQiTrGKuj+llygImGXnv3vzQiwUMO8/zAvjlNGY5r+Ef8YITRWxP8Y5BZ8jc+M/EwWJXvvR7r9wMCHflwDqPxghx9ffGc6/ApgBphfQ3b8+OxD2k4LtP0uwFm0jney/u8HPSsJf2T/F5kEnp8/TP9VSSqoITOu/7O/N+e5Z7j+4Gemldnbhv0Vyu89YZsK/hs7RyZY/6D9wfrYOSynvvxIpQ87LtOU/mHUGqU0lm78mm9nsB3XkvwT/StDJBO8/RxdEIptJ6b92vXWYKhfJPxdtwVX4CeA/nNsnBHLt7b8dYLA2yxjsP1lh73ulA9e/Dsj2UN9B1r/fc7G7t+vrP6QEky5LDO6/DltYcUNk4D/fl34dTIHHP4pIN9c6D+m//GOzD8AU7z98lVAR18bkvxSWDcs0Toy/TX7hXE1u5T/XeYCc/SnvvxXhAmsth+g/buvzFmMHxL+1/dNWRSXhv0x1TPxGS+4/UKEBSdmH678PW4srcZzUP5A4JA4/q9g/ILhQMlV/7L893lhNR7HtPx74+t7QlN6/OjCPxuaTzL9hqn0rI9TpP9ueKBF38u6/SqaaHlrP4z8CPGKmx76rP38Na/SAXua/+qD824BB7z++N1Npobnnv6cy4mmR2b0/ZVYRZnE54j/9/TDX45vuv0k6JLyJ6uo/f36UqDQr0r8nW792rgrbv1pL91OaBu0/JDhV/wZJ7b9DluLlwVLcP9I8qf3vzdA/HsL5f/ON6r/RcQU1esLuP0HO7C/AzuK/CdQuTuQyuL8m2CqvM0XnP6lDSdhDS++/8NOl907h5j+ZWOETQZOzvzsf+SL+ReO/+2qnfh/f7j92NKtbHkHqv+edNmAIYs8/dUmgxBlf3T+KeZnpRYHtvwwOwP2z0+w/COKgd1cD2r/NpTV6eUvTv6VZInhUPOs/u6192tmE7r9rU1jIeMXhP7OXlbfTP8E/HuOOs/oh6L9SoskUPUfvP5WKEvSS/uW/9pxPZtGAoj8T+s13cErkP0AcWuLWFO+/ZKMbit6L6T+/81ff8F3Kv6xJtNNxp9+/xGwBXxzv7T8X8HsAflHsv7eG4HyVp9c/6k6h/2/B1T/8sz7L897rvznaZpisOe4/Kq8ugvez4L9yOeIKh2DGv7WZKoVv9Og/I0L6VGk1779TNx8XzxHlP6w5jRHPpXE/UN8w01BG5b8Ii78J7TzvP75xwSEXy+i/HosZC1xMxT8IAg9QVvHgPyrP6t/nT+6/DPzsqZrC6z+oixnRhUDVv1ukKMS2Lti/M/nHa4R17D/6aa40D+Htv0KVILZnNd8/BiyIXj55yz+ykys1MLzpv5dXyp/LFe8/MF4+yGkb5L9SPFbb3/Cmvy8DMGArOeY/X2I8I0tX7783BfdSGv/nPxKE7f2JL8C/D4EO4eIH4r/CJ3ZyeKPuP3qmDHBFJ+u/UjkByjfP0j/wS3yRNJLaP3MNZay+/+y/wSbwmCR77T+gIjH8UfTcv1Ux02bXQ9C/hUu2kN946j+EiwxAbejuv6BSEfDNG+M/Z753Ui3VtT/tNKI8kCLnvzJXbJDgY+8/mwvkfz8o578T9FZSgRO2P82Us3PfFuM/JgTtDqTp7r+0wb+Cv3/qP1cFY7y/VNC/t9cYR9Tq3L/472tiYH3tP3vaLMQVCO2/TcCNGKul2j9VasevyMTSP5FMIE0lKuu/qID9wV2t7j/YqY7IahPiv0STsaX4FcC/J6i9rRMC6D+SO43vomLvvwLPzBXjRuY/Fy31LCt1p79VG+4k0B3kv7Kgx7RGIu8/tMOBr0/M6b+2MvL8bKTLPy4/4lqFN98/XQbgBS3u7b/jQKu5EYjsP5uPjMZ2Sti/dNp8ClI+1b/vfuwxrs/rPw0I4+2yZO6/xQwVq7MC4T9OtyKhDDzFP/JIxlJO1+i/Uc0FIo5T7z+4Y/xjZlvlv4hWYWXcjnU/aDqgkTwc5T+K2Oh8Qk3vv1CaaEJCDek/Wo0d0HGRxr+8KNUrnrvgv/oQ187tUe4/UvcGbU3767/TcjzFvuPVP9CViHlVr9c/7J5xQCxp7L9J/cK/iA7uPx4GD7k/1N+/Qvk/AINayr9eeshV3aHpP3vmBFCkNu+//kNncC9m5D/pLPp2pxmiP4Jo7Q6wEea/wswKqX9q7z81uZbk6ELovyhGdKHOcsE/oNLErHnU4T9ExzrQcajuv3hyfKsDYus/GFrqXpJy07/ehQKGuBbavwZwIdlW9uw/mZ83XAGr7b8/ISavVJTdPyKF5ucOb88/4URCmmJh6r/ltzfp7QvvPyF7DcqoZ+O/Khm7Rwlys7+mkdTguf3mP1+LUbDsee+/0CQkeJpt5z+M3hMxlJW4v8Am2kPV5eK/5YzVD47x7j8Vx3QCdbzqv10B7e0F+NA/Oas3wmRz3D/1sVbe6nbtv3FeYwJFOu0/tdlNKqNG279OcTOmszvSv8gjoOmEFes/pf2UonnT7r8yzzZZQWDiPzC/BBQM0r0/naMJb+3f57+ko/5IfnvvP6admPGyjea/B6sGLb9urD8gdtJFNO/jP4kXpJsdLe+/fWxfo+cK6j8o9Bu+ZOrMv5NAqkpIxN6/5lie1Krq7T+MBg/7gbzsv1ArjKYu7Ng/sdOs/6O41D8oP4Md8L3rv769PnFcje4/YmOmLWxQ4b+TNt4qGxTEvwMk7nfit+g/WgpAby9v77+oDv0uk6PlP5YdphHzfI6/9h2mgh3w5L9mKl2cAVvvP5AF7ESnTem/PYpKY2nWxz+n44giK4TgP8ONZgBfUe6/UP7zhOwx7D88+YS0AIbWv0hco105Lde/WZazR1Va7D8+xXqCsTnuvws6zkqgOOA/1sRZsvI3yT8mVotBNYXpv9A5F2kBVe8/dMybzKCv5L/wAidbK3Savz9VFn4b6OU/+qUoZSF7779Xe6gBBYXoPxVxgetatsK/liOIrkOf4b9mbwyB1aruPys9Pb6+muu/Va0WgSgV1D96y3QWWJjZPww1sddq6uy/EZ3IMJrY7T8CdE3ksDLev5j1gu49Us6/pA6DyIZH6j/F01XH+yzvvwmCivdFsuM/DCHh+fMJsT/Ng46mvNbmv/ASfIBqje8/Z7IaNFex578ri/MhARm7P7hwQR/tsuI/yLI1aeL27r/xtU2LOPfqPzgpMVq6mtG/Tm25fOj427+bNsu97G3tP52FFfY9au2/Y6ty1yXm2z8Z5anvWLDRP1Fy1ux8/uq/3zauYyz37j/1QwU+8aviv4OdXIlzcru/nzs5ipO75z8jlhi60JHvv7FsX1D50uY/ohSvO022sL+qLowGqr7jv1G/bdRfNe8/cmfPep9H6r+Q4nlini/OP6QGlmDXTd4/c760i5zk7b/hkRVbyu7sP5BAC5qijNm/wWGOIoQw1L8kbHScwqnrP5992luns+6/cgK8XRWd4T/59gtk8OjCP6pWPQo3lui/000jJk6I7z90AWq7S+rlv4BCKfrqJJk/fIeEbADC5D+dRPj5LWbvvw+KHqc+jOk/hpdtNggbyb+CSpJHC0vgv8cigZJBTu4/MCbN43Jm7L/cVJR8MCfXP+4qeFaAqNY/Wg9z+wdJ7L9/VdkJh2LuP3Y8IBAphuC/TjB57soRyL8qc/+LQmbpP0HKVCXjcO+/zuTqn7P35D9GpBhMP6aQP4H0Twh6vOW/ZzDUPDOJ7z/d1BiVZsXov1F3s53z+cM/iHrNp05o4T8RVf39qKruv5vwTPlw0es/0y20fN621L+TODi9MBfZv4lJ64kC3Ow/1yRE+esD7r/rYa+pTc/eP4Ymzvp4Mc0/AmdYKFYr6r8LzT1mlkvvP/EF+8Ca++O/fIZ0XtA6rb9lND93pK3mP/lI5Dhcnu+/Q+5oEG3z5z9Qg76DUJ29v/G4BG80fuK/xXdU7aX57j/i1a/QAzDrv4FLIcrAPNI/mGNkd3x72z9eblxHbWLtv102xtn8l+0/5Va5dBmE3L9iy93Z1iLRv5aLoNgW5eo/9Z+f43QY77/PjphKb/biP2GQOWiiDbk/9i0nchGV579N7DbNm6XvP5sQUwWtFue/NFNa/OU2sz8EVK5xPozjPxCF+YgRO++/syZhT3CC6j+ISjiS4HPPv4UiDxZP1N2/myqM0wjc7T864bVu5h7tv3cE5Um4K9o/DyxRcxCm0z9nkoahLpPrv7nO19+R1+4/LuYWoKPo4b/nxSuIybrBvwtD4ABXcug/O0tpI+ue77+BeB1Yhi/mP4/YWEqTiqG/WtBF9fGR5L/3yccVy27vPzRov+wAyem/KY0lJRRfyj/WZUmNTBDgP0/jzIybSO6/4Anbe9uY7D8WC/0nM8fXv1hnTghIIda/XO6Tu0w17D+jXGPdBonuvybGiSiu0uA/F4pTr0joxj9H4sirD0Xpv5PiILRJiu8/qLgful0+5b+ToNprxS17v5ImUOnXjuU/yB5QBbiU778mvx+RBQTpP/7Cc+RdPcW/XAgMOqgv4b8qbqOr8afuP6edZ68UBuy/ipTdy5hX1T/QQn+0X5PYP6P3Ubkly+y/h0x5lPMs7j8NpZ4yEmrfv8qAM6n8DMy/1WVBq9oM6j9Iy5hIvWfvv9+vl3ycQ+Q/Z5xLhb9ZqD8Gv7sefYLmv1okTgPErO8/kOlIctMz6L89WdPFBRHAP/76X324R+I/iYG6W9357r97XjKJ0GbrP5GhczX93dK/SBl9dD372r+sEPaqc1TtPxWgw+V9w+2/TJ+QfWQg3T9ZODl1S5PQP0cKABVcyeq/n9RC+VE37z825UthsD/jv5Ko9IMSpLa/0S92fXJs5z/BBTwA4bbvv3Jeb+3EWOc/g6BcJbK4tb+anw10/lfjvyNBFtI2Pu8/WA83P1O76r+xhjYqeVvQP3bE26fLV90/ys+MP/bQ7b80tTnK0UztP4w2y4ZVydq/BjsWtmYZ079f1C4HPXrrPxsyeyka+e6/drsWaQsz4j9TnX9f44nAP8qXLDhNTOi/LJsAOQez7z+o6s1eOXPmv+icNWylhqY/D2Nlpv5f5D90KIJg3HTvvw4Sb5/mA+o/dRbPalOiy78EOVSR+affv1hKj+NyQO4/Mj4oQCHJ7L9ecSrq7WXYP2hwxtytl9U/cCI20Ssf7L/kmVGALq3uP9XqeKAjHuG/lk8sfqi7xb9V2xb+piHpP+yTszs1oe+/B53h9pSD5T+mo6KP2dJovx/le0FBX+W/jqIrhrKd7z+Zdwrv2UDpv+2KXkxfgMY/D6la6l314D9ffdHctKLuvwbiaDWkOOw/CKJiEjz31b+Camz9AQ3Yv9MRKxrct+w/Zfpo3q1T7r+oNjzqcgHgP9BgmCYF5co/mgKxKh7s6b+DbHXpb4HvP1CeYY1AiuS/LvoWeKdxo7/taMZOUlXmP7N3Y/2juO+/Ujohx4Fy6D+2a+YXXlPBv9pvOnmGD+K/eBnDY4337j/nkNhumJvrv/xBK75TftM/I9Tc/kd42j9QvskEB0Ttv8XP9VC97O0/3P6WkO263b//dYeb1AHQvxd4WPNVq+o/lL5ZdcJT779C1Q5yqYfjPzF2j988NrQ/g5r16cFB578KcX3GocXvP4N24u43mee/C68nxDo7uD9A2kXg9iHjP2vs8LnTPu+/2+gSbUHy6j+RGc2CTfzQv/w3Bx1p2Ny/FRDnUGvD7T+dINwBiHjtv4bMn0VgZds/hBW1eaSK0j/XNK2S9l7rv4dOY2A+GO8/EG1jO0F84r/rFhuX9Ky+vxBl73QkJOg/xffKL6PE778ONlczW7XmP0ufWKG8hau/dixC8DIs5L9XaL89ZXjvP/yOhk7oPOq/lCDWmIzkzD8ZW3tpUyzfP1FvUnrNNe6/Mwn4JD/37D+6ZHYbRgPZvzfSmAnPC9W/KV2pca0G7D/mmZVy+87uv8uDRJN9aOE/1fZYfyaMxD/H7tzJEvzov5Lvqtqlte8/R+bRPE/H5b/zTV4WjBKKP9BKOhnCLeU/VHNReyWk778AS+eu23vpP4FBVbi9wse/3iLZJH254L/lphHV95ruPxd/leIZaey/Nn6SGa2V1j9qHKxmNITXP6dtU04touy/py8csRd47j9UicQB2Ezgv+JeJj3Oucm/Nq0payrJ6T9Kb6y9rZjvvwihEWJ8z+Q/h4qBnvEGnT+CYk+iLybmv9BLlzr+we8/7kMQhG+v6L+YHi6JdpXCP0nsgHmr1eE/Zdvtprry7r/KNCc/Vc7rP1FlRKyoHdS/1NV9cLjy2b9NEgNgLjHtP399jFG3E+6/YAY4bJtT3j9qx7fsH93OP9vSZLENi+q/dMvDI8Vt7z+Hazh5T87jv8b3F8WZxLG/ifTR3woV5z9GfnuK39Hvv+l3bPj81+c/3KRYkQm+ur805/dxNOriv9SlQD7sPO8/mltAADQn67/sXl4nUZzRPx2leE1DVtw/FiwfeW6z7b92/0qqBKLtP3Wfw5u+/9u/XfADHuf50b/ZzOX2Y0HrP/Qekaj8NO+/HauhpjnE4j/AZE6mlEG8P0xjfWfn+ee/B9Mpyb/T7z9FnutC4vXmv3OqLX51Q7A/S41OLZv24z8GLfwFaXnvv+xG4I7+c+o/y0A2jYYlzr8BfLTrwa3ev51hSiaxKO4/RJ0VIDAj7b8exlQ1IZ/ZP4Cz4ZbIfdQ/Yisrwdnr679OULkxa+7uP6e4uymwseG/nTdafv5Zw78sHsZCXdToP/tXa6mbx++/2zGffIIJ5j9LdQ2Bcf+Wv1DPGGRm+uS/7grglhOo7z9P3iLXArXpv49+rlc/BMk/JWzWPxN84D9PUOnKv5Duv+bavxBwl+w/FYU9zNAy178c+MmSE/nWvyLo1ucgiuw/cOJW5S2a7r+18ewnLJfgP8IRNGCTi8g/8fgXHwmk6b8JmBU1dq3vP9SBC3RFE+W/3JO4sUUgk78kuHugIPXlPzQw1cXUyO+/+AlbJZTq6D+H5++2FNfDv/4QQoA0muG/41H8umnr7j8BZia7AP/rvyDlamngu9Q/SmXA+Kpq2T8w8zu58BvtvyhAgx1oOO4/JFJS61Tq3r8t3CEKNrPNv1Ra+3uMaOo/306KzFiF7799nEx+lxPkP4JF3LhBn64/FuyBdFjm5r89o2evm9vvP9c3rwALFei/sNqV3KhAvT8cld7Qw7DiPzKQOlKEOO+/hZhrJCRa6z9hbzEOaDvSv8iJC+h10du/pkxkHAah7T9I8QBZQ8ntv0lcjrtWmNw/cFDo2Utn0T9r3wDXjSHrv/09SSNTT+8/u6kWRukK47+X8VBbHtK5v6Owka6gzec/oxVbwF3g778lX0IDxTTnP/hG2dyhxLK/U9EKpUO/47/H8GYI63fvP7XGgPohqeq/Xip8aQhlzz/vr1E5YCzeP0VuiLAjGe6/EY0KKe9M7T9f1HzOZDnav0GOFWW37dO/rP9l1bjO6z/ptJM5ewvvv4Wws5iv+eE/nZk9+Wslwj89ifqLkKrov+zzU7sW1+8/aP0FsCRK5r8I+igXgX2gP4f0rgM6xeQ/noDRgn+p778UpBB0R+zpPy8d8ZyqRMq/t3DTfi094L9eHuTpEYTuP5DtUxyhw+y/UK2uMozO1z9AohH+u2vWP/5aVmu+b+y/BfMlU+257j8nUw0xY+DgvwBz2LePWse/zPN26cN86T8W5pK7yL/vv2jMO0aRVeU/y0bTC09igj/UKn+/MMLlv+tJAaMpze8/gZjTLecj6b8gtt6A/hfFP8CgmX0uXeE/eLPYK5/h7r+6fUCnlC3sP0vM43zfWNW/DHpGojvg2L+Mj8EAVQTtP7B4COvLWu6/yvHPAQF/3z+kFPhEJobMP0OOk3HbQ+q/EjfBNHya7z+P/sWSdlfkv03SlIGSr6m/tYWKrbW15j+4mXyS1+Lvv/7rZgVZUOg/he+jeKPCv7/XSKaTsXXiv6rYVuCfMe8/yO9eCQuL67+Z/A1LdtnSP7nUbHgcSts/tYmukziM7b8TmoKkP+7tP3DusvAOL92/HX79wO/S0L/J69vIfP/qP/r2ze8/Z++/DEZTv0RQ4z/bAvSbCF+3P2Dm79lan+e/lQCqy33q7z/7pqzx+XHnv/DrBIztRbU/ckXXjjiG4z/CMX+M7nPvv72XMTBL3Oo/9CvhxGxR0L/L1/5RSajdv+z/+NcqB+4/MiwwOXd07b96iziX9tHaP9IxvDK4W9M/sSDEt1Kv67++LNwEKSbvP+9FiR9wQOK/04qAK6ruwL9MDam6tn7oPwlsxx8X5O+/94XP2CuJ5j8WmYVTD32lv25HXcpIjuS/HUJz4muo7z8rh1iXoSHqv7whkzTGg8s/ge6YKrL53z9ZM3JU83TuvxN5RmSn7ew/qkfFbsRo2L/u6z8EStzVv6T/NFINU+w/AyNH0lLX7r8WvTb8cCjhP3Ekvyv+JsY/DvRIYGRT6b+r2fK5pM/vP8nj9mNVluW/fO3ArM6RSD+a9ztna43lPw/0StD+zu+//vciJmBb6T/EzNr/+VfGv5pjeFKmHuG/PlVQfV/V7j/ACw7LClrsv+5YaYeK9NU/RoGBWIZT2D9Vi6QcYursv4alvfDeeu4/tCKsXMMI4L+0DecUK1bLv5Oyo6QDHeo/kjZDHy6t77+mGcrQ4ZnkP/kh7CoTu6Q/t3gJgy2D5r+HXyuMlOfvP9N9mwreiei/tMUsVMIhwT9RBKVCCjniP5JR5MtCKO+/0nqi4uG56z96ogcLYHbTv89wjWxSwNq/RMuyLgx17T+6IHwk9RDuv7U1uJzNw90/ZvUWye880D9OJ0NXOdvqv1Il8ivBfO8/A9LLwECU479nj9TZyei0v0FL4mwgb+c/WQZ2nSDy778QJiaSd63nP8dtaBjjxre/Sj2PFIZL47+YNYbTdm3vP6G4/NJyDeu/7bQLvmDv0D+B6zgZmCHdP6KOMlPM8u2/pn6pS8OZ7T+nKpxVvGjbv34WzKHnx9K/QuWOZ6+N6z9Ae5YNcj7vvxlzqQbmheI/QvxbMehrvz/KZ2zY2VDov9BZDeOc7u8/vWi3/43G5r+nR/iUd32qPx/O2X2eVeQ/w9qzU9uk778sDVhXCVXqP6JcEPxYwcy/UCPQUkZ2379iS5QlaWPuP8XM40l9Fe2/br4WuF4B2T+YKNLl2UrVPza6ngwVNOy/kBpzOlvy7j9xwZ1xSW/hvwywy20Z8cS/yUfaDvQn6T/C76qWCd3vv1vAwF+H1eU/Umy73AZ+hb/dRcPz21blv5XTVEdWzu8/j8AFnPaQ6b/726d8zZbHPwtaONOo3uA/OkmfLK/G7r+YIwDxXITsP4DULz/Gjta/XM4N7abE17+stZvqHs7sP+NG3GWdmO6/X1DwluZQ4D+Evvy9fiPKPzE7zB0O9Om/WFJGTW297z9Bg99Zztrkv5wFlmhghZ+/nFgf4spO5j84tR7x0+nvv1VetRmRweg/FP8CBmxhwr/dQWNa2vrhv47Sc/JwHO8/1n4K56Hm678XX0OQCRLUP5p16hkzNNo/UV+kNYdb7b+WSbxxXzHuP/0HbzN5Vt6/Y3XUntFKz79xVAcEzLTqPyDoivTUj++//NZuANLW4z+ZddAm2G+yPxs3g+D7POe/uNYR5Ub37z8G1UpuNOfnv38+XmkNR7o/mIEJVTgP4z/DSsUZh2Tvv6NBlomRPOs/yuri+0OM0b/0T2VbZ5jcvxxuHNIN3O0/ysk5Xc687b9j19rhm/3bP1Mc6TxiMtI/yGri29Zp678Ty1/NU1TvP1HrBJ4FyuK/YS7ILAn3vL8QT4DlAyHoP2RYDA+o9u+//p9NM0EC5z8PRESpzn2vv65YldlGG+S/PJVFcNCe7z+WS2TOdobqv3eGJPkp/c0/EzX1rDHw3j+D1WFyeE/uv7P3iDAdO+0/f3cAWECY2b+AzjXNh7fUv0p4XAPdEuw/AfmBYwML779hbP6A4LThP8rCHgQcucM/7hDkd3z66L8FQm629ufvP4yKDtIcE+a/ThAy4l+8lD/OF6O3jR7lP4SoNf4xy++/XRl0IaLE6T9NvAlnP9TIv85EG8pCneC/Dw3SsZK17j/j1/TlhKzsv2xR0Wt3J9c/Oxm2HLkz1z8M98BBkq/sv+BJNoIDtO4/gVcnxd2X4L/RouRaW+7IvyQU2t0Dyek/Hd7NfjjL77/TcItVMRrlPyCqLvmqjpU/8y4sr5gY5r98CxgTl+nvP6SdiUBp9+i/ewFwxxSgwz9ylAFOLrvhP/5aFy0uDu+/YYckUEQR7D9G0+AtV6zUv99whsLZpdm/TTnT6q8/7T+5LhYmek/uv3kKTzf45t4/DjhHO+8Yzj8CjuJJPYzqvzqhu2V5oO8/m9AwOu0X5L+ELS6RUumvv/6/6qX3COc/+mZ8T/H577892UEUJx/oP5VuC673xby/+/loZlvR4r++2K2XIlnvP/H9rf2faeu/ngF2avon0j9h58fS0QzcP2fRZ//0wu2/rM4BbJPd7T9nKHkie5Dcvzr8UXxEm9G/uUl+BdFD6z+ztpa9y2fvv1IdhzvDDOM/sVKXrCx/uj9vL9DaPu/nv5Wi36s4/O8/ZsG8hjs85784BrHzlD6yP7FjBZFN3+M/ZOCbzk2W77+DZv4Z4rXqP2g/9VAAN8+/jDLVXo5n3r9aP2JLJjnuPzYqOn2BXu2/bXrSpU4t2j8XqLHTbyLUP5LTh5ls7+u/JnZzJUgh7z/hZO8fKvnhv0ZMBlNAf8K/w3F/FwfL6D/ywZ58a/Dvv2Hm+FcLT+Y/f9N1Uc26nr8E4hz+i+Tkv1x7UeiTxe8/41auS1r26b9v38BMFhDKPz6BnPmAWuA/mpcCgQ6i7r96r7B4fNLsP7GsVuKCvte/HuhflNig1r8vuSD0wo7sPwwTGn4Nze6/IyN5gpzd4D/HE5Pm+rbHP6MOqd/tm+m/NEb5co7W7z81eu3v/1flvwsJ1aO5J4e/Md7ox6Hg5T+WoqZB3+bvv/eTR5BdK+k/1u2TqoLdxL8vMYeJEnrhv3XLfVF+/e4/5LOSWcI57L+3b8ZDLUXVPxEqrZlhFdk/p1kdjIwh7b+8Lh/cQGvuP+eS4TUxdd+/lL963XHkzL+juD+elWHqP7+UIpusru+/SzaDLodX5D/s6IKXZe+qP8aILige0+a/JW/1hyD67z+dOZUVRlXov+TZGkstQ78/A5BaWPuR4j9xstCCTEvvv7IuI9uWlOs/a6DwAWjC0r/0qyYs8n7bvz4t6IGHp+0/N4Efdw387b+UOJIIQCHdP8bcwMqqAtE/k4dp0KUb6783Y2RX13jvPzU5dTkTTuO/odgi38cEuL8ai+mrlLvnP56vSMBO/++/G3qJEHN05z+LL/GET720vwXIwlG+oeO/HQ/CAlaL7z8ld+dZQ+PqvwxiwJ9RN9A/tCcFgnbc3T94IsW9dyDuv2VcI5akf+0/LGTUAm/A2r8EgCIGrovTv7M/FS7Lyes/pM5SWCY177+74DZIGjziP//ThKbAQ8E/Kxf/ZJ2Z6L+OopxLZ/bvP/Yg1pFIiea/35jW+jpcpD8ghDAN4qjkPyydD/d9ve+/yw08shYm6j8XA7zQGErLv2TZtB5wFuC/JxNsCyeM7j+9UTh5Pfbsv4YpHoHNU9g/hwGt9SAM1j9LpivQt2vsv9IHF5K34+4/P4/+bRYi4b8tOOtFl33Gv9zJ2hnVbOk/sn8v6G3f77+pHUBYL5TlPx4JeDvBbFk/c/FnBfGm5b9oXbrKreHvP4ojWxxlXem/B9T21HsZxj8hLgh0kzfhP86k5zJl6u6/ZEBFQBVg7D8dfoc6cNzVv5eNm8jlgti/t89BVCMB7T8vn9Mur4Tuvw97/2GFAOA/y1tn55Ktyz/n69ly3TTqv31y4a9suu8/R13IoJSV5L8Vobst1PKlv7nvS855m+Y/SCNuONX3779Jeu4FiInoP3rLUOQc38C/FxoqNiRR4r9YFbQOCDvvPy+bJs9uveu/s+1dwnBb0z+lDlkL4+7aP1Hfwf3Kie2/a4YsfjcY7j+uMvKL0K/dv134CIqxaNC/Ozl8JV3x6j+Um6QTdIfvv9Jsx/TpjeM/cZXb0E+ItT8GicRID4bnv0m8/VHq/+8/QwA06d2q57/831cFojq3Py14mMWkYuM/GwEOn+t977+juiSvkg7rP0RGZgft0dC/mrA7KARP3b9/oXPUcQXuP4r+9eGAnu2/OOdZ1oZR2z9hbqVpXvPSP0qhOx0Aouu//mP+05pG7z96RAX2pH3iv5MXpTvXBsC/E5ii1Ehm6D/uUPKE6fnvv5l5zCHKweY/1Bk8O8JZqb8G45Unm2vkv0Rxaxrysu8/DOPJ7c5T6r9yL0uiDYLMP8XF8OU5ot8/6ZNfwOBz7r9EuRS4wRftPzzByCs859i/r1+S26111b8+A/+hd0bsP3Dxn/b99+6/JA3xKD9l4T+6G/BQakLFP7T7doDCO+m/Rj8qnNXl7z+X/06/tM7lv7RsOf1izYA/H77uPZFr5T/fRhT7A9rvv0adLvl2jek/2ayvdsZTx7/kaMBxvfPgv85i+KLm1O4/cpudQTaE7L+ElyF/BHLWP2iw5HKB7tc/sJENfHre7L+O3Re5wJvuP5SkCL01ReC/8VVfsIt0yr9CkDs3HQbqP+T3hr63w++//eapVQrS5D+ml4T5iPSgP8Va7vwUYua/YKLXCRDz7z/p3MZ547vovzm64V9UG8I/h17KCOIO4j+/gINtWCjvv07EOYcg5Os/6Nhir/jy07/TFZ0Pv1zav+2OfBXFae0/6NijgAwy7r9+9C2nEjzeP6YiZy/qms8/bJPA6/7E6r9sWatqn5PvP33Tccs7zOO/UFKTfjkKs7/s33mfuE7nP0Q51mUL/u+/Gw7LKXLf5z+Y5P1+F7a5vyxYbJQMIuO/1b+xNBFu7z9QjeE6yDfrv0zjIQc2a9E/lFWdX1G/3D80jP+YGejtv2EjLccQu+0/TtOmiXvg279o+wYAnVnSv3qYwMESeOs/BZTLb6JV77/3ky0mvr3iP2pnnpN8kb0/Vzos2RIx6L8kYl+J8frvP5tHRKqF+Oa/PCeF0BFVrj8kTpWOwizkP7BqZEHype+/hnL3lnp/6j/kjSB0u7fNv9EsWF0oFd+/hTUSDkBZ7j9FcXMFAzftv0mbFcezeNk/va+83prd1D/b5ZM0CR/sv6iRkePcCe8/+jDDVAqn4b917gfcrQXEv790ZAa/COk/ufzdS8Tp778PGNlVhQfmP3MDrzfGYpK/LCDARo0u5b8XmJMe48/vP5BM2jqKu+m/5BFIwSiMyD+naAvmnK7gP5GDaHIGve6/2950mh6m7D8FE8h+zgXXv+VF07pPWNe/7LtnO5i57D99Mh0VcbDuv4a6D/iciOA/LFL/jZU5yT/CViVaXdXpv9Ek1eCLyu8/4URoEd0M5b9i0eE83eqXv7P3Ghj6JuY/U7JOpNHr778sQvUET+zoPysnYuQCVsO/1uy+2EDL4b+RxKDQQBPvP59GGrCkCOy/EaDWy+OI1D+hNcrXoMjZP+ED72p7R+2/WeEifYdJ7j/XKqBT7MXev2xs5aIjYs6/xVe+CZOW6j9v++vTVp3vvwzokhr9COQ/xVUR6PmKsD+/P9OdmhXnv1Am1f+x+e8/3Ftn6iUS6L8SZxH3Oi+8P14nHmYB4OI/DrYoVMlb778rgTsd3F7rP22h4EQQA9K/zlvJNngt3L8gW3UUdMjtPzHyMqtO1e2/wzfXgzJt3D8HdzjMhb7RP3X0HnYKTOu/aSsMAjpi7z/q0D7UWfziv5i1khdgE7u/dQ9i5QT65z8c8MC4fvnvvw6xTsxwLec/mv9ph5+msb+rvciDY+zjv4sMS1qAlu8/9BIBRRGp6r/0N3Tz6OrOP+4/gRXFhd4/IuZOYkk87r+MdC8w+1PtP0OKkzQZCNq/1yfbmQNE1L/bb8hSc/XrP1WWlI9QGe+/B540kWvn4T+gOvzAm8fCPy5W0J7T0+i/rbJBszjr7z9KWtVKlj7mvyCJDTWcW5w/FurD9e/v5D/DR2KATMPvvwJwufOV5+k/Rqqy3mjCyb+b91Y1Pmjgv/zCknHIou4/cfb/hcfF7L8UC32ispfXP4K1ksVrwNY/wT5DyoKS7L+mVabbu8LuP5VZ6VyuyuC/jKk+3en8x7+zp9BKpqLpP7NIZy/nzu+/GhMJlgFG5T8yu+GIv9mLPxaiy4Qz6uW/mEQmrxri7z8tVyw5wRrpv6lROzTujsQ/WITyr0yG4T9P8hFpxPvuv2jQh/TzKuw/HQ9jFRYd1b/VR3oGozLZvwiNEaDzIu0/OAWQcKNe7r+wxDSFQ03fP22aBjNIJ80/L1KhZiFm6r/ARnzFl6TvP7W0mDwiROS/YbCJRAwWrL8eXM0yv9rmPyB7ESPe8u+/p++GQO9C6D/G+TFbl6W+v/W/ReSOnOK/gYWGjRZH7z9uMvFzxoPrv+WLTGBfmdI/upjlwJKZ2z+meAlQhqbtvzGpYvE07e0/nI2NJZH33L+oupTWNCLRv4Z/mJXuHes/UkhyX15s77+C1JX4aznjP7fm15HNk7g/Uk5sbSjB5791g9hxkPXvP0y86CWBYOe/9Eewia8gtD8dTNBKiarjPy9V7FKehO+/DulVjIrQ6j9UqWJfrg3Qv7Bve4Up9N2/anAFKwEd7j/o07MEpG7tv9iLUE5Rldo/ddfprQOp0z9F4VLIvMnrv4RAYi9VJu8/5npEelYm4r+ICuvnbYjBv47fcT4Jneg/h1XzjDHq7785qqnJ3HPmP4NL2YquJ6O/EEskI8Sv5L/zdP5qQbTvP8/N3DKREeq/XNAf6Ez2yj8CHPjGrSDgP+585XAwhu6/2C2bPCrj7D9q06BKlSfYv/f7YL/wJta/W3NsYUBp7D9c3iejnNLuv+uSHTFdC+E/CUsvC8K+xj8nQCF6AG7pv0bINcHH0O8/F+V0oWx95b/ZMv4gfYdvv0lBaarLq+U/GbfP0OvV77/2D1OkMEfpP0t89f7bxcW/twqFmxFA4b+Wp85n5uHuP2K78vsGS+y/5jPrf3Ov1T9U0wBG4JrYP4N/rlcz/Oy/964aVVtx7j+N0igm/tHfv69DMLaQ6su/71RN67Ez6j/Ix3ezX6nvv02kQYeffeQ/lKT90qYVpz+Yv/xPMJ7mv8uxfNGP6e8/dIZWPcRx6L9Q+XG3W4zAP5be67vAV+I/jASicPsv778G7OxYf6brP3YdN+4GLtO/59t1GbsD278zqKxVVYLtP83s7vm9Au6/SRCOxHx/3T9EsjUxxoTQP2ROJH3G7eq/PQJQWgx07z9omkuG6HTjvzbYLbw5E7a/ngQn6IaG5z8GevARJu/vv1nbKVCskec/jURQT0OYtr/O0+gqP2fjvyR/nRhOcO8/Ja0G/d316r8PB1SubqTQP5YtUy1vYN0/9Ee61mv77b8YrsNL94btP30VSOJAINu/ah1SxrYM07+NGZRi7JvrPyrt4vTmMO+/o0Qapr5j4j8CV11QXkjAP0a6v9xoZOi/IMq6ka3m7z9Y8jr4Tafmv8BP5dcYHqg/V9TQqhRu5D+E2SMow6Lvv4hwZwJzOeo/jkt83JonzL/yvP4N8K/fv/sFMEFCZ+4/Pm9t8j/+7L8KhF7KWrXYPx2xk9/5i9U/pC9BO9c97L8cTcr+DuDuPyBNvLOcSuG/HgTznVd/xb9k1rRbdDfpP23+9aor0O+/3vZ56xKz5T+1doDFcBx4vy3xPfTMa+W/C9OgrkXH7z9z6sTOk3Hpv482pNeR+sY/w75+rZv44D/2qe/9qcXuvwM1AmnWaOw/hq7u8N8/1r8B325McwHYv/JZ9TVA0+w/XbcdIaqB7r97EkEJASrgP5gRRx02rMo/FnRTg0z/6b9drz0PrKvvP1QZj0lpteS/kv85aK4Vor/58t3q91/mP4VrhgvH3e+/xQfS65qe6D/QQ1jcEsTBv8bGK5+iEeK/RaMijXoW7z+h0bXg/sbrvyJn0HPqwNM/otI7aAts2j+ttnww5lvtv7tmnyDkFe4/t5Qup9oE3r9gpWH4q8zPv2tTS4yZu+o/SWS2wUB5778rRhFpw67jP3mW4I0ZkrM/tdBT0ClK579+XF30PubvP/kMVN3nwOe/Q8lp9+QMuT+PDH9wkCLjP9MNJJiRWe+/T9cYIQMZ6z/KawuZmDnRv/5Lspmvyty/9Bjb1I3X7T9qDRnJ7pztv7AoxK3MqNs/ytAhnThv0j/RFE/xCGzrvxkxKw4COe8/iU/Hopef4r9XLlk0Tg++vz/OCHX7Keg/IHTod6vg779ClOr03tjmP9TODeIgEK2/LXvwbewq5L/5cJEA047vPxPKwGUyX+q/I2LulhhWzT9zGvPPUhzfP35B1bMBRu6/iDLv1QEX7T+pkNxi50DZv6+or2yi79S/lftFlE0Q7D9Ng0N9DuvuvynKFxtgiOE/LrqQPeQ+xD+iJOVmCv/ov5CdV/4Qze8/mIapI+nm5b8dt8BJ1/KPP+KwydJBKuU/Nw147Ci27791znA54ZnpP5rqVyvVLMi/4dqE/vav4L9bsbpcEqfuP4vE+9dahOy/FzWoOj/O1j9uLW7fdmbXPzKQ9eAfqOy/jYnYxYqP7j9p+reJmmngvz75g3xxbMm/FwnPHfnI6T/quYtGeqvvv4Xdjclz6+Q/OsTjEx0umj9O5Rn+HyDmv6FInc+Dz+8/lSHOTmnJ6L+PLEQ3tvnCP63nx0ZAyuE/m6Jpcpb67r9bQbUYPeXrP9xm02HtUdS/Vt735J3S2b+LSh3tPTPtP90Ub7uhJu6/g5OC/4+H3j+qHqfTAI7OP+xx4yVvh+q/qXVsYPh77z+Gbu6C8Objv+1EK07iELG/oHvCpRoM5z+3Xdtx2trvvyQHvFYp7uc/M1dnTB5+u7/WJahuiNzivxbNfr1qQO8/zc61evE567+KVFo8D83RPwV/jWcEM9w/ZPDvlWux7b9we+I5hLDtP0HIcVjZLty/2Dci/6TQ0b+hZktHGTrrPxw4U6SiPu+/7AT489TZ4j8dyH0dBY27PysbeAfK7ee/XL+P8inY7z96QGfUhAjnv/Sqb+xs/rA/a09MVFbm4z+qba47cnjvvy0QrFfGguo/nwbKxIuBzr97r0/JnIbev20v2ppyIu4/ZPBEDmkt7b8xilg+H8rZP8gqasAFUtQ/Zwinq6ng67/yUo6nlvPuP8edWZKaxOG/ylXdvKH9wr9kWaoXy8ToPxtCG8l1x++/SAkf7+MY5j8An0suJeSZv+27Er005+S/nRo8LJai7z9dvc1bD8Dpv65eDDdrXMk/sB93ry9m4D/m/pG1Iobuv6egBN2Mnew/kk4PF3Va17+ELDTYBcrWv13j9gDYeuw/mb8ELvia7r+X1SttvqfgP6sxGxR8K8g/LXUxrr+Q6b9u1XLCx6jvPw+pCUKzH+W/K5+1+mY1kL9qiK6Kst7lP90sixnGvu+/hkXTXiXy6D8G7QixCi3Ev3L2u3OlgeG/DjRdr1Hc7j8uz10FMgHsv9svZQ/z4NQ/i+ch24w32T+mwe+ZYQjtv53n/RjxNO4/iGRo5oEH378hdPKFw03Nv+JgurBOUeo//jPC+y98779XfNapYx3kP5Dv1U0TIK0/YGRc7mLM5r9nssbf98zvP5X3ljpmGei/bywusHjrvT9vUJqAMpXiP5CxiXPbJO+/cxsugqBY6z88DD2atV7SvyVnq0eHmdu/3YOziwmJ7T8gnxhTscHtvxnmTm9Lstw/aIUR0Bcx0T/2wNY6JAbrv8GNJNrEQe8/WOF3EGoS4799YVBUVgq5v7t5C5rdr+c/LWWbsCfN7783b2SfNDbnPyppdwmrcbO/HYihTV2g4797kQofol/vP9HwL8glpOq/ew9q27mpzz8Fz3QD5+7dP0562ciY/O2/9+h3uW5B7T+Zau1q5lDav0gBrEs/s9O/UfOZw/Gu6z92rHX/ovnuv39SAzc//+E/kKusIsq7wT9uy3Hvvojov2dLAxRYv+8/e/IW5vdI5r/MPyvDtuKhP2ul2zGwouQ/nok4DY6M779OFLGhFOTpP5e9Z/0Yicq/RpcS61Eb4L/Y+7453mLuP+asNQJltOy/4qCiImXk1z9g/1YnOyzWP7ajvEBuS+y/QHpCPO2j7j9gx9h9X+Tgv341PlmP6ca/4fzuLKhW6T8vsiLmkaPvv/t0EOAbUuU/gSbrbFMMeT8bEhOZuZvlv9vCq+GNq+8/+QrbB8UY6b/hZOj11F3FP1/9ufDdN+E/fH4P0q677r/fZyGg1RrsP2L927TebdW/qrexrfKa2L+ypi1HVtvsP5PS3X7MQO6/l0U5VpWE3z+7QqDWLAzMPzuhI5g/Geq/GQE4UuR57z/q7CSlEFLkv6/lGHALIKi/3gQpNwyL5j/eBi2Plrzvv/qRlfmTQug/YIHVgz4qwL+DVRMLmkziv/FugaPlBu8/sXPaowd167+vA4+Ubu7SPyAXQQJS/to/njoHKWxe7b+roqW/b9DtP6CIV18HM92/jMvHDq2Q0L/2ojWmMNDqPywCocpkQu+/u72YX0pJ4z/tfnlJt4e2P+4Qbjk/cOe/76S5W6O/7z/dER9Q42HnvwWCvnJT4bU/7370UgxZ4z/50rntY0Tvv2x1WZpHw+o/JESxBjRn0L8YC/SeSlXdv+P60xB41O0/j1996gtT7b84HTfVINXaP7IGr5pqE9M/vfCkISx7678qzfj9Lv3uP2PiPBZBOOK/dj31spd5wL/rk9p17kroP3GHmuG1tO+/Vn5okRl35j/K9kuqs82mvya/17i+XOS/E9xSKxF07z/gRvBo5wXqv8ffEjyjsss/20oNz9Oe3z/KxB8aSD3uv5v3icXbyOw/a17g1vJr2L9jdcPYMY3Vv90Cpk3oGew/tSBWyWSq7r/cz810cB/hP8HeCP/kpsU/r3kfmLoa6b+jxIwN1pvvP6aeVMChguW/eR2+uuY3bT9CZ0I6P1flP/eF/Bvble+/7qLYJj496T+W4wFr2YvGv93xrZP17OC/qYpCZ7CY7j9CfD/VHzLsv8ZzKWaT+NU/pIXO2un81z/tuekGIazsv1sjricuSu4/gvVLJa/+37/fMaDLdcnKvwQ0b0xJ3+k/khr9GRJ177+dLeQq64TkP3J3FVaaIqM/s7k7FSBI5r8Up7bLtanvP8GoXfSnaei/p8Wm0llcwT8M57Z9ygLiP9CEXzSL5u6/MObGPR6P6z+ARoHnHHzTv6+UfHp+Ydq/k93N4Zcx7T9iI2Qeudztv40k2G/xsN0/c0gRswHfzz/1APNnRZjqv53WWYd+QO8/KeBwNml+47+Zc0j5nQW0v8i7y/n3Luc/V8oel5uv779p1rzPhYvnP1qi2TzuTLi/n3rNZ24Q478GqovnuCbvP1Zo0KEi4Oq/n667n6330D8QS/zW4LncPzVQ4EUUqu2/kB4Tpzli7T8rRZBCslbbvyzfDFmjctK//2jQDl9F6z8rD34RNv7uvyA2ByqTb+I/qxfd8Iluvj/CxV45Ygvov7J20CyNp+8/mjvHZz2j5r8CpVRuGbKrPwGpzONqFeQ/5bcZHiBZ779v8dz+fSXqP9aLc2DO2My/EdcN0AcF379Lu62GYxXuPxx2lpbp2uy/4lSShAHx2D84M6sXBe3UP0FLuddL5uu/iCY7olmu7j9gmgT341jhv3cJ4P+2Y8S/WIoA9P7c6D8Gz9iLkZHvvyzEYew4seU/L9zkdN4Ni79E+cOITRHlv5iHAretfe8/OeYXh4Zf6b/2XREj3LbHP5dKLz/4oOA/FYnK+Vhz7r+LRmKBCEfsP76CGw30gNa/Coqj/4xd179R0+zsxnrsP1LTCUEQUe6/ZZAEANo64D+iDlay14XJP1kjT0Nzo+m/bJ09/7Vt7z/dV/Pc5rXkv97mSh5dUZy/HImSJqgD5j/KqGTaVJTvvxUXyXiXjug/5mOLGdKLwr/jqG5Uz7fhv0NYEwrOw+4/VXo0ndum679XZbcjowfUPwb/E7Imw9k/fX6gKpEC7b8zCuf/hubtPydLiLztK96/mRmw5F6bzr/6BR9jaV7qPzohmhYOPO+/jXrj1Lmx4z+8m+3/gISxP8sRifcQ7Oa/kQ8b/g6d7z8cYnrzELPnv4eBYtACtLo/G9B5m47G4j/UHxhIogbvvwfYM6Ct+uo/cPlm/iuG0b8fV6sEwxzcv0kVvDpxfe0/aSNp5fBu7b82ABtLftXbP7Rj/1UF0dE/wom215AN67/f5Nabs/zuP3tvNFYopeK/yOF0nBnqu79RWvDPIsrnP8SbZufbl++/s3zeylfN5j9RfXxpe0ewv0TEqU+/zOO/dF2pd7s77z8kQoSdzkLqv/DmF3xe+80/XqXJfFhp3j9TruStM+vtvy+4FNSG6uw/HQWrTXRz2b9GPoMy0EvUv/8li5GesOs/DfP/hcav7r/Q2leSrJDhP5QT7qY/IMM/xglsS32d6L/nD6upwYTvP5xumFfV3eW/POd5puBalz8MCp2p7snkPxX9hZoFY++/KPNn35N/6T9vfM/SoN7Iv6ct/ePxU+C/6YXGEatL7j/ihAJvh1nsv9VIMGPjBtc/c4ck3Pa81j/mn3oOTUfsvzKQQelsVe4/lpRfMcR04L/HWvgojEHIvyzDHfjEZek/Q3BAosxj779BGO5F9+TkPw7xtiFwZpI/5wDuEq695b/2fSH4cnzvP3fU+b5Xsei/kS2RzWq4wz8GZ7kYtGvhP1Z4kQSwnu6/tqvc+za86z+llTCo45DUv3eR8MxkI9m/LhVoeFzR7D8vSxHk0u3tv0DuLC/go94/ASDYhqpWzT8PrW9/oyLqv30hW3EPNe8/cjaCYi/j478p0kNcrwmuv7Rh9VeTp+Y/uiiBIvyH779pGJ15edjnP1fRB9MXFr2/yc05Cnh74r/AsKVFIeTuPyNMR0LfEuu/6GJTNZES0j+vw4GiCn7bPxPbNMGSTu2/lJuQiSp57T+9mFJTaFHcv3qAnIisLtG/bp9/zMfT6j+9pg7wovjuvwBYNWXz2OI/9ChN1FRmuT9cRHrXOIfnv2QCLfifhe8/SrUrBF315r9AfWKIrLGyPy2bnqXGguM/K+Jjw+Mb77/SGb9oz13qP1yyRzgXGs+/Hco6md7L3b8CvAG8u77tPzHmLsmr9+y/akLkHi7z2T8BmiufrqnTP49MDzDmeOu/BR5vI6au7j8oAjm6vMbhvwQR85m53MG/mAE0sD1c6D8JzjWjY3Xvv/tw/dtqCOY/yFQLKnaQoL9VCULNLIHkv6MdHqbiRe8/WoAGz1ud6b8Gu7fE6gLKPw1rbILuBeA/Jpi1M6kh7r/wJphTlGnsPwRvIetDite/LKoAV0Ib1r8pxu+BuBHsP2uA2iw+V+6/j6J6SQit4D/Apf4nzfzGP7Q2FuxFJum/ZbJPlVJX7z/WcuTVDxLlv9S0ko6hDIG/lVaRjDt25T9arSFYD2Lvv9wjKubd0eg/PBLA9+bhxL+AbQRjhB7hv8CruP4yd+4/KocBfSfP679UGribwBfVP26vzRRTgtg/pRXRP/6d7L9XeG43lvLtP0uD73isGN+/hZ2qxx0RzL8J5Eep+uTpPynlA4F+K++/Evcp67wS5D/qdlg9NA6pPxN35kmIYea/lT3aimFw7z/mdzMGtPvnv8M+KA+zcr8//l513jUv4j8o098PN7/uvzkO2xyuKOs/DrCxHb+c0r99ssVP0d3av0Pqcal8He0/Voi0Yt+A7b/2G0iFU8rcP1W8ThS1i9A/R4O6QAqY6r9jIP5P//HuP6jwrQTnCuO/uKgwzrLjtr8y01n2rELnP1egCTnXcO+/fKijQUEb5z+yJmrSJRe1vyRWHpyLN+O/4QF8hJn57j8V8ftqdnbqvygHkeRdGtA/K73wDLMs3T9Fshra/o/tv2djkqpQAu0/ws/ZqBFw2r/Sdxf/uwbTv70qRmooP+s/r6N5FvOq7r/mFjrEBvvhP3ljn+NfmcA/WPFpO0gZ6L9LzBSmdGPvP6e7wDbtMOa/9fOD/5RrpT9NuXYwEjfkP78qja9EJu+/pvFU2tO46T+SYvnLfCPLv3SDxlf0bd+/WMRd31X17T9FrYTMJnfsv7nQCOr3Ctg/u7ubgYp41T8mxUVeDtrrvx7l0wN+Vu4/N4MuTJjj4L+P4iYM1bfFvyV5bKb95Og/sJFmWkRI77+Gn9TeIz3lP9GhUO+l0VS/mnABUVot5b/iqQ8iKUXvP+XRQvEe8Oi/VAIdKAkIxj/fmfbbS9DgP5+2DM1YTe6/Xrs1KqTf6z/cyQ3mG5zVv8dQCf0L4Ne/x/Ga9Hpo7D+GUE9QyvTtvylGJgs2it8/7m5rOPLKyj9AParRdaXpv+Cu6hxXH+8/oYxtW1VA5L/7M22aghekvxgrRQb5GeY/7Q1jsD1W779/lokftRzoP63nSa2s5MC/qSDlUdPh4b9d32DO5JfuP1VIeqkQPOu/W0JOUJck0z88KhDUMDzaP6GLEcEy6uy/RUkLKAiG7T9de2vJIkDdv575w5p20M+/eF8gi15a6j97xqPpw+juvwwfw8H1OuM/eGxcoKtitD/lzbvbh/zmv8VyxnR/We8/4/MUkvg+579pwHsPbHe3P5096fcY6+I/FmxLNN3U7r+NZ8qRuYzqP6vk3G+HpdC/xCY+5u6L3L/Y/w4tAF/tP5/3PpNtCu2/LL7NWAHq2j+/cbYjFGPSP1+WyvhqA+u/NABj5aek7j9a8krkfC3iv+jeT/zbrL6/I5OXDaXU5z9i+evO8U7vvwwajARQV+Y/FDADwdY9qr/NQCUdqevjvwGg5YArBO8/sLE+Z/HR6b9yWt02GUDMPx7ZnwhCzt4/a1CKjrPG7b8jQr9bNoLsP9sOAGDhiNi/2BgmnOrU1L+r+2y6U6DrP9J6pU4mU+6/Q/OhGmYY4T9zDMGg3nLEP98BV7Tzoei/bTmiYJ427z+XN9mQJmblv57XWbfNI4Y/BaesKRTj5D+XwABwvyXvv8RyKsMPDOk/l0EpaJMqx7/3JMk9FoHgvx/BPTwjIe4/9Vzi76Pt679yS4Ao1x3WP8atcSaqPNc/YsHFCNcw7L+Y76BraPTtPxjLtw9g+N+/uDeR12GEyb9BdQjuG2TpPzDTlgeVEO+/k/SufOtr5D9oylO3HE2ePwINktDu0OW/r4bO/I457z9vv18qcTvovwDmqT3HDMI/FzK5rluT4T/vMAefK27uv1oWyEL9TOs/UgBHHvup078yAd4iQ5nZv4CQItK4tOw/b0WGdZ2I7b/GpsK+uLLdP5SofXu3iM4/GBUyBcsa6r/lMjXU69zuPxg/LgUSaeO/SMOOWLjjsb8DG/I/0rTmPzrboWSWP++/UH464XZg5z8WXAP2AtK5v4rABI15neK/9YR1QK+t7j825RuqjqDqv3Ktu01pLtE/9HuSXavp2z9dQEfUwivtv7p1CIH6D+0/ETPRUN9g278U7ekS077Rv4UGQ5Wzxeo/36qm/b6b7r+887woEV7iPzjMPb0/KLw/9RDZTlyO57+m2sUm2DfvP4a0fL2Ge+a/JN58N0MGrz+4mzTr+57jP0/Nd9aW3+6/Zzdcuano6T/4YhDAgVjNv07JSIfeLN6/3nKXs8SV7T8kCy5kuorsv/sMWwDiA9k/umnsGX4w1D+Bg4isjWTrv+rz+NIwTe4/BRszb2NL4b+vUXkqJS7DvzBl9qgvXeg/V0ttAV0i77/Xkxb2Co3lP/CX3O8lxpS/+vGR7HKX5L8IKCxM0QPvP4WGwBqlJem/RedMLEdJyD+7jZVV7zDgPyVagA+U8u2/V1F+mR356z8hDhq205zWv4AXUGNImNa/E2GR6xb36z8WUnWpafHtv+oDa7CGMeA/BEEOG6c9yD+d3//38yDpv7ppu+sz/+4/Xvj38HGV5L8eD2sZm3iUv6r4UPdyhuU/9hzIx1Ma778ywMdl3FfoPyY0oYVqMcO/7VXHUNpD4b/9OxOUDELuP701lCBqW+u/ngokicss1D+2dTtfIvXYPzs57qESfey/sLotyJeI7T8TfKuy9yHev8Z13lNmQM2/L9S9ClbZ6T/zX+kMcs7uv1SS9g4uleM/qkazKKbOrj/5p6zklGvmv+mTm60ZI+8/dJ6G869/57/NKsUObSa8P+Miuz+4TuI/8PfMCBCE7r9Gpixc67HqP4EvPz3ktNG/47XM2AFG27+eYEroSfbsP4IDzVDvEu2/751vX43U2z9T+MkLFRrRPwsLqPkHhuq/EXGOsDKQ7j/qNex1tYziv1U3UAFkpbm/2n/rLnZG5z+CBSugJB7vv1j50LCEneY/2Bi15+/hsb/IXEwBFVHjv5gZgFyGuO4/gie57fH86b/+XTF/d2zOPwsgxG7iid0/WkrKt4ti7b8uirIlqpDsP4n4NSnbe9m/ru63pWCL0789Wv5IwSbrP8I9DziXRO6/3GMe2YF84T+aLdpy5OnBPzhULB25Fui/vnxifXwL7z95p0juw7Hlv5sRSCbkZ54/N+/VfIBK5D9iimGuXd/uv1wti47TPOk/dn1yROVjyb8sJWgJxr/fv1/mqf6swe0/8ztrzQcC7L/+/T6L8hjXP0VhfbsB89U/9QFYCD+767+RAz0Jx+vtP827FUAQZeC/i7Re+/z2xr/YSu/sBNzoP3Mw41gv6+6/BGdyLtu85D81s5FF4maFPyMacdSOOuW/TkowVIr47j8LZbDm6nHov9maoSxXUsQ/sbGtplrz4D/nagyyiBPuv4/Sj1NNZ+s/1AGAOums1L+pJqLf6E/Yv4Omku9DQ+w/Q6Mreu+F7b+8Q+KXwY3eP+qziyy998s/mek9+QWW6b+CPW9zUb3uP43d4PE7v+O/8NNkNu7bqb/rrymV2CDmP0YCeN0GBO+/BMuJYZec5z8ycNiWK3S+vyx+kAXg/uG/HIz83P9X7j/klxknxcDqv9+UaaTYONI/+EbC7guh2j/DxRl5mL7sv5RPTLpDE+0/Mpm59uxE3L+wx4WL9nTQv0LybN9tROo/kjl3L/2B7r+nt5mBW7niP/bRLebCJLc/X4Ua5fr85r9w9esT1AHvP4PEOgA9vea/d78Lr9c6tD8qzp3V/gHjPwxjkaz5ju6/ItRC9r4O6j81IQvYunvPv2CQRIhm5dy/MyB0+Qot7T+axNO4/JPsv0v/f9qt8Nk/UAqAJq7l0j+yUV2h8+bqv4qR0QJTOe4/5EnAt7Kr4b88hDrUWKbAv1q+Ua+Xzuc/GLzc+Pjx7r/gJ/8pRNTlP5ryWG+U+qO/JyFNy0b8478qEzZ5Y7juP6Dz+4ePUem/DY+Oyy16yj9Eyi+E+hvfP9sIFbRvju2/uf55CFkI7D9iSJhEFJLXv6X1vnDxTNW/RF8zxVN96z94uaBleePtv3t2q8a9luA/5kr1/p6wxT8UvHbNVZXov6zhyL+C1O4/hUuJehni5L+aDK6sl/JPv6rcms1L7eQ/XHkNzTDU7r+7Hw+TkInoP6t+bCRNb8W/gqkEM+ih4L+L0WHtoOLtP8RfpcCccOu/YofzejQq1T87COMxsanXP7IUbnJQB+y/MMZyvpyA7T/FuPH89/Xev8Xj15j2rsq/ipcTL+FQ6T+TvwzGhKnuvzcAc44t5+M/WaxZ80HwpD8lHUwmptTlv1src2db4u4/7vX/kiC3579/zaAvX13AP8nYNeb7reE/gKLn+X4p7r+ocAlcEc3qPxlPPocmutK/eTPUauP62b/QI1uMsYTsPxYcokvvEO2/MOaLIt+x3D9KHUWlKJ/PP/vTd/7qAOq/Joe1hxhx7j/Ae+TN9OPiv+O8V8rXprS/pXEgsPKx5j9zRJY94+Luv/BAxZqi2uY/Ixr98FiNtr991Jruw7Hiv+zetkrwYu4/40vPlAUe6r93Amm0BUPQP8oLcc6DP9w/LzfUyUT17L9PuwYKqZTsP8t8OKw6Ytq/9BM6xII/0r/UUhrDKaXqP2vlfZFdK+6/VFaCNefY4T8/rUuNfse+P6lR0ALThOe/t7gueM7V7j/EB2clfvTlvzrCgun6tag/Lf4C18+s4z8JNeR24Y7uvzYBVD7NY+k/7jDMFeCLy79QjmY3lHbev2/zP8rdWO0/y0b/mAcM7L/h32gVGQjYP62bRgMzptQ/ePB1gVk967+vQvpvedjtP2/dyB2AxuC/5IWSRslqxL+ee8yc7UzoP1EFUG4pu+6/qvKg5B4F5T+wlTUk/UGBv//keVSznuS/8UMoQkWt7j/JZpccwZ7ovz3Xc5cLiMY/4XGHjY5P4D8UyscnVq/tv8j34xtOd+s/TGtsKI2k1b9ySVoflgLXvz6DTNg7yes/TBIAnJd47b/nGsMBfFrfP7XeRsJNZsk/oN6gCu4J6b8ZcFudBpPuP/kkmY30DOS/2xQQPp0MoL+ruZ12BoflP/DvmqAUvu6/YQdluT7P5z/bylXV0XzBv1VTg/wWXOG/y5LBho347T/bW+4Yxdbqv5N2BH6tONM/eo+pUKJT2T89pz8bmEjsv5hpTmTpC+0/F10pfkQb3b9t4ObUFlTOv6Ze9QuFu+k/qCMWnn5d7r+DIM+jcgzjP+1+ZmkfLLI/dNDi1WVl5r/TGYy3TsHuP3HoUzeo9ea/tlqKH/LYuD9Uc7PjbmDiPxJTQqJpNO6/hK2sVboq6j9lSWX7k8XQv4ywqnBTmNu/D0e8aju77D+IEobUpZLsv3ee9sNh0No/zVAL7fqY0T8PKhW2aGHqv8Jy6hawGu4/CRJPQhAE4r//crjaqkS8v7Oro79yOec/G7F32/i27r+VJKwiZBLmPyyn2UgjZa2/YmerrSVc47+YtNNV1mLuPz7ACbGAc+m/K2yYnbqYzD8JB9xvq8/dP2XeJsn4IO2/QHB6mQkN7D+x1P284HrYv+Uhbzbi/tO/8dLok1T76j+qh1mrv8rtv6plSeNH9OA/r4c+mrglwz+wzvZf0wLov9mwF4sen+4/KvlSQN0l5b9za3MrRyySP6fw6+bOTuQ/+LdMpMWD7r+xvAL7b7HoP0TGDNZQnMe/ErqdyLL437/r70MtqXntP6s07uJWe+u/7KOiq9Ib1j8hRTuxslrWPzz7XsMJieu/pJun6Ndt7T94H2JMLrvfv07ICXX+Hci/zT4w6TLB6D9rHJdn0Xnuv+EdyVqCMOQ/fxZD8f1jlj/F/EJuAjjlv8Vox7svl+4/DmoYyuTk57/UUQQELJjCPwWtZnc8CeE/nHzPkSvF7b88jsRC1d3qPzsx4apMtNO/BkUn4GKr2L8GxS0QTwrsPxlzyi8pBO2/zg3bKP2A3T8If89V8gjNPzNP97hBdOm/6WfqKSlH7j+651gNxjLjv1QOHfUvaq+/Lm4eo1wX5j9jZbT2Ep3uvyINmk5ADuc/iv8d+x8du7+i+AFeCg7iv+JTQwJlA+4/T6K4idE06r/01MgsZ0XRP5K5jtbu79o/jsrmC/F+7L/tJ6mc6Y3sP+lVkMkCO9u/II+tWjPy0L+jpe56tRvqP2c7UpVDB+6/ZZCUjR4t4j8lAwFLs8S5P2T2sJF+7Oa/S/MK2nOV7j/KrNAj6C3mv+CkAfyDA7E/YEUVbFIK4z8WBcKkQDTuv+lgtaGdgOk/E0jx7nqgzb9k+DauWCfdv6ByTCPC5uw/Vpu06lQL7L8E1Vp7SurYPw8YzxUbV9M/oFzNSEm36r/srRFnRLrtPys2MXMFIOG/LOspd6rhwb88LNgcDrfnPyNHmRBdgO6/Nd4yH0ZE5T9ohvHGPKCbv6WSKg+o/eO/IIokwa9X7j/SA8plkMHov03DI0Laq8g/Sd8L+qhQ3z+XYeewmkHtv4TX6VasfOs/OC7D7OOP1r9DtzM1IrLVv62G6ce9Rus/FeBdQ1Vg7b9EBmR+9wvgPz3pDi1F1sY/STy3JbZ26L9k7nVj313uP1kTqR3IUeS/n2OUMqWFib9knM7+oufkPzOgJ8Wpbe6/ZFPudwX45z+jo18VK6/Dv+um35p3teC/GtvNDFmP7T+Nrkx/NuLqv0daea7iLNQ/5SqAmT8C2D/U5B1E2cnrv7d4kp+l+ew/a+Sxueji3b/Au5eB9r3Lv/PH4bAmK+k/dheYrxEu7r8NigTP31bjP5z65qGChKo/Ainrat/H5b8Li7hFLHbuP7IbjRRdJOe/vtoDa11ZvT9Ntf4YobrhP+jkmJnhz+2/F4HlPz886j9frUuyXcLRvxVbj6NvRtq/WzQCyGdA7D8yXLWpaobsv8gYw9r8ods/mlc9GElL0D82xh4JFdTpvzCxm9gQ8e0/Dn++fwJU4r8qxCkrFki3v9pSACj+neY/Zele/Tpx7r80xPzj+0bmP/Ud2NtPTbO/1gmHPmC34r+aFoHOHgPuP7eGYI0Xi+m/yoookd2izj+3GxmqtH3cP03SajI7quy/LsBWLd8G7D9Wad0ENVbZv22Sivr5rtK/lv6g3ztx6j8ap7i4/6btv+lOGuGoSeE/1UqaHt2ewD+3QhTZpGnnv7zEyMffXu4/Bhv2yUpg5b9YbT7wZ32iPyk612NIq+M/7BKhPgEp7r/LkU9NFc/oP7X9Hjlktsm/pgNobBen3r+5UCZJKwftPxLF1nVDe+u/JGoXR58A1z+SL0JCAAnVP4olrmlbAuu/gYb1DQdQ7T/U7sbPTjjgv9cWUCRfj8W/HmhhF34q6D+i2HiaKj/uv+XGIbO2cOQ/oZV0NB++aT/U2AIj8ZXkvxjpVZ1/Qe4/S4guLJMI6L80z4lfi8HEP0iu8sDTYOA/DG7wyBVX7b8oEyou3ePqP0wRrptNotS/PTubQVNY17+8D6Z7OYfrP6LFn2RV7Oy/Ok0jMuZA3j8b6s9oX3PKPyOMnJc54Oi/cZKcejES7j9pudRgsHjjv1QKhv05qKW/DgYuhvZ25T8hNMO/lkzuv7/2OXHwN+c/oBkUUyONv78FJiLjPWbhv/eulnLeme0/QlYfPvdA6r/qTWBnVTzSP4ugvLrvm9k/Vz1doaH/67/DPhH/HnzsPwkovH0uBdy/BhPsELNIz79WGcpMjIrpP9wrD3AQ2O2/UFMWM6x44j8YffJ8U8+0P9xp0jP5Tea/2I11m0lK7j8rCy7QkF3mv9Vr+6Vuj7U/iGYWYVlj4j/8hUEVb8/tv8kSQaXhkuk/CMC77p2fz7/5f0tV2NLbvy5txDNla+w/OVDXup3/67++/cB0fr7ZP77hAJGbBtI/P3SRiDAp6r/KOJF16ZDtP8pBAfEhceG/GBccTB+7vr9IDcOYnhrnP2UWJ0KhOu6/22oEOdx55T8S5q2K9Bynv6OFA4i5V+O/UHrolbf37T/U+WFT8dnov887Ffypu8o/gl8GERb83T/IhchrW8rsv/1YPvMQd+s/DuSee+Jt17/d8Ny9aF/Uv1z2/hjmu+o/PpQ6ZuQ87b8uG7CPjGLgP/Fq0WGKScQ/VdDkD5Hc57/Rf6jarB3uP1OnyaU+jeS/KgDb22vseD+4yHve9ULkP9KN5vOtEu6/4bjn/n8W6D+HcbAdCM/Fv9LVpVpcC+C/6PFxcmEc7T+XGVhhveLqv3LbQepqFNU/esuh5rit1j/glaxjckLrv1fqNegu3Ow/tDNn79Oa3r9pLjvhaSnJvzDihweAk+g/8wfzloHz7b9CV5rmJ5jjP5pDjvZc1qA/CxHYUqok5b+Z2rBKTiDuP1al6PjrSOe/FPu9MvTbwD8yDpOe6xDhP1QGMW5aYe2/YsOJ+exC6j/65eWLK7PSv/+Rx0KJ8Ni/kZY3fqC86z8hbclU/G7sv18tiZJ1ZNw/vRt62AT7zT9qPlAkID/pv8OaZ6c6vO0/x3P1awub4r/YO8Ua7Vqyv6fQfmd3/OU/j+Gu0Jog7r8X6jL/l3HmPwG4sJBXybe//qj3H0gO4r8Os1aNL5ntP+g6s8bul+m/L4x/HTtL0D9eFCHf3CbbP/nOCkRBKuy/sx6+nYX16z9gUos+BCPav1Nj6d4cXtG//aKjYSvf6T9iDUUr+Xftv1W4Yg9gluE/kMW7EAQ8vD9noPNcAsrmv+/+NdObE+4/3xpMDOuQ5b9mrdg5tK2rP8EZEysFA+M/i5e0DdDD7b8OwQLDFuLoPzOtx5Vlu8u/uR1IEL1P3b/JF2ZpK4vsP/sFMTAJcOu/Yi5moorX1z+hXHfhd7XTP8ejfi9hc+q/VcxZHuQm7T8I7pvan4rgv3aFH8oFBcO/xw+bWfWM5z93hKqvX/ntv/oLkyVQp+Q/XrXw0Vwnj7/4Ri89uu7jv3i5YUEx4e0/l/qBrr0h6L83VEhWW9fGP9/sC+I5at8/Nlqgizvf7L/MON3Uyt7qP6IMQWgXg9W/qe3o5IsC1r8Mv7iNhvvqPywr/UMoyey/QOeYmo/w3j94UTeVU+DHP8+dJ4//ROi/VgzLyfrR7T9MkYMnNrXjv8/eVC7tH5i/V/IMMwPR5D8PXKKQTvHtv6QpgONAV+c/KRwpeJDswb+d9bxBtbrgv6ZvnD5UJu0/D2vvjRNC6r/tIrC1vCbTP1c6TKpWRNg/Mz6bJGZ367+bH1oP+F7sP6qyCEOvv9y/kqud08OtzL85DI1d1fHoP6sgK3+Hne2/T3ZHkA+74j9sg5e+zdavPwgTLnWAqeW/hbjzeCn07T+ba9ooAoPmvzkKxXV/+rk/rLSx1za44T8MT2sXXmDtvxOWbnIxmuk/1dOmqo/D0L9jag6423nav9qOxlrQ5us/W5wXiYvo67+psPodo4PaP0LS2EmbtdA/OTGCczCT6b9nFeQXJlztPypGp0hSueG/6MIwcerAub/QoPEh13fmPxrJOonJ6e2/d3xHgmel5T+ruDQvSRewv3k6lgg1reK/rxMXtEeN7T8GClmHd+fov0wjLL5Ptcw/hcdVzCSi3D8rcltom0nsvxqXbDIgZus/y4OJGnQ92L8/73ZASgvTvwyJcOzPKOo/pj+EtPwN7b8WrnZrd7DgPwtM+DARwsE/O9tZNbE7578N9htbPNLtP/81uP7avuS/EYK9uNHPmD+cLNlSR5njP6rclcAFre2/5qF3lj0q6D+OIlK/PdrHv2lsQ0xCvN6/6sdfZ6Of7D8+0qnl+NfqvxUTAiov7tU/0vc47OdW1T+acctreLLqv8fxRTk3s+w/FLcyF/ZB37+Ah0wUW5jGvw9aha699Oc/Kyl9iZWt7b8f6OWEys/jPwN6yXpZWI0/lQoXjAl85L+7XN74kr/tP3U8CAPgYue/jiWUUx/4wj+nkvLXpWPgP4qZV2HK6Oy/vv1TtF0+6j8ze5/A5JbTv33mP6xyl9e/ibDBNfQv6z8wiJk2B0zsv/6OZfG3Ft0/Rej5KC1hyz8i57WysKLov9HDOKTue+0/zIInnqfY4r+XOCagjQKrv7eeXg0cVeU/bYwkKPDE7b/fnk+cv5HmP+AOxpxYIry/hCtR9S9h4b9spA9a+CTtP17K0MKbmem/q2nmVKg40T+1n1SV7svZP21kPkUToeu/jhELz6PY6z8HPGoFN+Dav7GwXJ40DdC/2VTdrUNF6T8SAAghZz3tvzPTqD/n2eE/ge6abFZKtz8uAlHdIyTmv5GtOiUkve0/3M8pbkG35b/sqwilOk+yP3ncAuhSVuI/i/ONVxtU7b9ecsMhBeroP5srk7sfqc2/NVAc5GXz27/jLS9fqwXsPwE1mZpJWeu/+t6ZeHqf2D8YmnjO/GDSP5FQoHA13Om/jDStSSTy7D/kdxWSAdTgv191o2ztgMC/QkX018ro5j+9XhvMO6jtv5MTsI/O0+Q/xUzZIqv2oL8XuUM6pkLjv32LL2cndu0/w6snpfAv6L/2TbGfZtfIP1L0MWzpDN4/XxQLI5hd7L/8zYCHOs7qP+BfvXiNVda/xIpUBemq1L+hw8FLSmfqPz7nZCdRmuy/krnRb+OO3z+zikzlv1HFP7lFL9S/oue/sF2g9EmG7T989A3w0+fjvwJvahqFTnW/+SA0xcUl5D+UD+qfFovtvyjXP7m5a+c/Szh3M1j+w78KRwKCyAvgv02NiRi7qOw/z+uUuL036r86WlW9fgPUPzi3z1T46dY/Rs7pKEzm6r8fOa5rHjbsPyeewyRrad2/6Obe6X4Vyr9gM9zGtlHoP3+Ma2ZnV+2/4Q2WIcLz4j+RusKYKjqmP6FVIt1R/+S/21e0IemS7T/2lWs1wJ3mv6cZjoBSQL4/xL6L9j0J4T8jJZG6++bsv4DaMGEfluk/FdBuB2Cq0b/UhAR1Lx3Zv+QswqAKWes/MfZuVsLF679l/pcKmzjbPwbBCy8Oys4/EeNh42j16L+TeQfKshvtP7OmRCMN+OG/MUKxR87YtL+mA6V7787lP2anFhKlje2/JS3+LGjG5T9Dm5jmHn60v9quWpxo/uG/MoJPf0cY7T80pNaesOnovx4wi0CLls4/mRJbNplD2z/lbFIOW7/rv/P2hZl4Ses/R4Jnc3j92L9DnDrmrLbRv+9VxLmUjek/vL5Kl1DT7L/Lla8oLPXgPw1bbNW4g74/XOZxZ0iU5r+dKeWVVnvtP/1ZJL4Z5uS/YUDUUwF1pT8w+1oU4OriPxfre92RPO2/Pw+NUMcy6D/XIrqti87Jv3+eZvBGXN2/2tejnxgZ7D/oD9g5gsHqv+j5Rb8MudY/D2MMmKv+0z9wnCRS/hnqvxhMAwFrfuw/62MlwTLX37+omL2ZwgzEv3E03VkLT+c/sD8oyA9c7b9KCQTfQP3jP8QcAUYQPG+/6A4fRkDO479hEcJO1FPtPzpJEuy9cee/jYkF+vD+xD/Jsp3tUGbfP7zBmWMkZuy/tHbnbSUu6j8F8g3eZGzUv9HPggYDPNa/YKyVRW+a6j9nKffdMR3sv4A8GXSjt90/Cq2HJPjKyD/vmPch7P7nv6mrOK7oL+0/llYWKU0M479Iqpt/un6hv2a+JYwpqOQ/DtZUTw5e7b+kt/FQ86bmPzseZcfsKcC/jgjEaWuw4L/Bkv1UZabsP9hVBnqtj+m/3vOlz5AY0j8ESEOiuG3YP1NgTtS2Duu/PmlFj9qv6z84WVNRqYzbv4Dac85ies2/qp0pxaOj6D+baBUp//bsv1ij56KxE+I/SrfevNpssj//fPDdQHjlv/LSqlpFW+0/3WujmcrS5b8pEkFdY6O2P2guowOApeE/zGS5YsjZ7L+LYTeKauboP399YEZGfc+/Q+Tu5NeS2r92cCD5qXbrP/CPNOSfNuu/5eG2zkdX2T+dwwJReAzRPxv6VJ3wPOm/HYP743ax7D+x8FCI5BPhvzljHY5CCry/mSre9y8+5j8yaWXlhEvtv56Ntuqq9eQ/I0cD38jhqb+tvCAH/pHiv2/7PXVAAO0/OZ3JibEy6L9WdTzqYL/KP3qK379yqtw/gewxeiPS67/Bu3z7wbHqP4gi4XSGGNe/+IbOcUxS078ux1x0lsrpPw0WSUB5X+y/J8NGEV8N4D+EsFHjpMnCP/8zpYCl+ea/dM9oVN4u7T99wi5A/w/kv25wSTD9BYo/lhFpdYF14z8wHxRxxhntv8GR0fjbdOc/jUMy2Z35xb+KlKUHorPev5kx8fYDIew/5N4dIoYh6r9AtIZhcNHUP+Wd1H+ujdU/02sPnV5M6r8b77U+NQHsP5K9tW46Ad6/e1PP99iBx7/tjnUsVarnPw8wKPFoBe2/AvImOTYi4z80Hl5psaKZP+47Y7qqT+S/CtSUNlkm7T/8MoK/R63mvxTX03ArLsE/2DAI7sJW4D8MPT3zMWPsv4bYza82huk/Tig5yBOD0r8z/bq5pL3Xv5kZZgkYwuo/UjruZd+W67/Lpwf0OtzbP1kqgH6lK8w/Fk+f3fdP6L/NUS3bQc/sP8ED1OHBLOK/VSqMMQcHsL/smbnWHiDlP2l+z579Je2/d2OJ/1bc5T+JN4oucr64v2c9RwajS+G/RaHA35mY7D/wLBzhIuDov4VaA3KBLtA/VwArWDvh2T+LKRBelyvrv1e8mKaxIOs/4yi9Q8Gs2b/7gb5OfWLQv6PmtsJL6ug/CH3j9ouM7L9tYAN8FzDhP9MCpckAlrk/Vtiwh4fm5b/LxJt1vhjtPyGHgeNvAuW/tog60tg7rj/iLWQ8CTjiP4xcdR8uwey/eYJOr54v6D9hJQ14mKnLv535WvyE99u/4mFBA7eI6z9LZd88657qv73r0AXTc9c/t9KhzOil0j/tQShyFHnpv741r9lvPew/hHUnRq8s4L+FqGOrqYjBv10apmyTouY/Yu/ccKz+7L9p5JBs/B/kPytbqGOJ/JW/hFaOtpEb47+FKVkK59zsP9V0FaYCdee/DJmzKhHuxj9MrVUbm//dPwqpvzJX2eu/VoB+j9AR6j+4Ks17eTLVv3WEHeEW39S/jHssAxv86T89vFqzG+Lrvxp2R4IIRt4/WU7rqGI6xj9fpysq9lPnv1GY+yTe1+w/k+BQPmo14796vso2TWaQv51eh/3c9eM/veBK7cLr7L/NHiq3q7DmPxgX0/iXLMK/ulvgZZ7437/2RyEDXh3sP9VIcwyreem/3TAfAsHp0j+BD4CuDg3XPw5sFiQuc+q/NSPpNMN66z89Gq/pJyfcvyItBrYV3sq/Ycayimj65z8nbZz2b6Tsvwd8DmkqQ+I/5Vld4cNPqz/ox6gmkMbkv2DnFAfG7ew/4QvrC/vi5b/GmGnwsc66P7X2T5bb8OA/xcJDcLdU7L9maFgDydboPxitL5C4mtC/7baDQt0u2b/B3vAtIt7qP/kP1XSfB+u/8o40Z7z92T/Zj3Q9tXHPPxwKtJyolei/S02aCYRk7D+vcZIysUnhv6CPIxR/J7e/T3et+1SN5T9FlqaC+uLsv5ivENVVDOU/TX5dowBBsb+w0EbgCt3hv0q+7mBVf+w/Q7SDfX0p6L9i0gFv4ozMP242qASWQ9s/tpVaNdE86797DM/Q7ojqPxi2ernJyte/WBniVp750b+DpUfOeSXpP2J6UC1CGOy/3T1x3XVJ4D8GDn8sFUrAPwCDKyDaSea/zXaAbnDL7D8Sy4kYJS3kv3rSB+DJ0Z4/RomvZ3nA4j89IKWpL53sv2EJ+RMgcuc/b9v3Q/vbx78LeDAhU0rdv0Z7qBgbj+s/YJEIzfT+6b9IF2c8V4/VP4JRGbNYMNQ/dt8mBqWp6b8aszrG17/rP6kbJd7khd6/N3/3utf0xL9fLa000/vmP0nuV7E9p+y/gauqfdVF4z+vUu8TYSp9PyDt5N3HmuO/VWyjDESu7D+jR0jDDLHmv3ZYvh/jJMM/3Q7U8DVC3z8feDyL5dTrvzSrHPH5aek/Y1T6am9M0787iEDPEVzWv/cH/rn4Ieo/fRv6tHdb679GzAjpRm3cPyauzxT0kck/6hZY9/ii57+P3/n7fXbsPyV6sBfXVuK/8zKg1fifpr+vcLt4m2vkP0BSDDeWsuy/57hlvaPm5T9fGB5VhdO8v85JYa4zleC/w0cRHhwO7D/Z4qeiS8rovwc+218fA9E/UmBzpNd72D+dixcCSY7qv4miyjpa6+o/IiRwjA9K2r8GnpcSXx/Ov7kXGmIJP+g/Es9yuFI57L+d08QunWDhP4QJ5PtLv7Q/CF8/Gp4y5b+rSEa7L6rsP7oBpDlJE+W/KXgZX4VZsz8PFm8fDIHhP21od0WwOuy/NyGj/Tsg6D8qIwmq7GjNv736H3e+jtq/IMhJqm/u6j8wNHfbvG/qv796j5VAHdg/cTSaO4tN0T9OlD7Gx8/ov2BQhvbi7+s/t2OVB55j4L/dq5gdWhy+vzIvJHZ+7+U/UYeMCCCV7L9ux9FCZTfkPzkAc2EswKO/i5n+3kBk4r/TMAFcmVrsPyqij6ohbOe/JvMfRQrDyD/92tVB4ZPcP78lJkBMQuu/HgfcPOLo6T8/aLFx3+fVvyYV/e2QgdO/Jg915fxU6T9K3n9VW5rrvyyCOFOlwN4/uK4lCXyxwz8K2do08KHmv7eNul98c+w/Ap+jg2NT479G28fY9OBaP5fMAtNyPuM/JCWfotRt7L9E+5ayV67mP1GvHXq7FsS/LrmuHGKK3r8Dt2IexInrPzxQCAQSV+m/SCahsPSq0z8b+vDLyarVPzb7LQh3zum/sr5o6+046z/gc21Iba7cvwZxQXuCR8i/1rEtFKxJ5z+j1FbFX0Xsv9hKfRGzZ+I/1oT2+tb/oT81l+RdRw/kv6Kp6T1ldOw/rVGiUT3n5b8PhGzOSsy+P5e+jlC1OOA/UYV5dcLE67+iGwywmLroPwNDt4WLZ9G/oBWD0ETI17/mfUoRCjzqP0fLrynSy+q/0SA8pY+R2j+g09fUN87MP2GcagVw5ue/ESjl8OoK7D+lc7U1xnThv7W6m1T5XbK/QREqhmjW5D/0zZ8wVG7svwlhjcY1F+U/FlOIt9pmtb+9/vgkFiThv7PdfFE48+s/9/OQcscT6L9iQeyPYj3OP1qLEjQX2dk/AZYVj4+d6r9i2lG/RFPqPwGR7D0Ma9i/Yka9K86h0L9SMPxI/3foP5WHiTlExOu/gCNwNRJ74D/UqJQOcaq7P4SF3xuFk+W/6KNaU7Bb7D+IfYchqD7kv8WHOVPfAqg/NPS6Z/AG4j8flhidHBXsv6RbQQb0Yuc/L6/B4umiyb9mvN3WXNzbv3X1fsnm8uo/thqOeIfP6b+1aOSI5jvWP10LEQHd0tI/PLdshyL+6L/y1wWAl3HrPw2/RTAe9t6/k7aj45Rwwr+J05zbUEbmP9Dqe0mOPOy/d/m7EP9d4z8fRSWodwKFv8eNpj/l4OK/X33IIWwq7D/vgh+DeKjmv3F9mzvNAcU/apgmqDjR3T9qG5XN9Dvrv6p1QBzhQOk/Kw2DISUF1L8aUs+7UvnUvy69xueneOk/7nYeFhYT678v4efZburcP4mpmyQE/8Y/JGcfj4Tu5r8BGl5zCBHsPxyUXKuodeK/AmNmCB/hmr/UJxVImrHjPxtGPoUpM+y/D2XcMLPk5T+RwOUSLlzAv/7DzwnVtt+/7ZgxdqR46z+/2uZGnafov0NnvEnRx9E/t2q8bz8U1z+Tu0gjY+fpv7CAb6P2qOo/AwPqHRDU2r8o7IN6gH7Lv+aiaCvei+c/hbvN3T7Z678DCCA7FobhP/jK94EcBLA/EgSDuLl45L/U8vtDXS/sPyrARlcGGOW/Tsm4PVxotz9wRAsYMsbgP34R4HHmqOu/yWptQwwE6D/bCGXV7AnPvzrpaGC5Itm/26hnli1K6j9hFsgHdTPqv7j11tD/s9g/AQdI0Aztzz8GL1PsIB7ov4Z00y5Xles/ElVjBLyP4L8cYi31AD+5v7dl4onyNeU//O8lqRUf7L9KuOoM2ELkP9nXlkO5L6y/YOy8PpCo4b9fOfVFsczrPySM0eGCVue/RIEXKUN7yj9W1oBr3SPbPyRsDk/moOq/eFoRO9Ky6T9YdXdqP4vWv0FgJNtaJNK/6AKSbRWl6D+2zNyPfEXrvxfS3RkiJt8/kkRcL2kywT8RwZOZ+OjlvwH1kcNmAuw/XlPzA5Jl479ZkOKgbiyTP+PeOm0mguI/vwjZTgHk67+NObFLWp/mP3fHjfvB5cW/xHCYb88W3b+4CyMYcuvqP9Jy2CpUJ+m/fQ0tidNa1D+KvwkkyUfUP4A3E8GJIOm/jlxKld/p6j/llB7DHSHdv2mQvMO9uMW/SQvzyYSR5j94WxhYatnrvwUaeVWhgOI/9U4+mLfmkT8Le36EmlLjv3tvhL3Y7us/qFbd1u/e5b+Ef20Eh0vBPz32ha+6+t4/6OdBgrsp67/NWIqVRZHoPxsLDnTDI9K/BRlYhuJf1r/64q+CUZDpP6GYcyO2guq/rCEstWIR2z+pJhJSezDKP2hraiBVL+e/Qe0w0T+k6z/D+z9LdpThv6blFJSdZKu/oITD+ZYZ5D9pwTSSP+3rv7gu/9WkFeU/nStciGBdub89/vQYaWfgv6disOmyW+s/EX504/Xw578+7AU4Mc7PP/2YXGi+a9g/TwAy6UX06b/P4SxROxDqP1YVw77s99i/KOZdmaeXzr92qALhLMLnP8984isMY+u/WfgQKISh4D+4fKRGn9q2PxU0x/vK1uS/PNBYlEPf6z+2xHhn3kPkv2FX0AS2IrA/nntmjihJ4T9lX4R5ToHrv1Xgnv24Ruc/ezIeOLxLy7+O/iy9emrav0brm9RFTOo/yjbfR6+S6b83LxFSu9XWPymsvfModtE/+QxWp9RJ6L+jgBDi+RXrPze8h92BUN+/NoQWE4Puv7+8GK2V6onlPwGZu0f4xOu/qQuDQgVq4z+XaGxpFq2bvwsAkoY9IuK/HfD/K4qa6z8riI4i55Lmv5/1Z3JAwsY/B+o2azxb3D+49rDZNZjqv9bXQSFXCuk//XqUCNGr1L8Jv/z+SZbTv0vS7nwaxug/bdQx0ji96r/FhixQSlLdP5PPUKP1dMQ/ooOAz64y5r9HbvTedp7rPy0Qs4KFiOK/Jj49ZPglgr8GGQo1TvLiP2JhI8hnp+u/tigUudzV5T/cjtbD1zPCv3rFQq8vPd6/Ta+5SgDY6j+oHsjCfHfov10hqyUze9I/nEPZeEmr1T/nBfjs0TbpvwRgfST+WOo/F4rbTldJ27/nj4gebOTIv3/qMszV0OY/3swiK95r679ywPlxzp/hPx4syWNb0qY/4MrlWQW5479NcHTc7qfrP57pKiH6D+W/y56ctjhFuz/LP9w9xAfgP5A/gD2VC+u/30DRtm7a5z/RBUEY6UTQv1CLKQJAtNe/mJI+FdSb6T+vkJothOnpv/weM52iNtk/mRQnua1DzT9gSSDlImTnv5Bg/4hSLes/IAY6UVKw4L/yWnd65X20vyPw7GYSduQ/yBMDtyyc6784nAyDo0HkP0veDHJPIbK/Eb/8acHo4L+WXoWO6jLrP5N+uQOAM+e/JE4x9/cTzD+rc8m7TLDZPwozerT/9Om/8WvlTgpv6T+uOo6hKRvXv4YTTVVmyNC/zhn8wl7s5z/fRUzL/eLqv6bcIz8Mdd8/5lt43tB+vT/Z8GCiKSnlvxT2rFo0hOs/VECOnEBr47+aBTu7RgCiPzU+0ZExweE/m4Nn4ftN678qr9EACIPmPybQOS/slse/WynarJWe27/G69c1OULqP/aRUtTU6ei/Qm1U6ez31D87y/7D8uTSP92vInRXaei/qvavIg+N6j89tNTAwn3dvxyAqsnzM8O/ebBqRwTS5T9fdKdxHmDrv+zj3ow8jeI/tR40iTwhOj/TSM5Iu5Div9cvhZ7KXOs/Gl9eKWLJ5b8AQc3BxBTDP9QudSVIft0/Z6rEuWqD6r9qQg7QLFroP71RGazvzdK/76RrEZD21L9xCESA4NroP4kQCAO7K+q/zHT9wLt72z/H4j03mJrHP5gxDKRgcOa/fWtXPQkw6z9CFMSeBajhvxfU4Mm2UqK/121XpwlX4z8rYdbtXV/rv191sO3tBuU/Rrbc4i8fvb8QbaEdmU7fv8DJ7BuEuOo/yDLc81/A57+TnLZNN57QP3/+9DBY/NY/3d1e+dJA6b+00j4GO7/pP7TOu/Pub9m/EybDn2Hxy7+L7I80AgTnPz6sf4MY9Oq/9apmEQ284D8GpdxqcSmyP4EB0W/ME+S/gUIDr8JV6z9DkW+CDjzkvzyxpbT2ErQ/yVg3yGKH4D+GmXn2euHqv9YcVWjAHOc/uC1Cv5XTzL/+6tiJa/XYv7LWCIoNm+k/Z8a5zM1H6b89rCyuV1vXPz5vTKgyG9A/JEFovLGM57+vldB4dazqP4Nevb+Nk9+/d0pK01QWu79/f1UxuMbkP+WOvG4LQOu/Op0vripp4z/5fBTOCxKmvzIxcWkJX+G/ywKEokr+6j9B6xKipG/mvyBlbENlY8g/ouglXfHg2j+0svOAdOnpv3wvaNu2xeg/t2BGa/Q+1b9Reg5w4TPSvxwkc1w9Cug/nCTiqE5Z6r9wwwAPU6PdP9RHkCAC9sE/ncAGaIZv5b9y3ltZUB7rPwqNY5WsjuK/eh5tGgEsgD/I7mJz5y3iP8ePwDX0Duu/L6zhNGe55T/I24YF7+3Dv+j4BSgYvty/Vse42fEr6j91q4l3Pjnov3ijc0/GG9M/ZnbMhdJB1D/iFZ2meHzov6ElqtvX+uk/Tjc0mluo278vkAGrRlPGv5Hl6pr1DeY/vpfTKq/w6r+p2diEAa3hP8OEyqX8zZs/+XyCZKjz4r/OcmZ9fhPrPw7bDKVm+uS/ec3Fg4rqvj+nMHACFozePyEG3UJ1Yuq/67I8gLGi5z/DKiyr0PLQv1OetEchRNa/75TOrjzj6D/x43X4SZHpv+qTcAKdo9k/NSFnRQehyj8pfEZ3yaHmv/sz9htLt+o/cNS+upnE4L9awluBy7uvv37LxF38r+M/dxVV9vUL67/bAdo2BTPkP7SUCyrz9rW/Rf3yfBQl4L8M+w8h9IzqP/Xx6EVhAue/2dKW+TCKzT9I+Ux87znYP+NyLRloPum/9RB75uIc6T8+ThyHEJbXv+MoZ39c3c6/pC1t6coq5z/+oCHNTHLqvy8IzVzQq98/3T9bf6y1uD/7mTdFmGLkv/MZfcJs+Oo/08lYvKhj4791tQ/3bwqqPy8EErTL++A/gISkj2mr6r+18Jpfo1jmP68Tn+NHJ8m/7DQKuGUi2r+bjZ8l343pP9pGDmvlnei/lu1Bi7KA1T8sukiPNIPRP+ep7zLIqOe/z8NWLuIh6j/V3J+txMLdv8PlLqJsu8C/YE825jUL5T/jypKb+tjqv8ySjGG6jOI/qb3DBs9lkL/9os0i2Mnhv6LsQ17Wveo/GfVgftGl5b8HD97P877EP3gcT7+z/Ns/WHqPuIvR6b8awpAFmRToP7DWqhmCZNO/9YysfS2N079yLzD+lBvoP8YNzGQ+xum/2qxE4P/O2z/HQr1nwA7FPxB4MQ+UqeW/ztERw7yt6j9k9hh3pq7hv8GCoo0XIZO/0KjFu+WO4j9atd4LQcTqv/5uzT5J6uQ/Mh8E3EJTwL/2jrnkEMjdv6wP72BdCeo/9YkoyUmB57+vZOhngELRP1+SN+y1i9U/yaZGbwqD6L8uFwiumV/pPxmgWIB10dm/cqwgTORSyb91W+usdj3mP6jImu/Vduq/A42FO9zJ4D/cTmDb1DerP6/qywylSuO/HJTbvrW+6j/Q+qP4aybkv/OstxSFzLc/B0mNY7yD3z85mnVbSTXqvwC7UTRI5OY/dIVusWA3zr/a4doZ8X3XvyX8MjIH3+g/HGKTQDHu6L/99RS0HMvXPzRyoE30hc0/5eQy46bG5r8luLQ3bjTqP/pNakabvd+/YJEIXHpdtr+zVWJhy/zjP7+8jTpGreq/xcPWjJ5a4z8yQeYT++etv9v8CNt+l+C/O0Mbk0pV6j9BOmkG6T3mvz+LePsr4sk/h/VHCAlj2T/W2FaGby/pvz0YUipHcug/0lMTwu+81b9LJ2xHC9PQv+yCASPzROc/rOz9+bLm6b+ig1g+3tvdP4p8EBcDCb8/9NjK4hKl5L8LR/XRCZDqP/rm5zFJh+K/htQnEgeEmD8qzNxzkmThP3UuzZ5haeq/9sU2E4WO5T9sBg4ybIfFv+hqk90uOtu/sLMxRy106T9oI5MsIuznv8eW8ZXrp9M/IJN8Gb7Y0j+0xfg9L7jnvyKv2MLWjek/+/CIxW7v27/fuf5mUM3Dv48hsrU6Q+U/rZbSVx1n6r86fsk+16zhP2oDLEoVQ4U/lt17ccUo4r9ExWO8lHHqP1tKmBR51uS/k68KPSspwT+NcyRCmwLdP0HvXvIvrem/gqLwlQ1c5z/ZitZDD43Rv5X9GRox09S/MSE2dzQg6D+IL6IvESrpv96pwlA++dk/Em/ZJUAHyD+ZuFUVB9flv6BNFQyjMuo/kxJY9LbL4L9S4FttWsimv9q3P93I4+I/2QvZyO9t6r+iQGF6JRbkP+upotbkkrm/uN3Buo673r9Yp8yqbNrpP4GJCBpZwua/wMqBFrfazj+dCfEZicHWPwoCdZHhfOi/oJN/z5676D/Ol7HqQfrXv4GJNWFwMMy/R20gbEFg5j8O2LCGwvLpvzDwBYuyyN8/IZokTWYOtD+UZfx2UpXjvzEqxjWEXuo/OACHOO5N479ONvftktSwPyU5Uf8oMuA/D900Od776b9YMiunWB/mP4p7mLKkk8q/340DovGi2L87Gn3aGs7oP5a02AHBQui/f04iunHz1T+LblljhSPQPwjIsGm43ua/XkDin6in6T/YjqI8Y+7dv9xvQSsjo7y/8d7z1Bw95D+B6y38aEPqv9EktJM6fuI/s6IIK9Y2oL/0tZckG/7gv03+0QmFEeo/1qQROmRz5b8dE1mV7EbGP+Pd41Sddto/6r7OM8oT6b+MIojSvb/nP69qDofI5dO/pZPt+aEk0r9j/j4WQFLnP1S48VWHUem/Yi+NU2sJ3D/4kv7fQ4/CP1UnW4Hn2uS/NqybjLoc6j+xy1XsdKfhv3Hml6HtkWK/mqPE00rB4T/yI1QnZxvqv46Psq/XvuQ/jgNCW5T2wb9KM01Mxjvcv2wjlxjfTek/e97Z098y57/CbKU+Q9LRP38c2CWuGtQ/V3xe47G6579lw4KwlfDoP+UMri26Gtq/2LzbPmS+xr9XTmIVd27lP92wn7ya6um/6WNOiArK4D/lZ5ihxG6iPx7AwKBpe+K/t/oZM5AZ6j8jRE6VEgLkv/H1IhBCSbs/o/HBcq7x3T/NpeCgTnzpv/BsafZ1nOY/epYj7cBzz7+bdPpi0ATWv1c7CLrsF+g/iE17oQ+F6L8RpgC5QiPYP4aPCxIW3co/tSqyUZX35b+OuLGxMK3pPwJ8pLbWzN+/V2ysMB7Jsb+J5PvOLSzjP+IqsloRDOq/NJfD9nc94z+fQRsYLKayv/PWPtmfl9+/Sa0CghOf6T8kIvRe0/zlv09Zdd8/O8s/Ea/42zXi1z8psfcF1Wnov6GdluM1D+g/mtJN+voj1r+BLO2/hunOvyIZWjQRduY/8PmHyahk6b8AQDWcE/rdP9o6RGzgRbo/Oh08cVLT479+datKAfPpP/wRVituceK/LimWKdEPpD9UsVeEdpbgP2I8UQwutum/g/s1Ok9U5T8c8VkxBP3GvzfG/MoSstm/S+RJvlSw6D+lgbPWTY/nv/WfqZLbHdQ/YtoCSPdw0T8hhRYMv+nmv9dz6380Eek/sqoJCbUc3L90YJqA6lTBv2uQ/YaXcOQ/v6u6HnzO6b+fpOqgXp7hP65xoTAkJ3e/XEGHp3hY4b+OXg4mpMHpP7jh4Y5Eo+S/upcwIA+7wj8+pujWonPbPz5CYGtb6+i/5FPwWaEF5z8IcfRD3xHSv+vqwr9IYtO/FOb5iHhS5z8E3hlSCrPovz8zdkWoNdo/fYkgLpx4xT9ZulsXwgPlv2TgP0+jnuk/xn7kpbXE4L/Q4pNSFFmcv0A4BoSIEeI/OtqgQ4HB6b8UKNoNEurjP85Te53C7ry/ILqdbCkm3b/WiAQq3hrpPx8FqaN+cua/6CSKdAIB0D8X3OgH4EfVPy9CY8ocsOe/HTTDn2VK6D+sHgkj3kXYv6tUwZAsjMm/CYxoSZyM5T/SPzScnWPpv0cebmPEyd8/UgS6Bq0crz/jyorwXMHiv6mOFV3Wtek/fW6v4Bkp478EP5GW82e0P5OxQRTyyN4/tzvNq9c+6b944GYXONblPyllE2WF2Mu/PSslB+wg17+B6kFqkALoP9cWs4mG1+e/KJK2g0pO1j8sFRD1zI3NP2HX+nn1Cua/hCGM9ZYd6T9rpJNYq/7dvwzuoNLn8be/uQ1UjLFn4z92BPDguZ7pv10ejHbBYOI/T4M0XFTLp7/mkCphqC3gv9I7wzRIV+k/vwDjGSQx5b/172xtPKnHPyouj6qi7Ng/bPeghb1J6L+u4DfOsVrnP1VSu9/jT9S/qF7rvdy90L8s09pOon7mP0XMGWHAzOi/OEyUaAcp3D+exQWulh7AP0ClXNxGBOS/iAZUpEd86T8N46BPcZHhvwzk7vfCXos/7aw5ElHu4D86H0yWNWTpv/iDIuOcg+Q/+H67ziZ2w79RFWBCQarav6hSd8KTheg/E95VozDU5r8Tqp3KokvSP0cg6fYcqtI/K35Kx3zn5r/Mp/7dT3HoP05sEsnDSdq/SFMg7DU2xL/dbB5m4pbkPykOj9CgTum/j1gtx5S74D/XXQQxYwaUP+/d0vQlpuG/pvdYJ6tl6T+VAc9OAM7jv6Dor22Bgr4/aE3U2gxZ3D9rErpSCLbovzCI445QROY/wPdPd4FC0L8I1Z1E0YrUv1as4UlkRec/dUm6RYAL6L95+fUwz2HYP7A8nxL9Pcg/a9PJx04f5b+DYQzO6xXpP+npf7gzv9+/MZ0nOpa9qr9vMgKD3lTiP+Cp47m5W+m//9veqq8Q4z+K5sd3CRm2vyBrBpFS+N2/yPGy9BXb6D/XpJY8Y6vlvwuzuXf2asw/lmJaZCpf1j/lUrevPZjnv4Jq5CqRm+c/7m8QYBty1r8PxjmBITTMv/nK7M1bneU/sAS/LFTS6L/zIpTy4fvdPxW2fg3tp7U/a6La+Db64r9m1byNd0bpP+sGp4QPTOK/6NDSkqtnqz9jx6rjZ4ffP2THlfC89Oi/Pt4gUr4J5T9EapIpGEvIv0R1nBFgJti/MxLXTPPf5z/IW6q1xiHnv7ZibKWce9Q/XceDsHEL0D+fa36G3hDmvxFfDooKhOg/00g5dRku3L8yON+dO9m9v+TMg3HwleM/RnqzQAAm6b9C4W90h4DhPxebjZc9W5W/WGqvf9WC4L8jSl8TAwPpPzF8bkG7X+S/TbHYUGAnxD/gUFhisd/ZP5Pd9vV0HOi/XZsYfmme5j+1UK1kSX/Sv356qztH8tG/wCVGUbF55j+MJ1F0RCvov4GM+mfDVto/zCIaEYL3wj8S388B0SfkvwzPHrx0+ug/IaOo54Gu4L/EPB4ETdGHv+YOToNBOeE/nF/6pvMF6b98Bh8Zt63jP7lV/ZTGAcC/BzB4H2WK27//CXcDuE3oP9H2SmTGEea/Emasmhl+0D/B+SV5vc3TP62om+2z1+a/H7jqSzzI5z9z/q5qzHbYv3EEKwPT8sa/AjJM0KOv5D/JhdQf+8Pov0q4mtPXrN8/6FtoFIB2pj8n9YIqsObhv5dbs2ef/eg/WdlPUxL04r8USyYAgri3P1wnPhnKJd0/FAKjUbdz6L9A0JRmLnzlP6C7I8MM8sy/baJvFwed1b8p0W6FyyrnPx4XFCIxW+e/rDx1HSSP1j/QPBpEytzKP6/VwCo5LeW/xX6Vqr6C6D+r/FjYafHdv9M0OkWraLO/0OAAX96K4j845/52HOrov6yS0qIwM+I/tUwfIQzjrr96EZd3N7HevwU6Nz5zjug/MU+3dfbd5L8JhVbpEuLIP1M5ALxdX9c/6MyhteJy579szWaVZuTmP7HvdKe8oNS/pS+jM6yzzr+yVxqZZqDlP9d2AKDvNui/WBIiGZ0r3D8/nvBAsX67P6J7PeONJeO/ABmcS4bL6D/CmeK+eGvhv8uYm9fkyZw/+ZcHgwYW4D977i2j8Z3ov02oPEd3N+Q/EKNTaDnOxL9kABVfAhTZvzcip5Ppr+c/rOg5rCRk5r82xaQ8iqzSP3MNE2LkOtE/p7io7QYJ5r96kBQsw+DnP3lT/rVYXNq/H+62HNS8wb/vStpshbbjPyAUGp/9oei/2MmDLVSd4D8WtJW92gxwPxGNqr3ZyuC/fTLWzj2i6D8RTwomDYnjv4i3ZlJzuMA/K8DAoz262j9vTmaw1eHnv0jL5Ky32uU/TnPUooKz0L/cczgjvhDTvzWBvVL6ZuY/BlhVRHOA579LGzM9h4TYP+N56jz8qsU//lGOvJA95L9GFcxYqG3oP0C+IBlekt+/w/b3DQVJor/mOxNeznbhP6QUOnlom+i/qE5PwRfT4j9P9BopZEW5v0PQ7CtgUdy/ZbxlGKII6D8r5/zzb0jlvzOmTGw5bc0/GKhaF5ja1D9GPpZVJrrmv21Kn4Y+Fuc/ZwOcMxal1r/jdlEKD4jJvxUpd7OAuuQ/YEA2drEu6L+Yb0Kz797dP+KiL/3lNLE/IIDCDKIZ4r/Sdtq2h4noPzgi1vn5FeK/K+Z2AckdsT9vODTowtjdP6jvOlFPJOi/aiGfyKGt5D+rP8Lan23Jv31DYemtl9a/fSeU7nUC5z+PNL4VaKLmv9ET0Zv1vtQ/phS1SFVSzT+VHdtlKy3lv+VAAPFI5ec/OrjMcT4h3L8sDkwxRy65v1yVEUUXs+I/QszG6LZs6L9MmOCtGVLhP/sXtmfX+6G/HwVwY8dP37+X40JU4zToP5Nv5i6lCuS/xqU6vCdqxT+tU2eQQkfYPwnsvIbZP+e/rFLYczcl5j+Sb0V8F9PSvxALnqMRhNC/HGxFK2yV5T+KTHuio5Hnv6zZGnYvWto/sVFnyIKGwD+fIWdv9ULjv0ZoG6oWReg/COSig9+H4L9sw8yiODNtP4pY5wTsWuA/cHCnhmk66L+D7Je41V/jP7kNbYK/ZMG/Z7hNp6Do2b+w2oL6RnLnP6K4vVr4nuW/u2zEZG/i0D8/lqLV7FPSPztj+6sj8+W/13PKJPsz5z8lpahEq4rYv16PO0rJZsS/Xwr0+AjJ4z9T0O66zBLovzJF82Rtb98/wKVtk6htnD/cTbE1NAXhv1U2s67yNOg/O28nVJKt4r/cpLLep766P44xTsAae9s/QprTmbmZ57+RqzmS+g/lPx3jpebj282/qGBGGvMX1L90sMPrN0bmP9/PvbGNzOa/z467TZ2z1j8gbTq7OTbIPxIn3WgjReS/1A666APW5z/rueyVGcTdv5hPiDTUGq6/xPbyvHqm4T/R737mlCTov1USKRo99OE/bWvSQJ63sr8ptWS0C/7cvzRvcCUytuc/M/xuxJF45L8TmbaxKO3JP1euMT1iz9U/amn7UZSO5r89wW7/nVvmP9n98XTz1dS/5kMgbyHzy79aq85yG7fkPyhsSPTrjue/1aW/+6IO3D+dVVGxvui2P0ty4uCCPuK/9vr7i2sJ6D+N8EkZOzThv4DrvG1ecKU/z7B37tZw3j9044zJtsfnvxGtXlAV2eM/u4Ogu5f6xb9EqMlQf3nXv0NA9a4pzOY/5862GnPh5b8SEMGXnfLSP9hyTkDZm88/zd7vBs0e5b8ppzx1uT3nP2KqdsTsT9q/VJjuzdCpvr9wmhjPFM3iPz9qZi6X4+e/blfqIPRt4D9b7Gzd9SCGvxnd9rHo0t+/+si+FVPO5z/ndqwa4DHjv2lCDs4aBsI/FHhMBZcV2T/SAqQ+7v7mv+Ttij9YXuU/NAlEE40K0b8jOs8sY5fRvyYcMF8ZfOU/T3A4u6Xi5r8Ovxx13YjYP3ZyI7CNJsM/tiYatP1R479lZyh5PbPnP8Dw6hSlQ9+/aMNNiWiDlL+3FYAu25HgP7PGPvIXyue/Br25XFCD4j/dFiPsMyO8v3of/Pv9otq/zKCIqN0m5z8siFavnNLkvxWPFZNoPc4/atbPfC1V0z/qyeYJ587lv+dyu6zufeY/0W27cl661r/7lK2MlufGv2lAVNAPzeM/aHI6HIl4578FwxYDhqDdP0SDgS0e5qk/Z0fjUl8x4b/T/oGSG7vnP+i5L3LHzeG/jPkRIPU9tD/rmwkWESHcP1mn7vz4Q+e/4dJohZM+5D+akU1NDGDKv4cGbpeLBtW/yYnF8SEX5j8sVcSj1g/mv1SSM4pb5dQ/pZVmClWWyj/lNIKKIj7kv1O1C7KpM+c/lQVUlmjz27+5Z0Vl4q60v8RNlunEx+E/++wzZXmh57/LchOlqRHhP7hPalZ5wKi/MjROvzWP3b8L0HGvRlbnP7cki4mTouO/N1NtS+t+xj8/N3TGxKrWP9leEGO7VOa/QuRKSKSY5T8/Px53wgrTvxh6h7smMc6/MKd4fxKl5D9OVQOj0+TmvzVFtxcuPdo/UN9up8ZQvD8ZATv41FTivxRkmQFSfec/Tph3+F1P4L/47CRuEzeSP9VhiDTa7N4/l13TjtJd578/btcA9/7iP47nN6zqm8K/3H/M7CdB2L8ljCYOqofmP1jVpGiiGOW/1ZL0aYIr0T8ckMi/OtvQPxSDQ4/BAeW/C62lBkCM5j9bijAau37Yv16FsUSg6sG/FA/7fV3Y4j9DQmYSy07nv26w7OObDt8/rZbGAhiuiT+ISYXiuhzgvxCuI7qtWuc/q7fnfBtU4r8l5guF23G9P4PdONkLydk/KFBSB+qv5r9+wunPH5DkP/fmexsXkc6/KZ3ZIlyS0r9p7KDnFlTlP4dhcIIsKua/KKXhA/e41j+4hE8+dJzFP4tPWIgxUuO/KEsSPg8W5z8IK/XDynPdv8EExtlwzaW/dgXdh0S64D+IOUaT7kznv58AcqlhouE/r6QARKqvtb8OP9mUz0HbvzJT5MN8zeY/bbNrGm//47+1HOIancXKP2rEBOQ5PdQ/nMvIC/+b5b/mcH0m277lP7CGRZbL7NS/PY7vLzY8yb9AUl9FKcLjPxN5uAxO0+a/wvcGViTP2z8a5NqNh4GyP3WXnx3PTuG/cN3XrrA05z/KeHcYLergv3l+Trf26as/Avtprdqq3D96dJwUaeDmv+48W4jmZuM/XLTbMnj2xr9CluGfHdvVv3bagtlr2eU/B7L/R5JK5b+mNWd1JBvTP67r0Y1IyMw/Y+VFEyIo5L/gWI/Lu4bmP2MR8g+IIdq/HC5h6qwCur+eTqyUJNrhP4lgf8EUEue/pIgPDeQr4D8qbI1N/RWZvzV8FHudA96/sHJjHbvo5j9fpanO38biv7YkLdqIJcM/nd7EiFhr1z8suoiLVAzmv1odrFmczeQ/ru1Uru5E0b/MsngMjR/Qv6kWYY3+g+Q/KiYJbpEw5r9U916j2GvYPw6G55Nbs8A/a9SN0hNc4r+axLOKQOXmP9iE7Ynez96//0pqTEaydb9qy65hkUvfP8uJW0qE5ua/ILJM5rcf4j90N7ZTW6m+v0Qs+7hD7di/jMYzubU05j/X5iTCR0jkvyvNZnow1s4/w1xAUJPP0T8mmHKWptXkv2TOq2wM0eU/lItwh/uu1r+HAGpdJFXEv61BGsZw1OI/L4wCvV6u5r8G8++Bcz3dP4nYPYyu0qE/Bd2rhhxB4L/NaktC29nmP2+E7dnOceG/RuuP1YQLtz9v9d+AQGDaP15ld1ORUua/C8Z3sOa64z/pfPMlHx3Lv3IyLd57c9O/p11IYAcd5T/7lrKhbmjlv5lgLYHY69Q/V/Cqxgzlxz+xonp5FEPjv4oi4+OebeY/q8iYGGGh2789Lbp9j2Gwvy6KGVWQ0+A/C0Zv1tvC5r/seSeSh73gPwU8wpR86q6/hp6psLjD27+sFyyf7mXmP3uAz+7OJeO/Ph90NoZgxz/ZJRXAkgrVPxyKq3ATWuW/rdOII/725D8/bhErWSPTv6UPlEx8Ycu/jNeXId2n4z9LISVHNSPmv/zsIAaF/Nk/tazurlPAtz/2VasL71zhv4yate+moeY/XchsoEcD4L+dCvyTuaifP66t1N0eF90/RTKqLNpu5r/j9WKzWYniPxrQR4RBosO/cWh6kyuU1r8BsZyjwozlP90uOB0FfeS/tifTe2hW0T/AdRO75sjOP7T95CquAuS/L9UIzFrP5T+i7MYvwE/Yv4tsNqw8Ar+/9ghYigjd4T/PVnN5Ynbmv1DtWBHuht4/BDga+Sh8W7/z6eqj7lnev1f2v8xlbeY/9D7Db+Pl4b8FiP/rVci/P6bkUduhD9g/B9PfKhK15b9XmNWk0frjP6W/epnkC8+/oCLOduYM0b8O54FDcFPkP+MOENRMcuW/JNXAMfab1j/e0EST+xHDP4By7bWxU+K/Z4SaSTlB5j/6gawTAP3cv6RO7vyx75u/U4K14KyL3z/gTASDqGHmv3XnnZ7LO+E/VueCHTNQuL8vl7NNWXzZv36M0ooE0+U/ihUJkLVw479TGZi/xWXLP16NW8ReqdI/8+2wYhGa5L+PuJ0ZTQzlP3Uq7ucM4tS/+YLZqCKRxr+RcemJxMDiPzhsgAZbAua/vRmkyp1p2z9u7Bew0p+sP+ehzfXzVeC/B/iPdb5L5j9WcQ2QdIvgv8BmIv3A37A/2XsrHb7Z2j9UDJiUoeblvz0TxEYG3+I/GlWWy0y8x7/PmCHWKjnUv4aooM2E1uQ/AN1viqGd5L9kEaj16yLTP3Beij4A/ck/7Ny4JyAk47/ExD8K/LnlPy+rLkujzdm/CiJWyJaKtb+sag/kG93gP1ngJdrIK+a/xrcmaYaq3z9pC2vTOPWivz88uD1FJ9y/2rKXXfbv5T8R3T2UHEbivztibglREcQ/+uIXz6C71T9JnX8Zwwjlv0V4DCCUJuQ/n0feTHxf0b8AUQVQDVTNv4fyVOOofeM/5TvJQ1Vo5b8j5djH7ynYP4GuZfeXqLw/EpexKR9b4b/d49Tg7QHmP9ycoc09M96/EsIJYLcigT85aTKlbGTdPx9eVjQV7+W/2EhOdlSm4T8pBBe9p2bAv2MniLYeMNe/DkrlKsow5T+4oTO2cqfjvzBsf2lPMc8/xp1H9mdK0D8n6D1NSM3jvwaDrhWkDeU/lYv1GmV/1r8D2b3/UdPBv1mrULbTz+E/OyUenFjO5b86lk9o4rHcP4C7R2AsfpQ/wFsMh7uQ3r8Ga7CSFeTlP2dNQOsMAOG/ReqNY0Z8uT+I0lDFCpbYPyAPiTKdTuW/i9Bs344g4z8G2VugsJ7Lv+I+5Pft3tG/to3EOe0S5D9lMbwyKqrkv+Vxnk/nztQ/rsA5yMNAxT89zD2MFDviv53vreY4keU/99SbSEsn279IEj5VKJuov5IrTIvCq98/CDp8DRTP5b88+jC+p1PgPxXO0JUjM7K/4TTVrtPs2b/TJk2nRGLlPzOdxbc9kuK/sXVRSPAIyD//j3rZ6WbTP1DprcWLTuS/MtpzeC0+5D9N+8spXBnTv9u3YEMTm8i/47+Tz8Gc4j+asbNGw0rlvxe99v9SlNk/TKSrfl9isz8hB1MAjlrgv4aNnkEysOU/adBDpBJD379IlxRe9OqlP7Kuh+XwM9s/6QqhPc5r5b9gCdq11/zhPy7nKj3hccS/xQFtW7Th1L/eLyVYHYDkP5APesf3yeO/iNrBrapf0T+prCG7vuDLPyhCpdLA9OK/BkbpzjD75D+lKpst1/nXv4bO5qeaWrq/KyHPBDbW4D/sjpq+loflvxNlktcw1N0/inAHiI42jr/lu+ra4mrcv2F2QNxMa+U/dPU5erhg4b95StU6VNvAP8K7xyKuTtY/Y1gAoqCn5L9p5Qza1k3jPxuP/U11Rc+/+ZrCk1EQz7+SB88f/ELjP8uWWf2+ouS/pY73CLhY1j+gTC+jg5nAP5sQVGKwSOG/6Daq7mxV5T9JPY70e1vcv1VGgl7Zqoq/+bfoOjOR3T+0n1aO2GDlv0bPT50+vuA/b+WM2i2Our+8TA0GQK3Xv0sEWJoZxeQ/ISeZGBzK4r9luiFe6MbLP7ac5IEyFNE/aMqdgGOH478/LPiXr0HkP3yZ+OrXsdS/3LnMUz70w78CQos32bHhP8Qka/zkGeW/kyixvcnZ2j81Ko37QrekPwRHciJ1pt6/qy8Lc45M5T8ThdN7yxXgv1M2lQTmbbM/7GW/Vdv82D+CRnV4kdjkv933gGwcP+I/tF+0aH5FyL/a5UBi0JPSv++rSgLsweM/Fksch0jY47+eYWPWGgbTP5gv1K30O8c/AGp4wZER4r9kgi62M9XkP0SuR2fzT9m/aNFHp6ZIsb/igixRRarfP93IhaqQLuW/NBTeA4bP3j8TwdT2tLKov98HfyD6PNq/ER0bqxbi5D9IpTQRMK3hv/pBTgIGw8Q/HT133V0G1D/xAIz3j/Ljv0bb863TZuM/7i6e/2VW0b+qACBfKm/Kv5flwmfAZ+I/T0f7bpKH5L/FTnsj1b7XPzdY+qoiGbg//uUfKyVO4L8//G9ABgflP0FiVuoWad2//OVOgyRQlT8VcLByH23bP2TgLM284eS/9J2pY7IU4T/Lh4iGS0HBv5xFZEw+a9W/S2+6904Z5D9iwf/Anu3iv+xz7Kc+R88/XM08OXCMzT8KQl7GULTivw1wU90+MeQ/unH7rE0n1r+QC4+14cm+v0WFClwavuA/csACFBvW5L8vh4J6GvnbP6t/KanZ6Xk/mmJlkdeM3L+ZcL6XnNfkP1DHUbABduC/h+5JUTCEuz+++KA63cHWP8VcTtstNuS/4P+2Gvts4j8Pl4MBWt3Lvy3LMHQySdC/IWmNtDP34j+tTc73etLjv2n7oNA9itQ/7RaQ3uKrwj/T7X2L3yThv1JprL3/m+Q/LSvdV2WA2r8bbrj2cPagv1e1nDC4m90/gNKR0dPD5L+67FL//aLfPwZzVAxijrS/1mKsrq4J2L+qwbK1NknkP+hgXY495eG/Upcb9elwyD9CuJDR2r/RPzy4PUlfMOO/QW2Yz4xr4z/Sjh32h+jSvw0qXQrk38W/AVxUJVeC4T9DzF1y6Vjkv+y3wYfP/9g/OHEabe58rj/jRJ6kYJnev9GzDTyFpuQ/6HfuwhtP3r/AKr/vWEmrP/L4mm0vQtk/Lfh5zHhS5L/Soyw5vlbhP0iyKwm5A8W/VsM+aY8p0780J7zczl/jPzHV8mi+/OK/xjATqA9D0T9Y88R5ff/IP09xP71o1uG/GOiM5BEN5D9Rv879M3jXvxWVDSQc5bW/P9JpDnqF3z//brd92H/kv1lns20o8dw//j9/7w8qm79jMlg65Wrav9Yc9IsIUuQ/nc7lUdjB4L/mF4dxj5fBP40VEVm2hdQ/1Xi9B4OF47/jD7+RXYbiP96liDdyNc+/X+1xd0UJzL+VwE0YASHiPxEpASO3uOO/0s3lJnDq1T/yotvm/Wu8P4xzkcHbL+C/l+c8CvpP5D9TonP284nbv1iKKwUqewo/IGs7EF+D2z+MxTB5/0fkv1V45PbpJuA/levOQWRcvL8/uh70vdPVv2S6xZ+BoeM/ppgztrsI4r8D5zZx0eDLPxRLNDPg+84/nzHRMxJi4r+WO3d1G1zjPxgSInNjV9S/ees1hQRowb/IWTQX65PgP/opGwgbF+S/d0SXGFIa2j+9vxlxZ7aaPxOY4lg1i9y/yDh0IXw05D9+Bp71pwzfv7+0urjDkrU/XOCBCh0T1z9Fnuqw1bPjv8CJzbMthOE/teiOPwWKyL/6UXI4AOvQv/k9m0mTmeI/tZoyN4X34r+sm/be7r/SP5YgMMogh8Q/ThrFt87u4L+PCvIzcdXjP1dbUeIZo9i/aeV+3+KJqr/MITgdCoLdPwQcKgeiF+S/NbrzX/PA3T/EeaFFaautv4x4rCxTQ9i/LrT4dI+84z+D45eqC/ngvyNgWGjUMsU/mle+FzRL0j+Y0prRgMfiv84RkK8+i+I/Rxuze/Qk0b9wuORE4pHHvwqtyXhvQOE/hySTwTaL479YfF1BJSXXP8VTSMODv7M/+hmOMYln3r8jB2GMmfHjP9C6SmWBa9y/evYhu0RRoD9Ixz3q6GPZP18zAUjEu+O/NwrizLBn4D+gjqtFA93Bv+FxOqT0ndO/ZHXTgNzr4j8l0q7olRfivwiIXe+tDs8/+RW2s+SGyj8IxQpfu4jhvyC13jqqOOM/l3h3jlCh1b+ExUmyMRq6v0MkulxoO98/xlTb2o/C47+5ZEVkIQ3bP7T69hio7ni/qp85DHB02r+p41eajrHjP/Al9lr2oN+/sUE+saUUvT8F1GkDs+LUPwvgs0WtBuO/8qBGhNyc4T+vYpJM8s/Lv1NK4sXRZM2/LOpgpaXH4T9Ke4BcDt7iv0GNyxd6GNQ/iOxbEPkowD/J8Cp6Z/3fvxzgw8m2iuM/1CARcqam2b8k1311k9CTv/vXhsqDdNs/eAQL4A2e47/q0i0Zl2feP1gnq7v/eLa/FrDh2ugY1r8aS89B/xfjPyJHw45nG+G/UYFCEHuPyD9yDbbkMBXQP7k+3sAm/eG/rnCg8Kl74j96fp6qgYvSv+GbZcXpMcO/yShpS6hW4D9+dRXBRErjv4fkIOnmONg/yCztzp26pj+/dZv8yGPcv2yo3X1mgeM/XQTWRgok3b81iaiSB9WvP2zmM5MYQNc/kYb+wOMf478ySLpQj5PgP7JMJKcLT8W/R3+nKC5r0b/OQFliPCniP0RSnKfHEeK/iI9eHEj70D8jT+7DfibGP+hQfAR8peC/GPjFmnQB4z+xaHb2u8TWv4QR5q5pqbG/dYdLRe5B3T+KZdOzwVvjv6ALUt0a19s/ANNbpSnZor80Y1qWzVfYv2Ag8S1xHuM/9zfdHq8F4L+fDa37ZBDCP0K65WnMs9I/kEhZdelL4r9Il+DutaDhP92a96Zd0c6/+0UzIFkFyb/j6mxBHuvgP901x4GFsOK/BB65JQFL1T++pbHTX9W3P6CzjjmsDt6/mGhYhU0t4z/muuDvl4Hav/E46Sg/FIg/DOCEiZxf2T+CNjMEwxPjvyQ/71BK5N4/By8GFImqvb+Psj2gf+7Tv21qZxw2ZeI/4Tj1xcYo4b8HMjegLqnLPwvY8eonzcs/G3gIkIMn4b+0v/DOulfiP93MTOyTzNO/dQ4kHDLevb9tNE+CxcneP6u0FZ889uK/iOGpPFQk2T+eke/P7IKKP2X/OYIjV9q/mt+2v/n/4j928DiJpLLdv0AaNuzGPrc/L8zzRsQa1T+VTsqqL3Xiv53W3ZFPquA/8cIMasV/yL8OVgreqHzOv1Qw57alWuE/psrn41v34b+RfcQzU0rSP88d5oB84ME/YYob+QZz378bnoE6xrbiPw6lNLwlwNe/UYt4Q88Ro7/uEZk2Cj7bP+qI6Mk64+K/I2M4fDN33D9hT/RI6+Cwv0cULJ8fONa/t82tm+h74j/EX93uqCXgv17wA6LiVsU/I8u+gFSJ0D+f0Oy2g4ThvyjMGAS0j+E/RnTJ4x7F0L8e8tUYc73Ev1PI3d8jBeA/eyo+/yVv4r/Un3kv5VXWP55VZWDqR68/5sfMKAIU3L81xFxksL3iP4kcwjzCMtu/sspsWKMopT8qwdztH0bXP4cexYZ4eeK/5Jx9AV023z+CyLNRRDDCv16DOKQCx9G/6dQzyiGl4T+Fgt8rEiHhv9QnqNeue84/xpSI/6KExz8TM1CptEfgv22yWOKbH+I/L0jrrG3m1L962OfqeZ61v6NCgc3G2Nw/D6AlkYmP4r8DiqHuH+bZPwRXkT4ecZG/YssRtVxE2L9TS2sS/G3iP/Tnd4N9Ft6/xCVUCUobvj+LHwOT1fbSP8AoYGCJvOG/7cPu5cir4D92PNeZumrLv/TNK2TANMq/8zUVyyuB4D+1vH0DbMjhv8iSkCycctM/zJ3Ws391uz8h2lmtHYzdv/x43/j5WOI/L76aWB+S2L/3GpFCVT98v+jWjuh2Mtk/+ANP45RZ4r/WLj+gdezcP+TVaMF14be/YjfAjEwY1L/gxmcYycrhP+4fFx8uMOC/I0BgRyFZyD/5nmomjszMP6aPZW+EseC/GOE6iN5p4T8UZY4TT/vRvzf9MRkUk8C/aM5YgdYt3j/R7YbOORriv+/2AnWWN9c//bkL3+Iknz+CJJsdGRDav0jhtYlpPOI//BGDdQy527/1ytSBbbaxP7wg5JjvKtU/CFzRt/TP4b85uQrxNV3fP8vS4GWhSMW/EFm9ed5Kz79OtPr5vtjgP404YXU/BOG/AJhXv2WB0D+NWbkn11bDP4nSLkrLvd6/aCYqsYXT4T+ZYBABXtfVv+FUx9XSYKu/cB/vtffc2j/2PGVspRbiv7l37pgNfdo/szrsUA07p79so+jDTy7Wv+B2dB8lzOE/BRsrMddO3r8gPSHe9jrCPym5QMBJ19A/tQr8BuH24L9t5qSG3pfgP439kSGAC86/Mj3i0bMExr8xAXRi4DvfP7VUjIseheG/wng8C1Fy1D8yUqbvgnazP/opsAXRmNu/NYRAsXjo4T8w60etSDnZvxc6B/0haJY/HXbgVwci1z8LPMU9eL/hvypPsvT9Nd0/naXcKbRjvr/ANXDvT/vRvxSpXWf1C+E/7dGSBA8l4L+fc+zuexLLP/xDDexim8g/6zC1iwSo378LFM9xSS/hP1b984BMCdO/o8kKCpcYub/w1Gp0bUPcPwdVriMYsuG/7I729ZDu1z83H/WgXTVUP/xNTxC6Bdi/TL63/hCq4T8ys9Z3bRPcv2VmkA3+Xbg/Qq19ogMR0z/NWLoaDBjhv16s8TFPWN8/Xq3e+n0ZyL+HJuz6qxnLvwuwN3sYAeA/lrU7fU/S4L+9b9y7Lp3RP8rR30LPk74/HDEImZ/c3L+kYtgYvXPhP9sORum8nda/1/rolbR/mL+++y5JFdnYP/mkSTkXjOG/kG171+3n2j+pEC3NKGiyv199F3jvF9S/i4iwRjob4T+ZQ71DBFvev6vcc6dDIsU/j64P1GV+zT8RNnWiNCXgv7agRaZ9buA/y3L3Dtcu0L8uu7Uut/LBv4IpoVBEZN0/vMPaUaUt4b/iOajBpUfVPyjAfxFXoKc/ujkLKdCb2b/zbMCat2XhPwJK5alLtNm/G1KyAAsLqT8NF5URpw/VPysPzCuaFeG/2sxWBvdS3T+plsq/hy7Cv5oKGTZ3yM+/5zGBxF1A4D/moOGcJATgvzN14KdKfs0/y/8732iFxD+cc0bQQtrdv7U7+tsS4OA/6IY/Dift078gE/M8kl6xvy/mKsarTdo/0YiwjyM34b/J/+SVV3nYPzmGavhc5Zq/0rRMSsf31b978QkYSwfhP4gRQ+7mQNy/nD9oKwOAvj8GwCmsa/vQPxi2dB6gUuC/RYagPjEn3z8Feqfx8p3Kv/r1TmK5AMe/kP2lsYw+3j83pvruS4vgv0oo/0Iej9I/phPSBjnItj8Ms6BGc+7avzd43yqRAOE/WgK66OU3179ZPQBAF21wP1tRFWr2z9Y/ZxABV3Hw4L8mlZG7mCXbP3uOP0XIsLi/+OWvOEcE0r9mVHgbDVzgP7u68J5iOt6/NVM/HWa+xz8R5DoIdGPJP9aul/odkd6/J++wyZov4D/dL7JIai7Rv5wd/ktPCry/MetU+/t92z+exxcKO8Lgv6dB/SrO8NU/9zXD36Y7kj9/6+NS5JfXv68lxB820eA/C87nFtYB2r90jqhYuvKyP7DMUBpb/tI/ckQ3TLtc4L+MevQNk0LdP2RPpbFh4cS/IOAKXnOsy796zJQf/dHeP6tI3Rmbmt+/0NVjGtaXzz9228i+DpHAP/eO53Ul/Nu/HkUHOWB84D+jpee06qTUvzkBL/OVCaS/wZlTqUpP2D/UB4yAx6ngv0+9Cy1t1tg/E6RpuFGSqr8wTw8jPenTv5ZA6FvGVOA/zosuVH5A3L/Q6d68oAjCP5h5gcCh2s0/epAhATsB378nhMopbMneP7AAeygC0cy/O8WEOYMGw7+fDm2Z2WjcPyVQQhJEL+C/sAtBQhhV0z8AInbHrq+uP+hoIvjs9di/Mj9ASFh64D/piUJJMKTXvym2CjhW3Z4/O05MUozE1D9g0/8CT0Tgv3CeNvPlNNs/W9z88rVrvr8b1OPl+ezPv85oOeTyHt8/zzlSolPs3b/1llMSGgrKP/xtWFpEZMU/aP//pQzE3L/LHRQ9XLbfP6LDa4Y1AtK/Rq4p3ymFtL+3KHbOmIvZP7TX9O0fQ+C/w7LdbvVr1j/JUufclgOCv6ZCswTxj9W/qkGX93or4D8JUt7HkCDav3b4w/CH1bg/ZOoVr0Px0D/4J8JlSivfvzJP5jYDBN0/JTzJo95Ex79RI0DaH6nHv6u4JT+9Dd0/twjp5NMA378TVc3AIq3QP4O/PJL0ibk/aWzg2CUQ2r+jSnd2WgTgP/JQTfKVLtW/BQZ1R+3CiL/BfQQfHUvWP25BnNt0CuC/4ZcDq0oE2T8eX+WeFFKzv7KIpoQz3dG/EG8paXEm3z+4AZ8aMxHcv5gGTUcPg8Q/XhkvevLTyT8b+gxt9EXdvzpTOxWOPt4/mCAppIKtzr83EKw3gmO+vwwvD/V1g9o/6OMOsJB8379bvzMS7uzTP2gD4IsZoKA/ls9/M8z11r9G+LtR2MLfP/JdcxHk4Ne/H+FlOFvJqz//MnbB47nSP2U7OAKiEN+/YFHHqaEU2z9aBIMzacbBv6lDT4yo48u/53KdmMVs3T/gLQhNMXDdv+RNhaXm/8s/z2SnsZuHwT+znRlAdeXavxNUt7hc4t4/3w3MkNyn0r+f1cgNPseqv/wm1qHDj9c/COYdNiph37/vvz6rMbfWP5FmAuIuIaG/7bCwwfSG0786lT1aIOreP+U8+xETD9q/A0YOPE0hvj+QR+FyPtfNP205coJOgt2//ld/RGuW3D8EheJWNlPJv4lQqtlJxcO/Ue9gHxo22z+dmisCqzrev6MTMU5CYNE/Syu8Fy5Qsj+q8Xux0hjYvynbrC9R8N4/4+4JAwyI1b8N+eejQMiKP0nTqxoQRNQ/kD2wkDqz3r+Ga0T5UAHZP6F6f+j7xri/yFPoE8Gtz785Prs0t4bdP/wLgZ7wsdu//zmxXjapxj/0Ok12menFP1Dw50Nlddu/hf6brRWG3T8jy//jARfQv/9JwwzqEre/JCA1ptKQ2D/KFB4qyHDevwhTuh1PVNQ/zhMuy6ftez+gndS/6PDUv2XebJdIbN4/2x+lJCrs17+ochY3QoGzPweKnyAns9A/imEY8DF63b/Lg5aYfMPaP/llTnOqA8S/AZj//2bzx7/UPCmoYaPbP6eewr0+xdy/cjjOhf6ZzT8fly6VGqm7P/5Xuc6m99i/W2yp+hLj3T/ZwSMb2hzTvxAJ7Vnuz5q/xrRzITuN1T9JWLsKrBXevx/bpR5y0NY/k4235vKmrL8sNhKKCoDRv16gfBP7XN0/N6TbudDL2b8BGn+cVGTBP9fQu/ud4ck/5jROiCTA27/ltmnQz/jbPx23i6U+Bsu/4YwmCxAIwL8RwjKNPE3ZP73uDSa+R92/lPlJ2I7i0T9mFzw7sganP4tk/UTNGNa/VsxLBdCv3T8hqWLeAK/VvztSNBzegaI/4v7CHSs90j9xFyv/WC/dv2HgV4G0y9g/CDyk+uiZvb+giDFkObPLv6MovlTNy9s/7/NJ1nkh279S1xksj3TIP6J8P1a6IsI/rtR9WYuR2b853tSjXp/cP1jV55NRptC/qhhfrwQqsL/GA6HWbpPWP4hEYPAoO92/VzLOb7KI1D8rqwFhjTORv+EMDR4y6tK/BmPh8pvx3D9o6WgU9cPXv1ONZE+Nfrg/cyR9BERnzT8RHvOehcbbvxmjvsn0P9o/JfhOorvmxb+UauGHViPEvw+q37yUxNk/GFsyn5Hq27888wcsEdLOP2vapa0kpbQ/yrWkM/n81r+mqWFQNLjcPy8H4J1mXtO/YdXlC/WuYL8Em5zQ0YbTP34jRucdpNy/XT7V7WS11j/eKlX3B3qzv1XQEsPY/M6/FEt+AIGw2z8x/dhk/1TZv4+H122PXsM/+H8drLwIxj/Lu/dGZObZv+/E7zX8Kds/Q0fytjdXzL9wzokr9fG4v10GN21PVdc/xDQijngn3L9veoafADHSPxR/7Bn9y5Q/ZoOmjsUS1L8ONq5iQkfcP+plVY7boNW/X1VkUYQfrT8MQqdtkTnQP5y6I/z8idu/f+1/115h2D9KxwA21d3Av+Ubkc/S0ce/VhGcew/32T/pH9s1S17avxNO4ozp3ck/4limtsgNvT/Z5R1DXpzXv97zGb2Eids/itRUyGYB0b971vgwQnGjv+7LHMzRjdQ/F3FUSXbb27+uKm0vNYfUP9Pu/RM3hqO/87jnAa/k0L8aBeLYQFPbPxLGR37eZde/facprqzMvD9XiuM7jX3JP/K6Pbm19tm/KgxE2TKI2T+l7Tyq+2fHv/st53sEe8C/rTaqFRzS1z//9vFe8N7av01qI3wEoc8/vU8ad7cmrD/jbxwVxPfUvwRAFakvYds/GVaZeVJp07/2q4ZIpV2UP0vYvT9rf9E/WzLAdp0M27/2P+WaT2PWP3g0OM6087e/dGaone4Ky78b4V8XgOXZPwsNMINuqNi/micEwET3xD/XnaySG1TCP9LsKc6I9te/alK9JFso2j9qledofT7Nv0gDnWg/QLK/x7RwAHNQ1T/azcKA7djav5ZZAz8YSNI/QgikpLL+Yb8jBiuLdAnSv9ioGR1ttto/1Zk0D4la1b9brQGfTTSzP7VZdxAIecw/eAx/PKHD2b82E/V7wL/XPxOXEMOcjcK/12vnH/YQxL8a9uO8rQnYP9mMR65sZtm/tqJ0YRTdyj8AtxVTbjy2P+kJ5hW+l9W//oQfgzdD2j+wSCc8byTRv+9NmM0JgI6/hwWLeYGC0j/p4xNCE1Hav0raABxnTNQ/M3Mr//kjrb8Y7mUN+cbNvyvSsSpVkdk/UT4cr/HO1r8H3AGS3CzAP/E0EIhssMU/LJ5va50L2L+gufVH1JnYP93L462pfsi/WK/MxxwFur/y98mmjc3VP6gphdWdoNm/6xIywIf+zz/DReANkQqgPw08obBQ6tK/a3bGSvzc2T+yqvAkyznTv7e2C/qGIKQ/0azjNu/zzj9s9fwB4U7Zv5+uiWvR1tU/KP/bbbutu7+uZjzuYjHHv9Cd1mFz/Nc/Pzq4p0jD1784ZKaGISXGPzVAQACRl70//LmIltLx1b+1ZDDKuPHYP8TwGz0Ms82/sasxJHMZqL8vYl6zqEDTP2AEc0OdWtm/9H1Je5sj0j8Qnk/2cMqWv4ohIfwl/8+/1iEWt5L82D8nhxonNdjUvzs9D5b0Grc/p/EG48iSyD+h+pvcU9zXvwUnqqmH49Y/Aq4w5WPSw7/Bp5dNkXjAv+7+zBCGBNY/tqAalig32L+M5DycUmjLP+0nAwtyxq8/QkIYmVeF078+IO+Oc8rYPyuGkTHDCtG/TA8hS9THdz8UDRAG83PQPwry47zAmti/XgYoR/jT0z+sLdkHGqWyvxPTF9+Y08m/D6sRcWur1z98BwcNVvvVv9PI0HlciME/mpzH05wHwj+ouLApqQXWvwAAJwKVcdc/mx38K0ggyb+8v8ketoWzvyfE/KoyuNM/MjIOjAQt2L+qCln1Y+DPP56ludw+dYQ/AwxKR8LW0L+Dq3yeySnYPxLkpu/7ytK/DpyJ0sWfrD+nnlJ+1/LKP2JVq5zuade/F/I4Mn8L1T8O/bWf9ZG+v5On0pSmd8O/oUihY0T11T+hwkQXraHWv6f2Rd7g3MY//uVtTinxtj9S/EjiFdnTv7aBZy/dgtc/AnkaL7ipzb8hW1cok62Zv/ql0wqxJ9E/LByhhhOq1784WhPbJr7RP8vyjToSPqS/6mzubJLvy78/Gd86GRjXP9mY29rUFNS/hRSoV2Usuj8oHh19cMfEPz0rDhVn09W/NrblxCbI1T8mKPN7F6DEv6xyHC2SIrq/Wkj5P+Pn0z+Myy2PkczWv6vDLK90c8s/ss/QCZkspD/w686bdGbRvxDbn7ALHNc/Q3LAPWWu0L/JM8KcK1mYP0UlVfPeyMw/RtGg2y221r9z16jsLhjTP1GR/mX547W/unJIa8H1xb87ChCmJqDVP9cIy4C+5dS/8NOGFu5rwj/iCgSb9Ba9P6y3WPSB5NO/BTTnXbwK1j+eiq5hlD/Jv/O7BlXhF6u/8/3TXMaS0T+09gm9JYDWv97F5W9ROc8/ThQu1WrLgb+Ihh8H2H3Nv/S3X/J0RNY/VmNzOGsW0r/8b1LgrryxPw7cdTRjAcc/05Vlm51b1b/+8Z7eNvvTP+6hl8luQsC/QDQIzlTLv7/pR0dJ3c7TP24ugk/+PdW//h/c7RsQxz9tw6mx3ciwP/PAfZZirNG/3O964trW1T/lBBq20BPNvzpCEN4CPHe/6fZlvpsNzj/o3V/SO8PVv0KFW0ZtENE/qP3HQiN1q7+eufz+H+nHv9dkJ2DqBdU/cGX5HFgJ07/d94DGWUu8Pz+/w/9YHsE/5xQ6PeOm078vNVdi/WbUP/IuH3Ma58S/y+iAv5XJs799CQLqBrPRP+wwj++oINW/seO/jkHuyj9PeKMUfbWTP3Vnk/VHd86/Lz3TaNMy1T918qIoHgfQv7m1HfmAw6M/uTRVv76ryD+LQ8i5LZ/Uv/k/NqTvENI/aTXFJY0vuL8Cxp6l/zPCvzCUzbWCbNM/sq7JAmSG078gbZ2tqsbCP0GWgKuJirY/12UtSnCm0b+jkH8OEV7UPw2D+9Ooysi/+DiyufdeoL//Spbk9bnOP3dCip6Ok9S/RGUUrdj2zT+HXqE+zNmYv7D/8I3+R8m/mnhlyYgn1D+ixHZxzxLRv2UIxJPONbQ/IOBREg0lwz/8+SomqR/Tv5LE3vvfnNI/WMi4o/SwwL8peB6UDwi5v+S9p1BYhtE/qZfUM5aP07+fhN7IF6vGP6y+GLUGbKY/hocARLTUzr8DmCNBwOXTP2AOQyGX3Mu/RHh5Dg7ohT8iR1BtkLzJP3z3bnAan9O/s28gZc0P0D95/TMXlmKwv0M0g8Le78O/1+V0dT/A0j8COnEgIavRv1tz9hVgUL0/U5aPIVY+uz8BilOycVLRv2Zy1Ra7tdI/HhOaV62RxL/spKDmcPmrvwTHx3Z/xs4/GLpdRLgp079x1WufacHJP+fWEnPowWA/vCRA5w4Iyr/bJrDa+wXTP3V9Ms6EEc6/iEpJEwx1qT/o47tGuJLEP6d5i9glTtK/vGHzjdex0D8sT8hOT125v3y6RypTKb2/y03ud2MK0T9TS0GB/9DRv4uBX+SXgMI/e6ckhyJ/sD8KMk/pNo7OvyXE/BPAX9I/KnCMfUynx79oOomTB3CMv3zUsJzyKMo/LWzqzztc0r+Kem+VEv3LP7E527PvhKK/VyqSWrcLxb8TdMAqLsnRP1VO2rBiY8+/DcNADnyNtT8HGEbEq8S+P81Pk3DCrdC/JhMuqNzh0D+l9czqF3rAv2A0mI92uLK/w36HaI4qzj/IW1mHFYjRvxLwS31GkMU/tJBqBBFXmT9gfZxogh3Kv25jPDvYodE/cPd6nPrjyb+yoWq0N/6XP2QpnknDWMU/iIzpDxQx0b9+cp2krlbNP+6Qg13o5bG/Mso6XckFwL/avzcFCDzQP4QyxCKA0c+/PBmeagcBvT+Fub+hdqO0PxxXTn35mc2/pMRxxeOi0D/csVXcaH7Dv4T4sKK4r6G/uOA76bzjyT//+5/+tNbQv9TYx/Hvx8c/W2LAQ2i6h7+dI8FKdXfFv/+FLbtxhdA/Y7yA4NA+y79lpCFzzNesP7VOsERMfMA/0i0LGwppz787Em1vCMzNP5u8mEyZLLm/cORPLkM6tr/AOsGcjdrMP8vMO+lxYM+/W1OjUs9zwT/uvAeWZhymP755Fd03ecm/i5QqHB31zz93LWjam6rFv3P2TB+Y4Ec/nk/o8fVkxT9aiSjiXovPv9ifoNvlHMk/BoOUZ2ZKpr+c27xkssLAv5AfYKucLM4/uIfBHMuzy78ksnqdDXy1PzkDueQVdrc/CtigxNXpy78kyB577V/NP+LfXH8/5b6/7SrugrTjqb8UVZo179rIP5kI+GHLGc6/lWbb3ZONwz/vQif9WoKCP0wwxAbJHcW/rdki2tThzT9KRhtV0/HGvzN1LTZDMKA/SFgxdCXVwD9psrl/PcDMvytUINbiiMk/6/omCOj0sb8H+p/31064v/Xu4d+NxMo/szwmJHRDy79C/oTtEfq6P6rHnRxN9aw/tAlo2vgEyL9BhyI6vxnMP8asSVpJcsG/N1u2Fu0Dkr9Ivx6Qe53EP+gTlAGaC8y/gzm/tCW+xD8w4MDjXy+Vv+8oxBfQrsC/jwBaxk4gyz89TepN1ErHv0qrhgRSOq0/nUwZNHm6uD89wli9M2bJv8GfPMhmCck/6KH9vH4qt78Dhw4bJj2vv45NkQQI8sY/QZouNiLyyb+UsUqk2bO+P8xVS0dSY5k/Cmx1aRzew79ltNWZlwTKP7bvlWXUgcK/2HmG97xFhj86vP3tT0nAP/KN1uJ8R8m/zupH2y34xD/qYdUqA/emvzk26dDSq7i/fdlZn0jIxz/hI6Jywq7Gv4L0+4ToerM/nhPyU7FQsD8flAidlJrFv0XQUV9Cnsc/1JUMgXCKur+hiXBcUi+fv1/oO5ZN18I/JdkVYFzGx78B4uiZ0zvAPxuI3fCaIWO/sqGbW283v7+cezB+ly3HP0zKgBfUjcK/S0a7mFAvoT+mlv22oRC4P+CovBbx4MW/4qtmdBouxD9Y4+DX/t6vv47E//A2f7C/mdG2UEPzwz97meEkLBbFv1Bua48DaLY/NqKcOW+ToT8844P8eXzBvzW51+FIRsU/WJcAOmrSu79qztewe1pzvzvEgfk6Mb0/WgeODUTFxL/dN9jSkQXAP+VRKAa865e/o+TVbXnNtr+1UpIdJKDDP41NCu9zfcG/HkZeppUXqT+Pihg0gA+wP0zKXjqM6cG/1z++W6lLwj8Lw9uhg0iyv3jtjgrCdKK/UQzNUuxxvz95+tOKhXHCv9J7xXZPBrc/MU9QE9J/hD+C1jmciFO6v4MvcSa79sE/zdaIJmulur/QEDsnR4uNP2F3UihqtLQ/0GOYb/7owL/GXl41HBK9P3//oHaMoqK/bWlBqwmprb9OHFdn6ra+PzrcuPFERb6/JLQeUrc9rD+PixHK5OmhP9Q8YkT3y7q/aT/RJIhEvj/TleyCzPKxvydh/7lcrYq/e5eZ3o9Itj92XkeF/iG9v76BsvlisLQ/bVUu5WXJfL+DCfMI9Gmxv/J38miF+7o/gtUsV1tGtr/hJEKFq+iYP/hkyX6m4qg/Tf8/Y7T5t78xYi0mIq+2P1lIEH2Qg6O/K57wIniInr/S0DVwj060P7cWz4xd8LW/Chyvy+BxqD+UT4s2kAeKP5P00g0XNLC/3IkFJWMZtD/2SnLkSfWqv6Evz/34/lo/FF8ny9bVpz9Hpdk9eT+xv2WYs+rbw6o/r2BrBxbDiL+XB+InV+Wev1KoarPT5qo/ok85ztVsp7/zuVlWu3qRP2QqxbLuVY8/SchDDW8pob9ZlC1RbxqfP09jpeF0Hoq/W3WhuoJUZr8=",
          "dtype": "f8"
         },
         "z": {
          "bdata": "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",
          "dtype": "f8"
         }
        }
       ],
       "layout": {
        "legend": {
         "title": {
          "text": "label"
         },
         "tracegroupgap": 0
        },
        "margin": {
         "t": 60
        },
        "scene": {
         "domain": {
          "x": [
           0,
           1
          ],
          "y": [
           0,
           1
          ]
         },
         "xaxis": {
          "title": {
           "text": "x"
          }
         },
         "yaxis": {
          "title": {
           "text": "y"
          }
         },
         "zaxis": {
          "title": {
           "text": "z"
          }
         }
        },
        "template": {
         "data": {
          "bar": [
           {
            "error_x": {
             "color": "#2a3f5f"
            },
            "error_y": {
             "color": "#2a3f5f"
            },
            "marker": {
             "line": {
              "color": "#E5ECF6",
              "width": 0.5
             },
             "pattern": {
              "fillmode": "overlay",
              "size": 10,
              "solidity": 0.2
             }
            },
            "type": "bar"
           }
          ],
          "barpolar": [
           {
            "marker": {
             "line": {
              "color": "#E5ECF6",
              "width": 0.5
             },
             "pattern": {
              "fillmode": "overlay",
              "size": 10,
              "solidity": 0.2
             }
            },
            "type": "barpolar"
           }
          ],
          "carpet": [
           {
            "aaxis": {
             "endlinecolor": "#2a3f5f",
             "gridcolor": "white",
             "linecolor": "white",
             "minorgridcolor": "white",
             "startlinecolor": "#2a3f5f"
            },
            "baxis": {
             "endlinecolor": "#2a3f5f",
             "gridcolor": "white",
             "linecolor": "white",
             "minorgridcolor": "white",
             "startlinecolor": "#2a3f5f"
            },
            "type": "carpet"
           }
          ],
          "choropleth": [
           {
            "colorbar": {
             "outlinewidth": 0,
             "ticks": ""
            },
            "type": "choropleth"
           }
          ],
          "contour": [
           {
            "colorbar": {
             "outlinewidth": 0,
             "ticks": ""
            },
            "colorscale": [
             [
              0,
              "#0d0887"
             ],
             [
              0.1111111111111111,
              "#46039f"
             ],
             [
              0.2222222222222222,
              "#7201a8"
             ],
             [
              0.3333333333333333,
              "#9c179e"
             ],
             [
              0.4444444444444444,
              "#bd3786"
             ],
             [
              0.5555555555555556,
              "#d8576b"
             ],
             [
              0.6666666666666666,
              "#ed7953"
             ],
             [
              0.7777777777777778,
              "#fb9f3a"
             ],
             [
              0.8888888888888888,
              "#fdca26"
             ],
             [
              1,
              "#f0f921"
             ]
            ],
            "type": "contour"
           }
          ],
          "contourcarpet": [
           {
            "colorbar": {
             "outlinewidth": 0,
             "ticks": ""
            },
            "type": "contourcarpet"
           }
          ],
          "heatmap": [
           {
            "colorbar": {
             "outlinewidth": 0,
             "ticks": ""
            },
            "colorscale": [
             [
              0,
              "#0d0887"
             ],
             [
              0.1111111111111111,
              "#46039f"
             ],
             [
              0.2222222222222222,
              "#7201a8"
             ],
             [
              0.3333333333333333,
              "#9c179e"
             ],
             [
              0.4444444444444444,
              "#bd3786"
             ],
             [
              0.5555555555555556,
              "#d8576b"
             ],
             [
              0.6666666666666666,
              "#ed7953"
             ],
             [
              0.7777777777777778,
              "#fb9f3a"
             ],
             [
              0.8888888888888888,
              "#fdca26"
             ],
             [
              1,
              "#f0f921"
             ]
            ],
            "type": "heatmap"
           }
          ],
          "histogram": [
           {
            "marker": {
             "pattern": {
              "fillmode": "overlay",
              "size": 10,
              "solidity": 0.2
             }
            },
            "type": "histogram"
           }
          ],
          "histogram2d": [
           {
            "colorbar": {
             "outlinewidth": 0,
             "ticks": ""
            },
            "colorscale": [
             [
              0,
              "#0d0887"
             ],
             [
              0.1111111111111111,
              "#46039f"
             ],
             [
              0.2222222222222222,
              "#7201a8"
             ],
             [
              0.3333333333333333,
              "#9c179e"
             ],
             [
              0.4444444444444444,
              "#bd3786"
             ],
             [
              0.5555555555555556,
              "#d8576b"
             ],
             [
              0.6666666666666666,
              "#ed7953"
             ],
             [
              0.7777777777777778,
              "#fb9f3a"
             ],
             [
              0.8888888888888888,
              "#fdca26"
             ],
             [
              1,
              "#f0f921"
             ]
            ],
            "type": "histogram2d"
           }
          ],
          "histogram2dcontour": [
           {
            "colorbar": {
             "outlinewidth": 0,
             "ticks": ""
            },
            "colorscale": [
             [
              0,
              "#0d0887"
             ],
             [
              0.1111111111111111,
              "#46039f"
             ],
             [
              0.2222222222222222,
              "#7201a8"
             ],
             [
              0.3333333333333333,
              "#9c179e"
             ],
             [
              0.4444444444444444,
              "#bd3786"
             ],
             [
              0.5555555555555556,
              "#d8576b"
             ],
             [
              0.6666666666666666,
              "#ed7953"
             ],
             [
              0.7777777777777778,
              "#fb9f3a"
             ],
             [
              0.8888888888888888,
              "#fdca26"
             ],
             [
              1,
              "#f0f921"
             ]
            ],
            "type": "histogram2dcontour"
           }
          ],
          "mesh3d": [
           {
            "colorbar": {
             "outlinewidth": 0,
             "ticks": ""
            },
            "type": "mesh3d"
           }
          ],
          "parcoords": [
           {
            "line": {
             "colorbar": {
              "outlinewidth": 0,
              "ticks": ""
             }
            },
            "type": "parcoords"
           }
          ],
          "pie": [
           {
            "automargin": true,
            "type": "pie"
           }
          ],
          "scatter": [
           {
            "fillpattern": {
             "fillmode": "overlay",
             "size": 10,
             "solidity": 0.2
            },
            "type": "scatter"
           }
          ],
          "scatter3d": [
           {
            "line": {
             "colorbar": {
              "outlinewidth": 0,
              "ticks": ""
             }
            },
            "marker": {
             "colorbar": {
              "outlinewidth": 0,
              "ticks": ""
             }
            },
            "type": "scatter3d"
           }
          ],
          "scattercarpet": [
           {
            "marker": {
             "colorbar": {
              "outlinewidth": 0,
              "ticks": ""
             }
            },
            "type": "scattercarpet"
           }
          ],
          "scattergeo": [
           {
            "marker": {
             "colorbar": {
              "outlinewidth": 0,
              "ticks": ""
             }
            },
            "type": "scattergeo"
           }
          ],
          "scattergl": [
           {
            "marker": {
             "colorbar": {
              "outlinewidth": 0,
              "ticks": ""
             }
            },
            "type": "scattergl"
           }
          ],
          "scattermap": [
           {
            "marker": {
             "colorbar": {
              "outlinewidth": 0,
              "ticks": ""
             }
            },
            "type": "scattermap"
           }
          ],
          "scattermapbox": [
           {
            "marker": {
             "colorbar": {
              "outlinewidth": 0,
              "ticks": ""
             }
            },
            "type": "scattermapbox"
           }
          ],
          "scatterpolar": [
           {
            "marker": {
             "colorbar": {
              "outlinewidth": 0,
              "ticks": ""
             }
            },
            "type": "scatterpolar"
           }
          ],
          "scatterpolargl": [
           {
            "marker": {
             "colorbar": {
              "outlinewidth": 0,
              "ticks": ""
             }
            },
            "type": "scatterpolargl"
           }
          ],
          "scatterternary": [
           {
            "marker": {
             "colorbar": {
              "outlinewidth": 0,
              "ticks": ""
             }
            },
            "type": "scatterternary"
           }
          ],
          "surface": [
           {
            "colorbar": {
             "outlinewidth": 0,
             "ticks": ""
            },
            "colorscale": [
             [
              0,
              "#0d0887"
             ],
             [
              0.1111111111111111,
              "#46039f"
             ],
             [
              0.2222222222222222,
              "#7201a8"
             ],
             [
              0.3333333333333333,
              "#9c179e"
             ],
             [
              0.4444444444444444,
              "#bd3786"
             ],
             [
              0.5555555555555556,
              "#d8576b"
             ],
             [
              0.6666666666666666,
              "#ed7953"
             ],
             [
              0.7777777777777778,
              "#fb9f3a"
             ],
             [
              0.8888888888888888,
              "#fdca26"
             ],
             [
              1,
              "#f0f921"
             ]
            ],
            "type": "surface"
           }
          ],
          "table": [
           {
            "cells": {
             "fill": {
              "color": "#EBF0F8"
             },
             "line": {
              "color": "white"
             }
            },
            "header": {
             "fill": {
              "color": "#C8D4E3"
             },
             "line": {
              "color": "white"
             }
            },
            "type": "table"
           }
          ]
         },
         "layout": {
          "annotationdefaults": {
           "arrowcolor": "#2a3f5f",
           "arrowhead": 0,
           "arrowwidth": 1
          },
          "autotypenumbers": "strict",
          "coloraxis": {
           "colorbar": {
            "outlinewidth": 0,
            "ticks": ""
           }
          },
          "colorscale": {
           "diverging": [
            [
             0,
             "#8e0152"
            ],
            [
             0.1,
             "#c51b7d"
            ],
            [
             0.2,
             "#de77ae"
            ],
            [
             0.3,
             "#f1b6da"
            ],
            [
             0.4,
             "#fde0ef"
            ],
            [
             0.5,
             "#f7f7f7"
            ],
            [
             0.6,
             "#e6f5d0"
            ],
            [
             0.7,
             "#b8e186"
            ],
            [
             0.8,
             "#7fbc41"
            ],
            [
             0.9,
             "#4d9221"
            ],
            [
             1,
             "#276419"
            ]
           ],
           "sequential": [
            [
             0,
             "#0d0887"
            ],
            [
             0.1111111111111111,
             "#46039f"
            ],
            [
             0.2222222222222222,
             "#7201a8"
            ],
            [
             0.3333333333333333,
             "#9c179e"
            ],
            [
             0.4444444444444444,
             "#bd3786"
            ],
            [
             0.5555555555555556,
             "#d8576b"
            ],
            [
             0.6666666666666666,
             "#ed7953"
            ],
            [
             0.7777777777777778,
             "#fb9f3a"
            ],
            [
             0.8888888888888888,
             "#fdca26"
            ],
            [
             1,
             "#f0f921"
            ]
           ],
           "sequentialminus": [
            [
             0,
             "#0d0887"
            ],
            [
             0.1111111111111111,
             "#46039f"
            ],
            [
             0.2222222222222222,
             "#7201a8"
            ],
            [
             0.3333333333333333,
             "#9c179e"
            ],
            [
             0.4444444444444444,
             "#bd3786"
            ],
            [
             0.5555555555555556,
             "#d8576b"
            ],
            [
             0.6666666666666666,
             "#ed7953"
            ],
            [
             0.7777777777777778,
             "#fb9f3a"
            ],
            [
             0.8888888888888888,
             "#fdca26"
            ],
            [
             1,
             "#f0f921"
            ]
           ]
          },
          "colorway": [
           "#636efa",
           "#EF553B",
           "#00cc96",
           "#ab63fa",
           "#FFA15A",
           "#19d3f3",
           "#FF6692",
           "#B6E880",
           "#FF97FF",
           "#FECB52"
          ],
          "font": {
           "color": "#2a3f5f"
          },
          "geo": {
           "bgcolor": "white",
           "lakecolor": "white",
           "landcolor": "#E5ECF6",
           "showlakes": true,
           "showland": true,
           "subunitcolor": "white"
          },
          "hoverlabel": {
           "align": "left"
          },
          "hovermode": "closest",
          "mapbox": {
           "style": "light"
          },
          "paper_bgcolor": "white",
          "plot_bgcolor": "#E5ECF6",
          "polar": {
           "angularaxis": {
            "gridcolor": "white",
            "linecolor": "white",
            "ticks": ""
           },
           "bgcolor": "#E5ECF6",
           "radialaxis": {
            "gridcolor": "white",
            "linecolor": "white",
            "ticks": ""
           }
          },
          "scene": {
           "xaxis": {
            "backgroundcolor": "#E5ECF6",
            "gridcolor": "white",
            "gridwidth": 2,
            "linecolor": "white",
            "showbackground": true,
            "ticks": "",
            "zerolinecolor": "white"
           },
           "yaxis": {
            "backgroundcolor": "#E5ECF6",
            "gridcolor": "white",
            "gridwidth": 2,
            "linecolor": "white",
            "showbackground": true,
            "ticks": "",
            "zerolinecolor": "white"
           },
           "zaxis": {
            "backgroundcolor": "#E5ECF6",
            "gridcolor": "white",
            "gridwidth": 2,
            "linecolor": "white",
            "showbackground": true,
            "ticks": "",
            "zerolinecolor": "white"
           }
          },
          "shapedefaults": {
           "line": {
            "color": "#2a3f5f"
           }
          },
          "ternary": {
           "aaxis": {
            "gridcolor": "white",
            "linecolor": "white",
            "ticks": ""
           },
           "baxis": {
            "gridcolor": "white",
            "linecolor": "white",
            "ticks": ""
           },
           "bgcolor": "#E5ECF6",
           "caxis": {
            "gridcolor": "white",
            "linecolor": "white",
            "ticks": ""
           }
          },
          "title": {
           "x": 0.05
          },
          "xaxis": {
           "automargin": true,
           "gridcolor": "white",
           "linecolor": "white",
           "ticks": "",
           "title": {
            "standoff": 15
           },
           "zerolinecolor": "white",
           "zerolinewidth": 2
          },
          "yaxis": {
           "automargin": true,
           "gridcolor": "white",
           "linecolor": "white",
           "ticks": "",
           "title": {
            "standoff": 15
           },
           "zerolinecolor": "white",
           "zerolinewidth": 2
          }
         }
        }
       }
      }
     },
     "metadata": {},
     "output_type": "display_data"
    },
    {
     "name": "stdout",
     "output_type": "stream",
     "text": [
      "RadViz3D done! Time elapsed: 5.402679681777954 seconds\n"
     ]
    }
   ],
   "source": [
    "BPs=10000\n",
    "time_start = time.time()\n",
    "RadViz3D(y,X,BPs)\n",
    "print( 'RadViz3D done! Time elapsed: {} seconds'.format(time.time()-time_start))"
   ]
  },
  {
   "cell_type": "code",
   "execution_count": 5,
   "metadata": {},
   "outputs": [
    {
     "data": {
      "application/vnd.plotly.v1+json": {
       "config": {
        "plotlyServerURL": "https://plot.ly",
        "toImageButtonOptions": {
         "filename": "custom_image",
         "format": "svg",
         "height": 1000,
         "scale": 1,
         "width": 1000
        }
       },
       "data": [
        {
         "hovertemplate": "label=Anchors' Names<br>0=%{x}<br>1=%{y}<br>AnchorsLabel=%{text}<extra></extra>",
         "legendgroup": "Anchors' Names",
         "marker": {
          "color": "#EF553B",
          "symbol": "circle"
         },
         "mode": "markers+text",
         "name": "Anchors' Names",
         "showlegend": true,
         "text": [
          "buying price",
          "maintenance cost",
          "number of doors",
          "number of persons",
          "lug_boot",
          "safety"
         ],
         "type": "scattergl",
         "x": {
          "bdata": "AAAAAAAA8D8AAAAAAADgPwAAAAAAAOC/AAAAAAAA8L8AAAAAAADgvwAAAAAAAOA/",
          "dtype": "f8"
         },
         "xaxis": "x",
         "y": {
          "bdata": "AAAAAAAAAAC8lpAPerbrP7yWkA96tus/AAAAAAAAAAC8lpAPerbrv7yWkA96tuu/",
          "dtype": "f8"
         },
         "yaxis": "y"
        },
        {
         "hovertemplate": "label=unacc<br>0=%{x}<br>1=%{y}<br>AnchorsLabel=%{text}<extra></extra>",
         "legendgroup": "unacc",
         "marker": {
          "color": "#00CC96",
          "symbol": "circle"
         },
         "mode": "markers+text",
         "name": "unacc",
         "showlegend": true,
         "text": [
          "",
          "",
          "",
          "",
          "",
          "",
          "",
          "",
          "",
          "",
          "",
          "",
          "",
          "",
          "",
          "",
          "",
          "",
          "",
          "",
          "",
          "",
          "",
          "",
          "",
          "",
          "",
          "",
          "",
          "",
          "",
          "",
          "",
          "",
          "",
          "",
          "",
          "",
          "",
          "",
          "",
          "",
          "",
          "",
          "",
          "",
          "",
          "",
          "",
          "",
          "",
          "",
          "",
          "",
          "",
          "",
          "",
          "",
          "",
          "",
          "",
          "",
          "",
          "",
          "",
          "",
          "",
          "",
          "",
          "",
          "",
          "",
          "",
          "",
          "",
          "",
          "",
          "",
          "",
          "",
          "",
          "",
          "",
          "",
          "",
          "",
          "",
          "",
          "",
          "",
          "",
          "",
          "",
          "",
          "",
          "",
          "",
          "",
          "",
          "",
          "",
          "",
          "",
          "",
          "",
          "",
          "",
          "",
          "",
          "",
          "",
          "",
          "",
          "",
          "",
          "",
          "",
          "",
          "",
          "",
          "",
          "",
          "",
          "",
          "",
          "",
          "",
          "",
          "",
          "",
          "",
          "",
          "",
          "",
          "",
          "",
          "",
          "",
          "",
          "",
          "",
          "",
          "",
          "",
          "",
          "",
          "",
          "",
          "",
          "",
          "",
          "",
          "",
          "",
          "",
          "",
          "",
          "",
          "",
          "",
          "",
          "",
          "",
          "",
          "",
          "",
          "",
          "",
          "",
          "",
          "",
          "",
          "",
          "",
          "",
          "",
          "",
          "",
          "",
          "",
          "",
          "",
          "",
          "",
          "",
          "",
          "",
          "",
          "",
          "",
          "",
          "",
          "",
          "",
          "",
          "",
          "",
          "",
          "",
          "",
          "",
          "",
          "",
          "",
          "",
          "",
          "",
          "",
          "",
          "",
          "",
          "",
          "",
          "",
          "",
          "",
          "",
          "",
          "",
          "",
          "",
          "",
          "",
          "",
          "",
          "",
          "",
          "",
          "",
          "",
          "",
          "",
          "",
          "",
          "",
          "",
          "",
          "",
          "",
          "",
          "",
          "",
          "",
          "",
          "",
          "",
          "",
          "",
          "",
          "",
          "",
          "",
          "",
          "",
          "",
          "",
          "",
          "",
          "",
          "",
          "",
          "",
          "",
          "",
          "",
          "",
          "",
          "",
          "",
          "",
          "",
          "",
          "",
          "",
          "",
          "",
          "",
          "",
          "",
          "",
          "",
          "",
          "",
          "",
          "",
          "",
          "",
          "",
          "",
          "",
          "",
          "",
          "",
          "",
          "",
          "",
          "",
          "",
          "",
          "",
          "",
          "",
          "",
          "",
          "",
          "",
          "",
          "",
          "",
          "",
          "",
          "",
          "",
          "",
          "",
          "",
          "",
          "",
          "",
          "",
          "",
          "",
          "",
          "",
          "",
          "",
          "",
          "",
          "",
          "",
          "",
          "",
          "",
          "",
          "",
          "",
          "",
          "",
          "",
          "",
          "",
          "",
          "",
          "",
          "",
          "",
          "",
          "",
          "",
          "",
          "",
          "",
          "",
          "",
          "",
          "",
          "",
          "",
          "",
          "",
          "",
          "",
          "",
          "",
          "",
          "",
          "",
          "",
          "",
          "",
          "",
          "",
          "",
          "",
          "",
          "",
          "",
          "",
          "",
          "",
          "",
          "",
          "",
          "",
          "",
          "",
          "",
          "",
          "",
          "",
          "",
          "",
          "",
          "",
          "",
          "",
          "",
          "",
          "",
          "",
          "",
          "",
          "",
          "",
          "",
          "",
          "",
          "",
          "",
          "",
          "",
          "",
          "",
          "",
          "",
          "",
          "",
          "",
          "",
          "",
          "",
          "",
          "",
          "",
          "",
          "",
          "",
          "",
          "",
          "",
          "",
          "",
          "",
          "",
          "",
          "",
          "",
          "",
          "",
          "",
          "",
          "",
          "",
          "",
          "",
          "",
          "",
          "",
          "",
          "",
          "",
          "",
          "",
          "",
          "",
          "",
          "",
          "",
          "",
          "",
          "",
          "",
          "",
          "",
          "",
          "",
          "",
          "",
          "",
          "",
          "",
          "",
          "",
          "",
          "",
          "",
          "",
          "",
          "",
          "",
          "",
          "",
          "",
          "",
          "",
          "",
          "",
          "",
          "",
          "",
          "",
          "",
          "",
          "",
          "",
          "",
          "",
          "",
          "",
          "",
          "",
          "",
          "",
          "",
          "",
          "",
          "",
          "",
          "",
          "",
          "",
          "",
          "",
          "",
          "",
          "",
          "",
          "",
          "",
          "",
          "",
          "",
          "",
          "",
          "",
          "",
          "",
          "",
          "",
          "",
          "",
          "",
          "",
          "",
          "",
          "",
          "",
          "",
          "",
          "",
          "",
          "",
          "",
          "",
          "",
          "",
          "",
          "",
          "",
          "",
          "",
          "",
          "",
          "",
          "",
          "",
          "",
          "",
          "",
          "",
          "",
          "",
          "",
          "",
          "",
          "",
          "",
          "",
          "",
          "",
          "",
          "",
          "",
          "",
          "",
          "",
          "",
          "",
          "",
          "",
          "",
          "",
          "",
          "",
          "",
          "",
          "",
          "",
          "",
          "",
          "",
          "",
          "",
          "",
          "",
          "",
          "",
          "",
          "",
          "",
          "",
          "",
          "",
          "",
          "",
          "",
          "",
          "",
          "",
          "",
          "",
          "",
          "",
          "",
          "",
          "",
          "",
          "",
          "",
          "",
          "",
          "",
          "",
          "",
          "",
          "",
          "",
          "",
          "",
          "",
          "",
          "",
          "",
          "",
          "",
          "",
          "",
          "",
          "",
          "",
          "",
          "",
          "",
          "",
          "",
          "",
          "",
          "",
          "",
          "",
          "",
          "",
          "",
          "",
          "",
          "",
          "",
          "",
          "",
          "",
          "",
          "",
          "",
          "",
          "",
          "",
          "",
          "",
          "",
          "",
          "",
          "",
          "",
          "",
          "",
          "",
          "",
          "",
          "",
          "",
          "",
          "",
          "",
          "",
          "",
          "",
          "",
          "",
          "",
          "",
          "",
          "",
          "",
          "",
          "",
          "",
          "",
          "",
          "",
          "",
          "",
          "",
          "",
          "",
          "",
          "",
          "",
          "",
          "",
          "",
          "",
          "",
          "",
          "",
          "",
          "",
          "",
          "",
          "",
          "",
          "",
          "",
          "",
          "",
          "",
          "",
          "",
          "",
          "",
          "",
          "",
          "",
          "",
          "",
          "",
          "",
          "",
          "",
          "",
          "",
          "",
          "",
          "",
          "",
          "",
          "",
          "",
          "",
          "",
          "",
          "",
          "",
          "",
          "",
          "",
          "",
          "",
          "",
          "",
          "",
          "",
          "",
          "",
          "",
          "",
          "",
          "",
          "",
          "",
          "",
          "",
          "",
          "",
          "",
          "",
          "",
          "",
          "",
          "",
          "",
          "",
          "",
          "",
          "",
          "",
          "",
          "",
          "",
          "",
          "",
          "",
          "",
          "",
          "",
          "",
          "",
          "",
          "",
          "",
          "",
          "",
          "",
          "",
          "",
          "",
          "",
          "",
          "",
          "",
          "",
          "",
          "",
          "",
          "",
          "",
          "",
          "",
          "",
          "",
          "",
          "",
          "",
          "",
          "",
          "",
          "",
          "",
          "",
          "",
          "",
          "",
          "",
          "",
          "",
          "",
          "",
          "",
          "",
          "",
          "",
          "",
          "",
          "",
          "",
          "",
          "",
          "",
          "",
          "",
          "",
          "",
          "",
          "",
          "",
          "",
          "",
          "",
          "",
          "",
          "",
          "",
          "",
          "",
          "",
          "",
          "",
          "",
          "",
          "",
          "",
          "",
          "",
          "",
          "",
          "",
          "",
          "",
          "",
          "",
          "",
          "",
          "",
          "",
          "",
          "",
          "",
          "",
          "",
          "",
          "",
          "",
          "",
          "",
          "",
          "",
          "",
          "",
          "",
          "",
          "",
          "",
          "",
          "",
          "",
          "",
          "",
          "",
          "",
          "",
          "",
          "",
          "",
          "",
          "",
          "",
          "",
          "",
          "",
          "",
          "",
          "",
          "",
          "",
          "",
          "",
          "",
          "",
          "",
          "",
          "",
          "",
          "",
          "",
          "",
          "",
          "",
          "",
          "",
          "",
          "",
          "",
          "",
          "",
          "",
          "",
          "",
          "",
          "",
          "",
          "",
          "",
          "",
          "",
          "",
          "",
          "",
          "",
          "",
          "",
          "",
          "",
          "",
          "",
          "",
          "",
          "",
          "",
          "",
          "",
          "",
          "",
          "",
          "",
          "",
          "",
          "",
          "",
          "",
          "",
          "",
          "",
          "",
          "",
          "",
          "",
          "",
          "",
          "",
          "",
          "",
          "",
          "",
          "",
          "",
          "",
          "",
          "",
          "",
          "",
          "",
          "",
          "",
          "",
          "",
          "",
          "",
          "",
          "",
          "",
          "",
          "",
          "",
          "",
          "",
          "",
          "",
          "",
          "",
          "",
          "",
          "",
          "",
          "",
          "",
          "",
          "",
          "",
          "",
          "",
          "",
          "",
          "",
          "",
          "",
          "",
          "",
          "",
          "",
          "",
          "",
          "",
          "",
          "",
          "",
          "",
          "",
          "",
          "",
          "",
          "",
          "",
          "",
          "",
          "",
          "",
          "",
          "",
          "",
          "",
          "",
          "",
          "",
          "",
          "",
          "",
          "",
          "",
          "",
          "",
          "",
          "",
          "",
          "",
          "",
          "",
          "",
          "",
          "",
          "",
          "",
          "",
          "",
          "",
          "",
          "",
          "",
          "",
          "",
          "",
          "",
          "",
          "",
          "",
          "",
          "",
          "",
          "",
          "",
          "",
          "",
          "",
          "",
          "",
          "",
          "",
          "",
          "",
          "",
          "",
          "",
          "",
          "",
          "",
          "",
          "",
          "",
          "",
          "",
          "",
          "",
          "",
          "",
          "",
          "",
          "",
          "",
          "",
          "",
          "",
          "",
          "",
          "",
          "",
          "",
          "",
          "",
          "",
          "",
          "",
          "",
          "",
          "",
          "",
          "",
          "",
          "",
          "",
          "",
          "",
          "",
          "",
          "",
          "",
          "",
          "",
          "",
          "",
          "",
          "",
          "",
          "",
          "",
          "",
          "",
          "",
          "",
          "",
          "",
          "",
          "",
          "",
          "",
          "",
          "",
          "",
          "",
          "",
          "",
          "",
          "",
          "",
          "",
          "",
          "",
          "",
          "",
          "",
          "",
          "",
          "",
          "",
          "",
          "",
          "",
          "",
          "",
          "",
          "",
          "",
          "",
          "",
          "",
          "",
          "",
          "",
          "",
          "",
          "",
          "",
          ""
         ],
         "type": "scattergl",
         "x": {
          "bdata": "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",
          "dtype": "f8"
         },
         "xaxis": "x",
         "y": {
          "bdata": "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",
          "dtype": "f8"
         },
         "yaxis": "y"
        },
        {
         "hovertemplate": "label=acc<br>0=%{x}<br>1=%{y}<br>AnchorsLabel=%{text}<extra></extra>",
         "legendgroup": "acc",
         "marker": {
          "color": "#AB63FA",
          "symbol": "circle"
         },
         "mode": "markers+text",
         "name": "acc",
         "showlegend": true,
         "text": [
          "",
          "",
          "",
          "",
          "",
          "",
          "",
          "",
          "",
          "",
          "",
          "",
          "",
          "",
          "",
          "",
          "",
          "",
          "",
          "",
          "",
          "",
          "",
          "",
          "",
          "",
          "",
          "",
          "",
          "",
          "",
          "",
          "",
          "",
          "",
          "",
          "",
          "",
          "",
          "",
          "",
          "",
          "",
          "",
          "",
          "",
          "",
          "",
          "",
          "",
          "",
          "",
          "",
          "",
          "",
          "",
          "",
          "",
          "",
          "",
          "",
          "",
          "",
          "",
          "",
          "",
          "",
          "",
          "",
          "",
          "",
          "",
          "",
          "",
          "",
          "",
          "",
          "",
          "",
          "",
          "",
          "",
          "",
          "",
          "",
          "",
          "",
          "",
          "",
          "",
          "",
          "",
          "",
          "",
          "",
          "",
          "",
          "",
          "",
          "",
          "",
          "",
          "",
          "",
          "",
          "",
          "",
          "",
          "",
          "",
          "",
          "",
          "",
          "",
          "",
          "",
          "",
          "",
          "",
          "",
          "",
          "",
          "",
          "",
          "",
          "",
          "",
          "",
          "",
          "",
          "",
          "",
          "",
          "",
          "",
          "",
          "",
          "",
          "",
          "",
          "",
          "",
          "",
          "",
          "",
          "",
          "",
          "",
          "",
          "",
          "",
          "",
          "",
          "",
          "",
          "",
          "",
          "",
          "",
          "",
          "",
          "",
          "",
          "",
          "",
          "",
          "",
          "",
          "",
          "",
          "",
          "",
          "",
          "",
          "",
          "",
          "",
          "",
          "",
          "",
          "",
          "",
          "",
          "",
          "",
          "",
          "",
          "",
          "",
          "",
          "",
          "",
          "",
          "",
          "",
          "",
          "",
          "",
          "",
          "",
          "",
          "",
          "",
          "",
          "",
          "",
          "",
          "",
          "",
          "",
          "",
          "",
          "",
          "",
          "",
          "",
          "",
          "",
          "",
          "",
          "",
          "",
          "",
          "",
          "",
          "",
          "",
          "",
          "",
          "",
          "",
          "",
          "",
          "",
          "",
          "",
          "",
          "",
          "",
          "",
          "",
          "",
          "",
          "",
          "",
          "",
          "",
          "",
          "",
          "",
          "",
          "",
          "",
          "",
          "",
          "",
          "",
          "",
          "",
          "",
          "",
          "",
          "",
          "",
          "",
          "",
          "",
          "",
          "",
          "",
          "",
          "",
          "",
          "",
          "",
          "",
          "",
          "",
          "",
          "",
          "",
          "",
          "",
          "",
          "",
          "",
          "",
          "",
          "",
          "",
          "",
          "",
          "",
          "",
          "",
          "",
          "",
          "",
          "",
          "",
          "",
          "",
          "",
          "",
          "",
          "",
          "",
          "",
          "",
          "",
          "",
          "",
          "",
          "",
          "",
          "",
          "",
          "",
          "",
          "",
          "",
          "",
          "",
          "",
          "",
          "",
          "",
          "",
          "",
          "",
          "",
          "",
          "",
          "",
          "",
          "",
          "",
          "",
          "",
          "",
          "",
          "",
          "",
          "",
          "",
          "",
          "",
          "",
          "",
          "",
          "",
          "",
          "",
          "",
          "",
          "",
          "",
          "",
          "",
          "",
          "",
          "",
          "",
          "",
          "",
          "",
          "",
          "",
          "",
          "",
          "",
          "",
          "",
          "",
          "",
          "",
          "",
          "",
          "",
          "",
          "",
          "",
          "",
          ""
         ],
         "type": "scattergl",
         "x": {
          "bdata": "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",
          "dtype": "f8"
         },
         "xaxis": "x",
         "y": {
          "bdata": "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",
          "dtype": "f8"
         },
         "yaxis": "y"
        },
        {
         "hovertemplate": "label=vgood<br>0=%{x}<br>1=%{y}<br>AnchorsLabel=%{text}<extra></extra>",
         "legendgroup": "vgood",
         "marker": {
          "color": "#FFA15A",
          "symbol": "circle"
         },
         "mode": "markers+text",
         "name": "vgood",
         "showlegend": true,
         "text": [
          "",
          "",
          "",
          "",
          "",
          "",
          "",
          "",
          "",
          "",
          "",
          "",
          "",
          "",
          "",
          "",
          "",
          "",
          "",
          "",
          "",
          "",
          "",
          "",
          "",
          "",
          "",
          "",
          "",
          "",
          "",
          "",
          "",
          "",
          "",
          "",
          "",
          "",
          "",
          "",
          "",
          "",
          "",
          "",
          "",
          "",
          "",
          "",
          "",
          "",
          "",
          "",
          "",
          "",
          "",
          "",
          "",
          "",
          "",
          "",
          "",
          "",
          "",
          "",
          ""
         ],
         "type": "scattergl",
         "x": {
          "bdata": "ddFFF1100T8AAAAAAAAAABU7sRM7scM/eQ3lNZTXwL/+//////+vvxXHcRzHcZy/ExERERERsT9VVVVVVVXFvxvHcRzHcby/NDMzMzMzs78AAAAAAAAAAJGFLGQhC8m/NDMzMzMzw78bx3Ecx3HMP1hVVVVVVbW/RRdddNFFtz9cWlpaWlrKv5QkSZIkScK/AgAAAAAAuL+e2Imd2Il9vA7lNZTXUM6/AAAAAAAAyL9zHMdxHMfBvxMREREREbG/MQzDMAzD0L8dx3Ecx3HMv5uZmZmZmcm/AQAAAAAA4L+UJEmSJEnSvwEAAAAAAOC/AQAAAAAA4L8AAAAAAADYv1VVVVVVVdW/AAAAAAAA4L8AAAAAAADgv0uSJEmSJNm/RxdddNFF178BAAAAAADgvwEAAAAAAOC/G8dxHMdxvD9WVVVVVVXFvwAAAAAAAAAA8fDw8PDw0L/ctm3btm3LvwEAAAAAAMS/FTuxEzuxs79sKK+hvIbSvwEAAAAAANC/OY7jOI7jyL8SERERERHBv/U8z/M8z9O/chzHcRzH0b8AAAAAAAAAADQzMzMzM9O/G8dxHMdxvL93d3d3d3fXv1VVVVVVVdW/AAAAAAAA0L9GF1100UXHv3l4eHh4eNi/t23btm3b1r8AAAAAAADSv57YiZ3Yic2/NpTXUF5D2b8AAAAAAADYvw==",
          "dtype": "f8"
         },
         "xaxis": "x",
         "y": {
          "bdata": "uMr0lp4n1D/9GVw2+avPP1881HC/lNk//spo4biAwT8NcayL28jUP5huEoPAys4/c0urIXGP3T+nFaICpWTKP+C+Dpwzotg/hGkYPiJm0z/olNy9OE3gP/gYCo9g3tA/vZaQD3q22z/gvg6cM6LIPygPC7WmecI/uMr0lp4n1D8Muy2WJxWqP/0ZXDb5q88/DXGsi9vIxD9fPNRwv5TZP/7KaOG4gME/DXGsi9vI1D+YbhKDwMrOP3NLqyFxj90/pxWiAqVkyj/gvg6cM6LYPwAAAAAAAAAAAAAAAAAAAAD9GVw2+avPP+rS4vXUDbG/l3hA2ZQrxj8oDwu1pnmyP+C+Dpwzotg/c0urIXGPrT8oDwu1pnnSP30Txej6wMc/EzBv4m073j9JTKKw3Y/DP30Txej6wNc/4L4OnDOi2D8oDwu1pnnSPxMwb+JtO94/SUyisN2Pwz99E8Xo+sDXPzZeukkMUtE/6tLi9dQN4T/8/APN3ivNP7yWkA96tts/BOeMKO2N1T8oDwu1pnniPygPC7WmedI/mG4Sg8DK3j/9GVw2+avPP5d4QNmUK8Y/4L4OnDOi2D9zS6shcY+tPygPC7WmedI/fRPF6PrAxz8TMG/ibTveP0lMorDdj8M/fRPF6PrA1z82XrpJDFLRP+rS4vXUDeE//PwDzd4rzT+8lpAPerbbPw==",
          "dtype": "f8"
         },
         "yaxis": "y"
        },
        {
         "hovertemplate": "label=good<br>0=%{x}<br>1=%{y}<br>AnchorsLabel=%{text}<extra></extra>",
         "legendgroup": "good",
         "marker": {
          "color": "#19D3F3",
          "symbol": "circle"
         },
         "mode": "markers+text",
         "name": "good",
         "showlegend": true,
         "text": [
          "",
          "",
          "",
          "",
          "",
          "",
          "",
          "",
          "",
          "",
          "",
          "",
          "",
          "",
          "",
          "",
          "",
          "",
          "",
          "",
          "",
          "",
          "",
          "",
          "",
          "",
          "",
          "",
          "",
          "",
          "",
          "",
          "",
          "",
          "",
          "",
          "",
          "",
          "",
          "",
          "",
          "",
          "",
          "",
          "",
          "",
          "",
          "",
          "",
          "",
          "",
          "",
          "",
          "",
          "",
          "",
          "",
          "",
          "",
          "",
          "",
          "",
          "",
          "",
          "",
          "",
          "",
          "",
          ""
         ],
         "type": "scattergl",
         "x": {
          "bdata": "ExERERERsb9QVVVVVVWlP1VVVVVVVdU/VlVVVVVVxb8bx3Ecx3G8PyAeHh4eHr6/lSRJkiRJor8fHh4eHh7OPwEAAAAAANC/ZyELWchClr+ZmZmZmZmpP19DeQ3lNcS/c9FFF110sT9eQ3kN5TXEP3XRRRdddNG/uh6F61G4rr8AAAAAAAAAABmGYRiGYci/UFVVVVVVlT8XhmEYhmG4P6uqqqqqqtK/RHsJ7SW0t79YVVVVVVWlvxIREREREcG/WFVVVVVVpb8RERERERHRP97d3d3d3c2/G8dxHMdxrD+XlpaWlpbGv9y2bdu2bbu/l5aWlpaWxj80MzMzMzPTvwtZyEIWsrC/AAAAAAAAAAAqr6G8hvLKv0UXXXTRRZc/KK+hvIbyuj9edNFFF13Uv5yZmZmZmbm/SRdddNFFp7+f53me53nOv1hVVVVVVZW/F4ZhGIZhqD9WVVVVVVXVv3wJ7SW0l8C/VlVVVVVVtb+e2Imd2InNvzQzMzMzM8O/ntiJndiJzT93Yid2YifWvwAAAAAAAAAAERERERER0b+qqqqqqqrKvxIREREREcE/OI7jOI7j2L+e53me53m+vxvHcRzHcay/09LS0tLS0r+UmZmZmZmZvyAeHh4eHq4/mpmZmZmZ2b83velNb3rDv5mZmZmZmbm/X0N5DeU11L910UUXXXSxvwAAAAAAAAAAL7rooosu2r8L16NwPQrHv3XRRRdddMG/",
          "dtype": "f8"
         },
         "xaxis": "x",
         "y": {
          "bdata": "c0urIXGPzb8oDwu1pnmyv3NLqyFxj82/c0urIXGPrb/gvg6cM6LIvwy7LZYnFbq//RlcNvmrrz8Muy2WJxW6v5d4QNmUK7a/0WwOOhwZyL+XeEDZlCu2vwAAAAAAAAAAEzBv4m07vr8AAAAAAAAAAAAAAAAAAAAAgl1NnrKaur8AAAAAAAAAAFIR6M5QHbU/KA8LtaZ5or9SEejOUB21PygPC7WmebI/ldQJaCJsoL8oDwu1pnmyP3NLqyFxj72/KA8LtaZ5sj9zS6shcY+9v3NLqyFxj60/4L4OnDOiuL8AAAAAAAAAAH0Txej6wMc/AAAAAAAAAAAAAAAAAAAAAGFPEazu6ry/AAAAAAAAAAD9YzbXS1a3P7jK9JaeJ6S//WM210tWtz+4yvSWnie0P6yTMxR3vKG/uMr0lp4ntD9SEejOUB3FPygPC7WmeaI/UhHozlAdxT8oDwu1pnnCP5XUCWgibKA/KA8LtaZ5wj/q0uL11A3Rv5d4QNmUK7a/6tLi9dQN0b/q0uL11A2xv7yWkA96tsu/c0urIXGPvb8oDwu1pnmyP3NLqyFxj72/4L4OnDOiuL+nFaICpWTKv+C+Dpwzori/AAAAAAAAAABxWvCir6DAvwAAAAAAAAAAAAAAAAAAAABhTxGs7uq8vwAAAAAAAAAA/WM210tWtz+4yvSWniekv/1jNtdLVrc/uMr0lp4ntD+skzMUd7yhv7jK9JaeJ7Q/",
          "dtype": "f8"
         },
         "yaxis": "y"
        },
        {
         "marker": {
          "color": "#636EFA",
          "opacity": 0.1,
          "size": 0
         },
         "mode": "markers",
         "showlegend": false,
         "type": "scatter",
         "x": {
          "bdata": "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",
          "dtype": "f8"
         },
         "y": {
          "bdata": "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",
          "dtype": "f8"
         }
        }
       ],
       "layout": {
        "dragmode": "select",
        "height": 1000,
        "hovermode": "closest",
        "legend": {
         "font": {
          "size": 12
         },
         "orientation": "h",
         "title": {
          "text": "label"
         },
         "tracegroupgap": 0,
         "x": 1,
         "xanchor": "right",
         "y": 1,
         "yanchor": "top"
        },
        "margin": {
         "b": 50,
         "l": 50,
         "r": 50,
         "t": 50
        },
        "template": {
         "data": {
          "bar": [
           {
            "error_x": {
             "color": "#2a3f5f"
            },
            "error_y": {
             "color": "#2a3f5f"
            },
            "marker": {
             "line": {
              "color": "#E5ECF6",
              "width": 0.5
             },
             "pattern": {
              "fillmode": "overlay",
              "size": 10,
              "solidity": 0.2
             }
            },
            "type": "bar"
           }
          ],
          "barpolar": [
           {
            "marker": {
             "line": {
              "color": "#E5ECF6",
              "width": 0.5
             },
             "pattern": {
              "fillmode": "overlay",
              "size": 10,
              "solidity": 0.2
             }
            },
            "type": "barpolar"
           }
          ],
          "carpet": [
           {
            "aaxis": {
             "endlinecolor": "#2a3f5f",
             "gridcolor": "white",
             "linecolor": "white",
             "minorgridcolor": "white",
             "startlinecolor": "#2a3f5f"
            },
            "baxis": {
             "endlinecolor": "#2a3f5f",
             "gridcolor": "white",
             "linecolor": "white",
             "minorgridcolor": "white",
             "startlinecolor": "#2a3f5f"
            },
            "type": "carpet"
           }
          ],
          "choropleth": [
           {
            "colorbar": {
             "outlinewidth": 0,
             "ticks": ""
            },
            "type": "choropleth"
           }
          ],
          "contour": [
           {
            "colorbar": {
             "outlinewidth": 0,
             "ticks": ""
            },
            "colorscale": [
             [
              0,
              "#0d0887"
             ],
             [
              0.1111111111111111,
              "#46039f"
             ],
             [
              0.2222222222222222,
              "#7201a8"
             ],
             [
              0.3333333333333333,
              "#9c179e"
             ],
             [
              0.4444444444444444,
              "#bd3786"
             ],
             [
              0.5555555555555556,
              "#d8576b"
             ],
             [
              0.6666666666666666,
              "#ed7953"
             ],
             [
              0.7777777777777778,
              "#fb9f3a"
             ],
             [
              0.8888888888888888,
              "#fdca26"
             ],
             [
              1,
              "#f0f921"
             ]
            ],
            "type": "contour"
           }
          ],
          "contourcarpet": [
           {
            "colorbar": {
             "outlinewidth": 0,
             "ticks": ""
            },
            "type": "contourcarpet"
           }
          ],
          "heatmap": [
           {
            "colorbar": {
             "outlinewidth": 0,
             "ticks": ""
            },
            "colorscale": [
             [
              0,
              "#0d0887"
             ],
             [
              0.1111111111111111,
              "#46039f"
             ],
             [
              0.2222222222222222,
              "#7201a8"
             ],
             [
              0.3333333333333333,
              "#9c179e"
             ],
             [
              0.4444444444444444,
              "#bd3786"
             ],
             [
              0.5555555555555556,
              "#d8576b"
             ],
             [
              0.6666666666666666,
              "#ed7953"
             ],
             [
              0.7777777777777778,
              "#fb9f3a"
             ],
             [
              0.8888888888888888,
              "#fdca26"
             ],
             [
              1,
              "#f0f921"
             ]
            ],
            "type": "heatmap"
           }
          ],
          "histogram": [
           {
            "marker": {
             "pattern": {
              "fillmode": "overlay",
              "size": 10,
              "solidity": 0.2
             }
            },
            "type": "histogram"
           }
          ],
          "histogram2d": [
           {
            "colorbar": {
             "outlinewidth": 0,
             "ticks": ""
            },
            "colorscale": [
             [
              0,
              "#0d0887"
             ],
             [
              0.1111111111111111,
              "#46039f"
             ],
             [
              0.2222222222222222,
              "#7201a8"
             ],
             [
              0.3333333333333333,
              "#9c179e"
             ],
             [
              0.4444444444444444,
              "#bd3786"
             ],
             [
              0.5555555555555556,
              "#d8576b"
             ],
             [
              0.6666666666666666,
              "#ed7953"
             ],
             [
              0.7777777777777778,
              "#fb9f3a"
             ],
             [
              0.8888888888888888,
              "#fdca26"
             ],
             [
              1,
              "#f0f921"
             ]
            ],
            "type": "histogram2d"
           }
          ],
          "histogram2dcontour": [
           {
            "colorbar": {
             "outlinewidth": 0,
             "ticks": ""
            },
            "colorscale": [
             [
              0,
              "#0d0887"
             ],
             [
              0.1111111111111111,
              "#46039f"
             ],
             [
              0.2222222222222222,
              "#7201a8"
             ],
             [
              0.3333333333333333,
              "#9c179e"
             ],
             [
              0.4444444444444444,
              "#bd3786"
             ],
             [
              0.5555555555555556,
              "#d8576b"
             ],
             [
              0.6666666666666666,
              "#ed7953"
             ],
             [
              0.7777777777777778,
              "#fb9f3a"
             ],
             [
              0.8888888888888888,
              "#fdca26"
             ],
             [
              1,
              "#f0f921"
             ]
            ],
            "type": "histogram2dcontour"
           }
          ],
          "mesh3d": [
           {
            "colorbar": {
             "outlinewidth": 0,
             "ticks": ""
            },
            "type": "mesh3d"
           }
          ],
          "parcoords": [
           {
            "line": {
             "colorbar": {
              "outlinewidth": 0,
              "ticks": ""
             }
            },
            "type": "parcoords"
           }
          ],
          "pie": [
           {
            "automargin": true,
            "type": "pie"
           }
          ],
          "scatter": [
           {
            "fillpattern": {
             "fillmode": "overlay",
             "size": 10,
             "solidity": 0.2
            },
            "type": "scatter"
           }
          ],
          "scatter3d": [
           {
            "line": {
             "colorbar": {
              "outlinewidth": 0,
              "ticks": ""
             }
            },
            "marker": {
             "colorbar": {
              "outlinewidth": 0,
              "ticks": ""
             }
            },
            "type": "scatter3d"
           }
          ],
          "scattercarpet": [
           {
            "marker": {
             "colorbar": {
              "outlinewidth": 0,
              "ticks": ""
             }
            },
            "type": "scattercarpet"
           }
          ],
          "scattergeo": [
           {
            "marker": {
             "colorbar": {
              "outlinewidth": 0,
              "ticks": ""
             }
            },
            "type": "scattergeo"
           }
          ],
          "scattergl": [
           {
            "marker": {
             "colorbar": {
              "outlinewidth": 0,
              "ticks": ""
             }
            },
            "type": "scattergl"
           }
          ],
          "scattermap": [
           {
            "marker": {
             "colorbar": {
              "outlinewidth": 0,
              "ticks": ""
             }
            },
            "type": "scattermap"
           }
          ],
          "scattermapbox": [
           {
            "marker": {
             "colorbar": {
              "outlinewidth": 0,
              "ticks": ""
             }
            },
            "type": "scattermapbox"
           }
          ],
          "scatterpolar": [
           {
            "marker": {
             "colorbar": {
              "outlinewidth": 0,
              "ticks": ""
             }
            },
            "type": "scatterpolar"
           }
          ],
          "scatterpolargl": [
           {
            "marker": {
             "colorbar": {
              "outlinewidth": 0,
              "ticks": ""
             }
            },
            "type": "scatterpolargl"
           }
          ],
          "scatterternary": [
           {
            "marker": {
             "colorbar": {
              "outlinewidth": 0,
              "ticks": ""
             }
            },
            "type": "scatterternary"
           }
          ],
          "surface": [
           {
            "colorbar": {
             "outlinewidth": 0,
             "ticks": ""
            },
            "colorscale": [
             [
              0,
              "#0d0887"
             ],
             [
              0.1111111111111111,
              "#46039f"
             ],
             [
              0.2222222222222222,
              "#7201a8"
             ],
             [
              0.3333333333333333,
              "#9c179e"
             ],
             [
              0.4444444444444444,
              "#bd3786"
             ],
             [
              0.5555555555555556,
              "#d8576b"
             ],
             [
              0.6666666666666666,
              "#ed7953"
             ],
             [
              0.7777777777777778,
              "#fb9f3a"
             ],
             [
              0.8888888888888888,
              "#fdca26"
             ],
             [
              1,
              "#f0f921"
             ]
            ],
            "type": "surface"
           }
          ],
          "table": [
           {
            "cells": {
             "fill": {
              "color": "#EBF0F8"
             },
             "line": {
              "color": "white"
             }
            },
            "header": {
             "fill": {
              "color": "#C8D4E3"
             },
             "line": {
              "color": "white"
             }
            },
            "type": "table"
           }
          ]
         },
         "layout": {
          "annotationdefaults": {
           "arrowcolor": "#2a3f5f",
           "arrowhead": 0,
           "arrowwidth": 1
          },
          "autotypenumbers": "strict",
          "coloraxis": {
           "colorbar": {
            "outlinewidth": 0,
            "ticks": ""
           }
          },
          "colorscale": {
           "diverging": [
            [
             0,
             "#8e0152"
            ],
            [
             0.1,
             "#c51b7d"
            ],
            [
             0.2,
             "#de77ae"
            ],
            [
             0.3,
             "#f1b6da"
            ],
            [
             0.4,
             "#fde0ef"
            ],
            [
             0.5,
             "#f7f7f7"
            ],
            [
             0.6,
             "#e6f5d0"
            ],
            [
             0.7,
             "#b8e186"
            ],
            [
             0.8,
             "#7fbc41"
            ],
            [
             0.9,
             "#4d9221"
            ],
            [
             1,
             "#276419"
            ]
           ],
           "sequential": [
            [
             0,
             "#0d0887"
            ],
            [
             0.1111111111111111,
             "#46039f"
            ],
            [
             0.2222222222222222,
             "#7201a8"
            ],
            [
             0.3333333333333333,
             "#9c179e"
            ],
            [
             0.4444444444444444,
             "#bd3786"
            ],
            [
             0.5555555555555556,
             "#d8576b"
            ],
            [
             0.6666666666666666,
             "#ed7953"
            ],
            [
             0.7777777777777778,
             "#fb9f3a"
            ],
            [
             0.8888888888888888,
             "#fdca26"
            ],
            [
             1,
             "#f0f921"
            ]
           ],
           "sequentialminus": [
            [
             0,
             "#0d0887"
            ],
            [
             0.1111111111111111,
             "#46039f"
            ],
            [
             0.2222222222222222,
             "#7201a8"
            ],
            [
             0.3333333333333333,
             "#9c179e"
            ],
            [
             0.4444444444444444,
             "#bd3786"
            ],
            [
             0.5555555555555556,
             "#d8576b"
            ],
            [
             0.6666666666666666,
             "#ed7953"
            ],
            [
             0.7777777777777778,
             "#fb9f3a"
            ],
            [
             0.8888888888888888,
             "#fdca26"
            ],
            [
             1,
             "#f0f921"
            ]
           ]
          },
          "colorway": [
           "#636efa",
           "#EF553B",
           "#00cc96",
           "#ab63fa",
           "#FFA15A",
           "#19d3f3",
           "#FF6692",
           "#B6E880",
           "#FF97FF",
           "#FECB52"
          ],
          "font": {
           "color": "#2a3f5f"
          },
          "geo": {
           "bgcolor": "white",
           "lakecolor": "white",
           "landcolor": "#E5ECF6",
           "showlakes": true,
           "showland": true,
           "subunitcolor": "white"
          },
          "hoverlabel": {
           "align": "left"
          },
          "hovermode": "closest",
          "mapbox": {
           "style": "light"
          },
          "paper_bgcolor": "white",
          "plot_bgcolor": "#E5ECF6",
          "polar": {
           "angularaxis": {
            "gridcolor": "white",
            "linecolor": "white",
            "ticks": ""
           },
           "bgcolor": "#E5ECF6",
           "radialaxis": {
            "gridcolor": "white",
            "linecolor": "white",
            "ticks": ""
           }
          },
          "scene": {
           "xaxis": {
            "backgroundcolor": "#E5ECF6",
            "gridcolor": "white",
            "gridwidth": 2,
            "linecolor": "white",
            "showbackground": true,
            "ticks": "",
            "zerolinecolor": "white"
           },
           "yaxis": {
            "backgroundcolor": "#E5ECF6",
            "gridcolor": "white",
            "gridwidth": 2,
            "linecolor": "white",
            "showbackground": true,
            "ticks": "",
            "zerolinecolor": "white"
           },
           "zaxis": {
            "backgroundcolor": "#E5ECF6",
            "gridcolor": "white",
            "gridwidth": 2,
            "linecolor": "white",
            "showbackground": true,
            "ticks": "",
            "zerolinecolor": "white"
           }
          },
          "shapedefaults": {
           "line": {
            "color": "#2a3f5f"
           }
          },
          "ternary": {
           "aaxis": {
            "gridcolor": "white",
            "linecolor": "white",
            "ticks": ""
           },
           "baxis": {
            "gridcolor": "white",
            "linecolor": "white",
            "ticks": ""
           },
           "bgcolor": "#E5ECF6",
           "caxis": {
            "gridcolor": "white",
            "linecolor": "white",
            "ticks": ""
           }
          },
          "title": {
           "x": 0.05
          },
          "xaxis": {
           "automargin": true,
           "gridcolor": "white",
           "linecolor": "white",
           "ticks": "",
           "title": {
            "standoff": 15
           },
           "zerolinecolor": "white",
           "zerolinewidth": 2
          },
          "yaxis": {
           "automargin": true,
           "gridcolor": "white",
           "linecolor": "white",
           "ticks": "",
           "title": {
            "standoff": 15
           },
           "zerolinecolor": "white",
           "zerolinewidth": 2
          }
         }
        },
        "width": 1000,
        "xaxis": {
         "anchor": "y",
         "domain": [
          0,
          1
         ],
         "title": {}
        },
        "yaxis": {
         "anchor": "x",
         "domain": [
          0,
          1
         ],
         "title": {}
        }
       }
      }
     },
     "metadata": {},
     "output_type": "display_data"
    },
    {
     "name": "stdout",
     "output_type": "stream",
     "text": [
      "RadViz2D done! Time elapsed: 0.5710330009460449 seconds\n"
     ]
    }
   ],
   "source": [
    "BPs=1000\n",
    "time_start = time.time()\n",
    "RadViz2D(y,X,BPs)\n",
    "print( 'RadViz2D done! Time elapsed: {} seconds'.format(time.time()-time_start))"
   ]
  }
 ],
 "metadata": {
  "kernelspec": {
   "display_name": "Python 3",
   "language": "python",
   "name": "python3"
  },
  "language_info": {
   "codemirror_mode": {
    "name": "ipython",
    "version": 3
   },
   "file_extension": ".py",
   "mimetype": "text/x-python",
   "name": "python",
   "nbconvert_exporter": "python",
   "pygments_lexer": "ipython3",
   "version": "3.13.2"
  }
 },
 "nbformat": 4,
 "nbformat_minor": 2
}
