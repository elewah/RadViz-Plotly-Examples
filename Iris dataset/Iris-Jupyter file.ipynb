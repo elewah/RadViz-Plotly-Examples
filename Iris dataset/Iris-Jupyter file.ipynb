{
 "cells": [
  {
   "cell_type": "code",
   "execution_count": 8,
   "metadata": {},
   "outputs": [
    {
     "name": "stdout",
     "output_type": "stream",
     "text": [
      "Requirement already satisfied: scikit-learn in /home/elewah/anaconda3/lib/python3.12/site-packages (1.6.1)\n",
      "Requirement already satisfied: scipy in /home/elewah/anaconda3/lib/python3.12/site-packages (1.15.2)\n",
      "Requirement already satisfied: matplotlib in /home/elewah/anaconda3/lib/python3.12/site-packages (3.10.1)\n",
      "Requirement already satisfied: numpy>=1.19.5 in /home/elewah/anaconda3/lib/python3.12/site-packages (from scikit-learn) (1.26.4)\n",
      "Requirement already satisfied: joblib>=1.2.0 in /home/elewah/anaconda3/lib/python3.12/site-packages (from scikit-learn) (1.4.2)\n",
      "Requirement already satisfied: threadpoolctl>=3.1.0 in /home/elewah/anaconda3/lib/python3.12/site-packages (from scikit-learn) (3.5.0)\n",
      "Requirement already satisfied: contourpy>=1.0.1 in /home/elewah/anaconda3/lib/python3.12/site-packages (from matplotlib) (1.2.0)\n",
      "Requirement already satisfied: cycler>=0.10 in /home/elewah/anaconda3/lib/python3.12/site-packages (from matplotlib) (0.11.0)\n",
      "Requirement already satisfied: fonttools>=4.22.0 in /home/elewah/anaconda3/lib/python3.12/site-packages (from matplotlib) (4.51.0)\n",
      "Requirement already satisfied: kiwisolver>=1.3.1 in /home/elewah/anaconda3/lib/python3.12/site-packages (from matplotlib) (1.4.4)\n",
      "Requirement already satisfied: packaging>=20.0 in /home/elewah/anaconda3/lib/python3.12/site-packages (from matplotlib) (24.1)\n",
      "Requirement already satisfied: pillow>=8 in /home/elewah/anaconda3/lib/python3.12/site-packages (from matplotlib) (10.4.0)\n",
      "Requirement already satisfied: pyparsing>=2.3.1 in /home/elewah/anaconda3/lib/python3.12/site-packages (from matplotlib) (3.1.2)\n",
      "Requirement already satisfied: python-dateutil>=2.7 in /home/elewah/anaconda3/lib/python3.12/site-packages (from matplotlib) (2.9.0.post0)\n",
      "Requirement already satisfied: six>=1.5 in /home/elewah/anaconda3/lib/python3.12/site-packages (from python-dateutil>=2.7->matplotlib) (1.16.0)\n",
      "Requirement already satisfied: RadViz-Plotly in /home/elewah/anaconda3/lib/python3.12/site-packages (0.1.0)\n",
      "Requirement already satisfied: plotly<7.0.0,>=6.0.1 in /home/elewah/anaconda3/lib/python3.12/site-packages (from RadViz-Plotly) (6.0.1)\n",
      "Requirement already satisfied: narwhals>=1.15.1 in /home/elewah/anaconda3/lib/python3.12/site-packages (from plotly<7.0.0,>=6.0.1->RadViz-Plotly) (1.35.0)\n",
      "Requirement already satisfied: packaging in /home/elewah/anaconda3/lib/python3.12/site-packages (from plotly<7.0.0,>=6.0.1->RadViz-Plotly) (24.1)\n"
     ]
    }
   ],
   "source": [
    "# #Reference:https://stackoverflow.com/questions/12332975/installing-python-module-within-code\n",
    "# def install_and_import(package):\n",
    "#     import importlib\n",
    "#     try:\n",
    "#         importlib.import_module(package)\n",
    "#     except ImportError:\n",
    "#         import pip\n",
    "#         pip.main(['install', package])\n",
    "#     finally:\n",
    "#         globals()[package] = importlib.import_module(package)\n",
    "\n",
    "\n",
    "# install_and_import('plotly')\n",
    "# install_and_import('numpy')\n",
    "# install_and_import('pandas')\n",
    "# install_and_import('matplotlib')\n",
    "# install_and_import('sklearn')\n",
    "# install_and_import('RadViz-Plotly')  this function doesn't work with the released packge\n",
    "\n",
    "import importlib\n",
    "import pip\n",
    "\n",
    "def import_or_install(package):\n",
    "    try:\n",
    "        __import__(package)\n",
    "    except:\n",
    "        import sys\n",
    "        import subprocess\n",
    "        subprocess.check_call([sys.executable, '-m', 'pip', 'install', package])\n",
    "        __import__(package)\n",
    "    finally:\n",
    "        globals()[package] = importlib.import_module(package)\n",
    "        \n",
    "\n",
    "packages=['plotly','numpy','pandas','matplotlib'] \n",
    "#we found the error of impoting at the name of folder RadViz-plotly and Radviz\n",
    "for i in packages:\n",
    "    import_or_install(i)\n",
    "\n",
    "\n",
    "!pip install -U scikit-learn scipy matplotlib\n",
    "!pip install RadViz-Plotly\n"
   ]
  },
  {
   "cell_type": "markdown",
   "metadata": {},
   "source": [
    "###  Iris Dataset\n",
    "###  Labels :Iris Setosa, Iris Versicolour, andIris Virginica"
   ]
  },
  {
   "cell_type": "code",
   "execution_count": null,
   "metadata": {},
   "outputs": [],
   "source": [
    "# from RadViz import main\n",
    "from radviz_plotly import RadViz2D\n",
    "from radviz_plotly import RadViz3D\n",
    "import pandas as pd\n",
    "import time\n",
    "import plotly.io as pio\n",
    "pio.renderers.default='iframe'"
   ]
  },
  {
   "cell_type": "code",
   "execution_count": 10,
   "metadata": {},
   "outputs": [],
   "source": [
    "data= pd.read_csv('iris.csv')\n",
    "y=data['Species']\n",
    "X=data.drop(['Species'], axis=1)"
   ]
  },
  {
   "cell_type": "code",
   "execution_count": 11,
   "metadata": {},
   "outputs": [
    {
     "data": {
      "text/html": [
       "<iframe\n",
       "    scrolling=\"no\"\n",
       "    width=\"100%\"\n",
       "    height=\"545px\"\n",
       "    src=\"iframe_figures/figure_11.html\"\n",
       "    frameborder=\"0\"\n",
       "    allowfullscreen\n",
       "></iframe>\n"
      ]
     },
     "metadata": {},
     "output_type": "display_data"
    },
    {
     "name": "stdout",
     "output_type": "stream",
     "text": [
      "RadViz3D done! Time elapsed: 0.10105180740356445 seconds\n"
     ]
    }
   ],
   "source": [
    "BPs=10000\n",
    "time_start = time.time()\n",
    "RadViz3D(y,X,BPs)\n",
    "print( 'RadViz3D done! Time elapsed: {} seconds'.format(time.time()-time_start))"
   ]
  },
  {
   "cell_type": "code",
   "execution_count": 12,
   "metadata": {},
   "outputs": [
    {
     "data": {
      "text/html": [
       "<iframe\n",
       "    scrolling=\"no\"\n",
       "    width=\"1020px\"\n",
       "    height=\"1020\"\n",
       "    src=\"iframe_figures/figure_12.html\"\n",
       "    frameborder=\"0\"\n",
       "    allowfullscreen\n",
       "></iframe>\n"
      ]
     },
     "metadata": {},
     "output_type": "display_data"
    },
    {
     "name": "stdout",
     "output_type": "stream",
     "text": [
      "RadViz2D done! Time elapsed: 0.06817150115966797 seconds\n"
     ]
    }
   ],
   "source": [
    "BPs=1000\n",
    "time_start = time.time()\n",
    "RadViz2D(y,X,BPs)\n",
    "print( 'RadViz2D done! Time elapsed: {} seconds'.format(time.time()-time_start))"
   ]
  },
  {
   "cell_type": "code",
   "execution_count": null,
   "metadata": {},
   "outputs": [],
   "source": []
  },
  {
   "cell_type": "code",
   "execution_count": null,
   "metadata": {},
   "outputs": [],
   "source": []
  }
 ],
 "metadata": {
  "kernelspec": {
   "display_name": "base",
   "language": "python",
   "name": "python3"
  },
  "language_info": {
   "codemirror_mode": {
    "name": "ipython",
    "version": 3
   },
   "file_extension": ".py",
   "mimetype": "text/x-python",
   "name": "python",
   "nbconvert_exporter": "python",
   "pygments_lexer": "ipython3",
   "version": "3.12.7"
  }
 },
 "nbformat": 4,
 "nbformat_minor": 2
}
