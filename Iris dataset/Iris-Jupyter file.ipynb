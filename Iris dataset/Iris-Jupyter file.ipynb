{
 "cells": [
  {
   "cell_type": "code",
   "execution_count": 1,
   "metadata": {},
   "outputs": [
    {
     "name": "stdout",
     "output_type": "stream",
     "text": [
      "Requirement already satisfied: RadViz-Plotly in c:\\py\\lib\\site-packages (0.0.5)\n"
     ]
    }
   ],
   "source": [
    "# #Reference:https://stackoverflow.com/questions/12332975/installing-python-module-within-code\n",
    "# def install_and_import(package):\n",
    "#     import importlib\n",
    "#     try:\n",
    "#         importlib.import_module(package)\n",
    "#     except ImportError:\n",
    "#         import pip\n",
    "#         pip.main(['install', package])\n",
    "#     finally:\n",
    "#         globals()[package] = importlib.import_module(package)\n",
    "\n",
    "\n",
    "# install_and_import('plotly')\n",
    "# install_and_import('numpy')\n",
    "# install_and_import('pandas')\n",
    "# install_and_import('matplotlib')\n",
    "# install_and_import('sklearn')\n",
    "# install_and_import('RadViz-Plotly')  this function doesn't work with the released packge\n",
    "\n",
    "import importlib\n",
    "import pip\n",
    "\n",
    "def import_or_install(package):\n",
    "    try:\n",
    "        __import__(package)\n",
    "    except:\n",
    "        import sys\n",
    "        import subprocess\n",
    "        subprocess.check_call([sys.executable, '-m', 'pip', 'install', package])\n",
    "        __import__(package)\n",
    "    finally:\n",
    "        globals()[package] = importlib.import_module(package)\n",
    "        \n",
    "\n",
    "packages=['plotly','numpy','pandas','matplotlib','sklearn'] \n",
    "#we found the error of impoting at the name of folder RadViz-plotly and Radviz\n",
    "for i in packages:\n",
    "    import_or_install(i)\n",
    "\n",
    "\n",
    "\n",
    "!pip install RadViz-Plotly\n"
   ]
  },
  {
   "cell_type": "markdown",
   "metadata": {},
   "source": [
    "###  Iris Dataset\n",
    "###  Labels :Iris Setosa, Iris Versicolour, andIris Virginica"
   ]
  },
  {
   "cell_type": "code",
   "execution_count": 2,
   "metadata": {},
   "outputs": [],
   "source": [
    "# from RadViz import main\n",
    "from RadViz.main import RadViz2D\n",
    "from RadViz.main import RadViz3D\n",
    "import pandas as pd\n",
    "import time\n",
    "import plotly.io as pio\n",
    "pio.renderers.default='iframe'"
   ]
  },
  {
   "cell_type": "code",
   "execution_count": 3,
   "metadata": {},
   "outputs": [],
   "source": [
    "data= pd.read_csv('iris.csv')\n",
    "y=data['Species']\n",
    "X=data.drop(['Species'], axis=1)"
   ]
  },
  {
   "cell_type": "code",
   "execution_count": 4,
   "metadata": {},
   "outputs": [
    {
     "data": {
      "text/html": [
       "<iframe\n",
       "    scrolling=\"no\"\n",
       "    width=\"100%\"\n",
       "    height=\"545px\"\n",
       "    src=\"iframe_figures/figure_4.html\"\n",
       "    frameborder=\"0\"\n",
       "    allowfullscreen\n",
       "></iframe>\n"
      ]
     },
     "metadata": {},
     "output_type": "display_data"
    },
    {
     "name": "stdout",
     "output_type": "stream",
     "text": [
      "RadViz3D done! Time elapsed: 0.6974399089813232 seconds\n"
     ]
    }
   ],
   "source": [
    "BPs=10000\n",
    "time_start = time.time()\n",
    "RadViz3D(y,X,BPs)\n",
    "print( 'RadViz3D done! Time elapsed: {} seconds'.format(time.time()-time_start))"
   ]
  },
  {
   "cell_type": "code",
   "execution_count": 5,
   "metadata": {},
   "outputs": [
    {
     "data": {
      "text/html": [
       "<iframe\n",
       "    scrolling=\"no\"\n",
       "    width=\"1020px\"\n",
       "    height=\"1020\"\n",
       "    src=\"iframe_figures/figure_5.html\"\n",
       "    frameborder=\"0\"\n",
       "    allowfullscreen\n",
       "></iframe>\n"
      ]
     },
     "metadata": {},
     "output_type": "display_data"
    },
    {
     "name": "stdout",
     "output_type": "stream",
     "text": [
      "RadViz2D done! Time elapsed: 0.4743614196777344 seconds\n"
     ]
    }
   ],
   "source": [
    "BPs=1000\n",
    "time_start = time.time()\n",
    "RadViz2D(y,X,BPs)\n",
    "print( 'RadViz2D done! Time elapsed: {} seconds'.format(time.time()-time_start))"
   ]
  },
  {
   "cell_type": "code",
   "execution_count": null,
   "metadata": {},
   "outputs": [],
   "source": []
  },
  {
   "cell_type": "code",
   "execution_count": null,
   "metadata": {},
   "outputs": [],
   "source": []
  }
 ],
 "metadata": {
  "kernelspec": {
   "display_name": "Python 3",
   "language": "python",
   "name": "python3"
  },
  "language_info": {
   "codemirror_mode": {
    "name": "ipython",
    "version": 3
   },
   "file_extension": ".py",
   "mimetype": "text/x-python",
   "name": "python",
   "nbconvert_exporter": "python",
   "pygments_lexer": "ipython3",
   "version": "3.8.3"
  }
 },
 "nbformat": 4,
 "nbformat_minor": 2
}
