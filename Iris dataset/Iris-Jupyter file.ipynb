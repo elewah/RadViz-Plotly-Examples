{
 "cells": [
  {
   "cell_type": "code",
   "execution_count": 6,
   "metadata": {},
   "outputs": [
    {
     "name": "stdout",
     "output_type": "stream",
     "text": [
      "Collecting scikit-learn\n",
      "  Using cached scikit_learn-1.2.1-cp38-cp38-win_amd64.whl (8.3 MB)\n",
      "Requirement already up-to-date: scipy in c:\\py\\lib\\site-packages (1.10.0)\n",
      "Collecting matplotlib\n",
      "  Using cached matplotlib-3.7.0-cp38-cp38-win_amd64.whl (7.7 MB)\n",
      "Requirement already satisfied, skipping upgrade: threadpoolctl>=2.0.0 in c:\\py\\lib\\site-packages (from scikit-learn) (2.1.0)\n",
      "Requirement already satisfied, skipping upgrade: numpy>=1.17.3 in c:\\py\\lib\\site-packages (from scikit-learn) (1.23.5)\n",
      "Requirement already satisfied, skipping upgrade: joblib>=1.1.1 in c:\\py\\lib\\site-packages (from scikit-learn) (1.2.0)\n",
      "Requirement already satisfied, skipping upgrade: cycler>=0.10 in c:\\py\\lib\\site-packages (from matplotlib) (0.10.0)\n",
      "Collecting importlib-resources>=3.2.0; python_version < \"3.10\"\n",
      "  Using cached importlib_resources-5.10.2-py3-none-any.whl (34 kB)\n",
      "Requirement already satisfied, skipping upgrade: pyparsing>=2.3.1 in c:\\py\\lib\\site-packages (from matplotlib) (2.4.7)\n",
      "Requirement already satisfied, skipping upgrade: python-dateutil>=2.7 in c:\\py\\lib\\site-packages (from matplotlib) (2.8.1)\n",
      "Requirement already satisfied, skipping upgrade: packaging>=20.0 in c:\\py\\lib\\site-packages (from matplotlib) (20.4)\n",
      "Requirement already satisfied, skipping upgrade: contourpy>=1.0.1 in c:\\py\\lib\\site-packages (from matplotlib) (1.0.6)\n",
      "Requirement already satisfied, skipping upgrade: pillow>=6.2.0 in c:\\py\\lib\\site-packages (from matplotlib) (7.2.0)\n",
      "Requirement already satisfied, skipping upgrade: fonttools>=4.22.0 in c:\\py\\lib\\site-packages (from matplotlib) (4.38.0)\n",
      "Requirement already satisfied, skipping upgrade: kiwisolver>=1.0.1 in c:\\py\\lib\\site-packages (from matplotlib) (1.2.0)\n",
      "Requirement already satisfied, skipping upgrade: six in c:\\py\\lib\\site-packages (from cycler>=0.10->matplotlib) (1.15.0)\n",
      "Requirement already satisfied, skipping upgrade: zipp>=3.1.0; python_version < \"3.10\" in c:\\py\\lib\\site-packages (from importlib-resources>=3.2.0; python_version < \"3.10\"->matplotlib) (3.1.0)\n",
      "Installing collected packages: scikit-learn, importlib-resources, matplotlib\n",
      "  Attempting uninstall: scikit-learn\n",
      "    Found existing installation: scikit-learn 1.1.3\n",
      "    Uninstalling scikit-learn-1.1.3:\n",
      "      Successfully uninstalled scikit-learn-1.1.3\n",
      "  Attempting uninstall: matplotlib\n",
      "    Found existing installation: matplotlib 3.6.2\n",
      "    Uninstalling matplotlib-3.6.2:\n",
      "      Successfully uninstalled matplotlib-3.6.2\n"
     ]
    },
    {
     "name": "stderr",
     "output_type": "stream",
     "text": [
      "ERROR: Could not install packages due to an EnvironmentError: [WinError 5] Access is denied: 'C:\\\\py\\\\Lib\\\\site-packages\\\\~-tplotlib\\\\ft2font.cp38-win_amd64.pyd'\n",
      "Consider using the `--user` option or check the permissions.\n",
      "\n"
     ]
    },
    {
     "name": "stdout",
     "output_type": "stream",
     "text": [
      "Requirement already satisfied: RadViz-Plotly in c:\\py\\lib\\site-packages (0.0.5)\n"
     ]
    }
   ],
   "source": [
    "# #Reference:https://stackoverflow.com/questions/12332975/installing-python-module-within-code\n",
    "# def install_and_import(package):\n",
    "#     import importlib\n",
    "#     try:\n",
    "#         importlib.import_module(package)\n",
    "#     except ImportError:\n",
    "#         import pip\n",
    "#         pip.main(['install', package])\n",
    "#     finally:\n",
    "#         globals()[package] = importlib.import_module(package)\n",
    "\n",
    "\n",
    "# install_and_import('plotly')\n",
    "# install_and_import('numpy')\n",
    "# install_and_import('pandas')\n",
    "# install_and_import('matplotlib')\n",
    "# install_and_import('sklearn')\n",
    "# install_and_import('RadViz-Plotly')  this function doesn't work with the released packge\n",
    "\n",
    "import importlib\n",
    "import pip\n",
    "\n",
    "def import_or_install(package):\n",
    "    try:\n",
    "        __import__(package)\n",
    "    except:\n",
    "        import sys\n",
    "        import subprocess\n",
    "        subprocess.check_call([sys.executable, '-m', 'pip', 'install', package])\n",
    "        __import__(package)\n",
    "    finally:\n",
    "        globals()[package] = importlib.import_module(package)\n",
    "        \n",
    "\n",
    "packages=['plotly','numpy','pandas','matplotlib'] \n",
    "#we found the error of impoting at the name of folder RadViz-plotly and Radviz\n",
    "for i in packages:\n",
    "    import_or_install(i)\n",
    "\n",
    "\n",
    "!pip install -U scikit-learn scipy matplotlib\n",
    "!pip install RadViz-Plotly\n"
   ]
  },
  {
   "cell_type": "markdown",
   "metadata": {},
   "source": [
    "###  Iris Dataset\n",
    "###  Labels :Iris Setosa, Iris Versicolour, andIris Virginica"
   ]
  },
  {
   "cell_type": "code",
   "execution_count": 7,
   "metadata": {},
   "outputs": [],
   "source": [
    "# from RadViz import main\n",
    "from RadViz.main import RadViz2D\n",
    "from RadViz.main import RadViz3D\n",
    "import pandas as pd\n",
    "import time\n",
    "import plotly.io as pio\n",
    "pio.renderers.default='iframe'"
   ]
  },
  {
   "cell_type": "code",
   "execution_count": 8,
   "metadata": {},
   "outputs": [],
   "source": [
    "data= pd.read_csv('iris.csv')\n",
    "y=data['Species']\n",
    "X=data.drop(['Species'], axis=1)"
   ]
  },
  {
   "cell_type": "code",
   "execution_count": 9,
   "metadata": {},
   "outputs": [
    {
     "data": {
      "text/html": [
       "<iframe\n",
       "    scrolling=\"no\"\n",
       "    width=\"100%\"\n",
       "    height=\"545px\"\n",
       "    src=\"iframe_figures/figure_9.html\"\n",
       "    frameborder=\"0\"\n",
       "    allowfullscreen\n",
       "></iframe>\n"
      ]
     },
     "metadata": {},
     "output_type": "display_data"
    },
    {
     "name": "stdout",
     "output_type": "stream",
     "text": [
      "RadViz3D done! Time elapsed: 0.8129768371582031 seconds\n"
     ]
    }
   ],
   "source": [
    "BPs=10000\n",
    "time_start = time.time()\n",
    "RadViz3D(y,X,BPs)\n",
    "print( 'RadViz3D done! Time elapsed: {} seconds'.format(time.time()-time_start))"
   ]
  },
  {
   "cell_type": "code",
   "execution_count": 10,
   "metadata": {},
   "outputs": [
    {
     "data": {
      "text/html": [
       "<iframe\n",
       "    scrolling=\"no\"\n",
       "    width=\"1020px\"\n",
       "    height=\"1020\"\n",
       "    src=\"iframe_figures/figure_10.html\"\n",
       "    frameborder=\"0\"\n",
       "    allowfullscreen\n",
       "></iframe>\n"
      ]
     },
     "metadata": {},
     "output_type": "display_data"
    },
    {
     "name": "stdout",
     "output_type": "stream",
     "text": [
      "RadViz2D done! Time elapsed: 1.3015987873077393 seconds\n"
     ]
    }
   ],
   "source": [
    "BPs=1000\n",
    "time_start = time.time()\n",
    "RadViz2D(y,X,BPs)\n",
    "print( 'RadViz2D done! Time elapsed: {} seconds'.format(time.time()-time_start))"
   ]
  },
  {
   "cell_type": "code",
   "execution_count": null,
   "metadata": {},
   "outputs": [],
   "source": []
  },
  {
   "cell_type": "code",
   "execution_count": null,
   "metadata": {},
   "outputs": [],
   "source": []
  }
 ],
 "metadata": {
  "kernelspec": {
   "display_name": "Python 3",
   "language": "python",
   "name": "python3"
  },
  "language_info": {
   "codemirror_mode": {
    "name": "ipython",
    "version": 3
   },
   "file_extension": ".py",
   "mimetype": "text/x-python",
   "name": "python",
   "nbconvert_exporter": "python",
   "pygments_lexer": "ipython3",
   "version": "3.8.3"
  }
 },
 "nbformat": 4,
 "nbformat_minor": 2
}
